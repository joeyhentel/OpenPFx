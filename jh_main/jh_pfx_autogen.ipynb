{
 "cells": [
  {
   "cell_type": "code",
   "execution_count": null,
   "id": "496d81af-704f-4867-a0d2-9f513976ea0b",
   "metadata": {},
   "outputs": [],
   "source": [
    "# import necessary libraries \n",
    "import pandas as pd\n",
    "import os\n",
    "import textstat\n",
    "from openai import OpenAI\n",
    "import json\n",
    "import re\n",
    "import requests\n",
    "from dotenv import load_dotenv\n",
    "import math"
   ]
  },
  {
   "cell_type": "code",
   "execution_count": null,
   "id": "ea9535c2-2877-40ea-a248-c1ecb66e963f",
   "metadata": {},
   "outputs": [],
   "source": [
    "# import autogen\n",
    "import autogen\n",
    "from autogen import ConversableAgent"
   ]
  },
  {
   "cell_type": "code",
   "execution_count": null,
   "id": "5f758715-1bcc-4565-ae41-624c5c3d9213",
   "metadata": {},
   "outputs": [],
   "source": [
    "os.environ['OPENAI_API_KEY'] = ''"
   ]
  },
  {
   "cell_type": "code",
   "execution_count": null,
   "id": "2ea6cac3-b6f5-4f71-af4f-4a49ac538498",
   "metadata": {},
   "outputs": [],
   "source": [
    "OPENAI_API_KEY = os.getenv('OPENAI_API_KEY')\n",
    "CLIENT = OpenAI(api_key = OPENAI_API_KEY)\n",
    "OPENAI_MODEL = \"gpt-3.5-turbo\""
   ]
  },
  {
   "cell_type": "code",
   "execution_count": null,
   "id": "9d6984a5-0336-41fe-95d9-f2202a67ab51",
   "metadata": {},
   "outputs": [],
   "source": [
    "llm_config={\"model\": OPENAI_MODEL}"
   ]
  },
  {
   "cell_type": "code",
   "execution_count": null,
   "id": "6c8c2b02-9b38-45e2-8480-707662244798",
   "metadata": {},
   "outputs": [],
   "source": [
    "# import prompts\n",
    "from jh_pfx_prompts import example, icd10_example, baseline_zeroshot_prompt, single_fewshot_icd10_labeling_prompt, doctor_prompt, readability_checker_prompt"
   ]
  },
  {
   "cell_type": "code",
   "execution_count": null,
   "id": "a74de534-a40b-4edc-8502-90c2c4befb3c",
   "metadata": {},
   "outputs": [],
   "source": [
    "#reading levels\n",
    "PROFESSIONAL = \"Professional\"\n",
    "COLLEGE_GRADUATE = \"College Graduate\"\n",
    "COLLEGE = \"College\"\n",
    "TENTH_TO_TWELTH_GRADE = \"10th to 12th grade\"\n",
    "EIGTH_TO_NINTH_GRADE = \"8th to 9th grade\"\n",
    "SEVENTH_GRADE = \"7th grade\"\n",
    "SIXTH_GRADE = \"6th grade\"\n",
    "FIFTH_GRADE = \"5th grade\"\n",
    "N_A = \"N/A\""
   ]
  },
  {
   "cell_type": "code",
   "execution_count": null,
   "id": "4184d89b-e139-4329-8643-09e38c44fd1f",
   "metadata": {},
   "outputs": [],
   "source": [
    "df_eval = pd.read_csv('pfx_evaluation_data.csv')"
   ]
  },
  {
   "cell_type": "code",
   "execution_count": null,
   "id": "9e7bb4da-cd30-4f2c-b6ff-0ce11c16af33",
   "metadata": {},
   "outputs": [],
   "source": [
    "# create writer, doctor, readability checker, and user agents \n",
    "for i, row in df_eval.iloc[4:5].iterrows():\n",
    "    writer = ConversableAgent(\n",
    "        name = \"Writer\",\n",
    "        system_message = baseline_zeroshot_prompt.format(Incidental_Finding = row['Incidental_Finding'], Reading_Level = SIXTH_GRADE),\n",
    "        llm_config = llm_config,\n",
    "        code_execution_config = False,\n",
    "        human_input_mode = \"NEVER\",\n",
    "    )\n",
    "    \n",
    "    doctor = ConversableAgent( \n",
    "        name = \"Doctor\",\n",
    "        system_message = doctor_prompt.format(Incidental_Finding = row['Incidental_Finding'], ICD10_code = row[\"ICD10_code\"]),\n",
    "        llm_config = llm_config,\n",
    "        code_execution_config = False,\n",
    "        human_input_mode = \"NEVER\",\n",
    "    ) \n",
    "    \n",
    "    readability_checker = ConversableAgent(\n",
    "        name = \"Readability_Checker\",\n",
    "        system_message = readability_checker_prompt.format(reading_level = SIXTH_GRADE),\n",
    "        llm_config = llm_config,\n",
    "        code_execution_config = False,\n",
    "        human_input_mode = \"NEVER\",\n",
    "    )\n",
    "    \n",
    "\n"
   ]
  },
  {
   "cell_type": "code",
   "execution_count": null,
   "id": "fa5451dd-45ad-49bb-a71e-ab031b8789b7",
   "metadata": {},
   "outputs": [],
   "source": [
    "def state_transition(last_speaker, groupchat):\n",
    "    messages = groupchat.messages\n",
    "\n",
    "    if last_speaker is manager:\n",
    "        return writer\n",
    "    elif last_speaker is writer:\n",
    "        return doctor\n",
    "    elif last_speaker is doctor:\n",
    "        if \"INACCURATE\" in messages[-1][\"content\"]:\n",
    "            return writer \n",
    "        else:\n",
    "            return readability_checker\n",
    "    elif last_speaker is readability_checker:\n",
    "        if \"All done!\" in messages[-1][\"content\"]:\n",
    "            return None \n",
    "        else:\n",
    "            return writer"
   ]
  },
  {
   "cell_type": "code",
   "execution_count": null,
   "id": "1d226a24-e784-4ee9-8058-0a4290447b2c",
   "metadata": {},
   "outputs": [],
   "source": [
    "# create agent groupchat\n",
    "groupchat = autogen.GroupChat(\n",
    "    agents = [writer, doctor, readability_checker],\n",
    "    messages = [],\n",
    "    max_round = 20,\n",
    "    speaker_selection_method = state_transition,\n",
    ")\n",
    "\n",
    "manager = autogen.GroupChatManager(\n",
    "    groupchat = groupchat, llm_config = llm_config,\n",
    ")"
   ]
  },
  {
   "cell_type": "code",
   "execution_count": null,
   "id": "2a3a97a2-d520-4875-b7d2-b70b121a1b68",
   "metadata": {
    "scrolled": true
   },
   "outputs": [],
   "source": [
    "groupchat_result = manager.initiate_chat(manager, message = \"\"\"Please follow your system messages to play your role in \n",
    "generating a patient friendly explanation of an inicidental MRI finding.\"\"\") "
   ]
  }
 ],
 "metadata": {
  "kernelspec": {
   "display_name": "Python 3 (ipykernel)",
   "language": "python",
   "name": "python3"
  },
  "language_info": {
   "codemirror_mode": {
    "name": "ipython",
    "version": 3
   },
   "file_extension": ".py",
   "mimetype": "text/x-python",
   "name": "python",
   "nbconvert_exporter": "python",
   "pygments_lexer": "ipython3",
   "version": "3.12.5"
  }
 },
 "nbformat": 4,
 "nbformat_minor": 5
}
