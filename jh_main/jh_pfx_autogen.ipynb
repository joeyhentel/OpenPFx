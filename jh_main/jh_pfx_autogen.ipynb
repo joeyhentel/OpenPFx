{
 "cells": [
  {
   "cell_type": "code",
   "execution_count": null,
   "id": "496d81af-704f-4867-a0d2-9f513976ea0b",
   "metadata": {},
   "outputs": [],
   "source": [
    "# import necessary libraries \n",
    "import pandas as pd\n",
    "import os\n",
    "import textstat\n",
    "from openai import OpenAI\n",
    "import json\n",
    "import re\n",
    "import requests\n",
    "from dotenv import load_dotenv\n",
    "import math"
   ]
  },
  {
   "cell_type": "code",
   "execution_count": null,
   "id": "ea9535c2-2877-40ea-a248-c1ecb66e963f",
   "metadata": {},
   "outputs": [],
   "source": [
    "# import autogen\n",
    "import autogen\n",
    "from autogen import ConversableAgent"
   ]
  },
  {
   "cell_type": "code",
   "execution_count": null,
   "id": "5f758715-1bcc-4565-ae41-624c5c3d9213",
   "metadata": {},
   "outputs": [],
   "source": [
    "os.environ['OPENAI_API_KEY'] = \"\""
   ]
  },
  {
   "cell_type": "code",
   "execution_count": null,
   "id": "2ea6cac3-b6f5-4f71-af4f-4a49ac538498",
   "metadata": {},
   "outputs": [],
   "source": [
    "OPENAI_API_KEY = os.getenv('OPENAI_API_KEY')\n",
    "CLIENT = OpenAI(api_key = OPENAI_API_KEY)\n",
    "OPENAI_MODEL = \"gpt-4o\""
   ]
  },
  {
   "cell_type": "code",
   "execution_count": null,
   "id": "9d6984a5-0336-41fe-95d9-f2202a67ab51",
   "metadata": {},
   "outputs": [],
   "source": [
    "llm_config={\"model\": OPENAI_MODEL}"
   ]
  },
  {
   "cell_type": "code",
   "execution_count": null,
   "id": "6c8c2b02-9b38-45e2-8480-707662244798",
   "metadata": {},
   "outputs": [],
   "source": [
    "# import prompts\n",
    "from jh_pfx_prompts import example, icd10_example, single_fewshot_icd10_labeling_prompt, writer_prompt,doctor_prompt, readability_checker_prompt, ICD10_LABELER_INSTRUCTION"
   ]
  },
  {
   "cell_type": "code",
   "execution_count": null,
   "id": "a74de534-a40b-4edc-8502-90c2c4befb3c",
   "metadata": {},
   "outputs": [],
   "source": [
    "#reading levels\n",
    "PROFESSIONAL = \"Professional\"\n",
    "COLLEGE_GRADUATE = \"College Graduate\"\n",
    "COLLEGE = \"College\"\n",
    "TENTH_TO_TWELTH_GRADE = \"10th to 12th grade\"\n",
    "EIGTH_TO_NINTH_GRADE = \"8th to 9th grade\"\n",
    "SEVENTH_GRADE = \"7th grade\"\n",
    "SIXTH_GRADE = \"6th grade\"\n",
    "FIFTH_GRADE = \"5th grade\"\n",
    "N_A = \"N/A\""
   ]
  },
  {
   "cell_type": "code",
   "execution_count": null,
   "id": "aeed297b-0955-4cda-ac63-0b1d43c54791",
   "metadata": {},
   "outputs": [],
   "source": [
    "# reading ease variables\n",
    "fifth_grade = 95\n",
    "sixth_grade = 85\n",
    "seventh_grade = 75\n",
    "eigth_and_ninth_grade = 65\n",
    "tenth_to_twelfth_grade = 55\n",
    "college = 40\n",
    "college_graduate = 20\n",
    "professional = 5"
   ]
  },
  {
   "cell_type": "code",
   "execution_count": null,
   "id": "02ba2037-ff02-4ab3-9551-f39483aafcc6",
   "metadata": {},
   "outputs": [],
   "source": [
    "def adjust_difference(diff, threshold):\n",
    "    \"\"\"Adjust the readability difference based on the threshold.\"\"\"\n",
    "    if diff > threshold:\n",
    "        return diff - threshold\n",
    "    return 0"
   ]
  },
  {
   "cell_type": "code",
   "execution_count": null,
   "id": "c187eb0f-0aa0-4dd8-ae44-9d0dae25bed2",
   "metadata": {},
   "outputs": [],
   "source": [
    "def extract_json_gpt3(groupchat):\n",
    "    \"\"\"\n",
    "    Extracts the first valid JSON object found within the 'content' of the\n",
    "    messages in a groupchat. By default, this searches from the last message\n",
    "    to the first so you get the most recent JSON, but you can reverse that\n",
    "    logic if desired.\n",
    "    \"\"\"\n",
    "    # Go in reverse order so you get the most recent JSON first\n",
    "    for msg in reversed(groupchat.messages):\n",
    "        content = msg.get(\"content\", \"\")\n",
    "        # Attempt to parse content as JSON\n",
    "        try:\n",
    "            data = json.loads(content)\n",
    "            return data\n",
    "        except (json.JSONDecodeError, TypeError):\n",
    "            # If this message isn't valid JSON, just continue\n",
    "            pass\n",
    "\n",
    "    # If no message contains valid JSON, return None\n",
    "    return None\n"
   ]
  },
  {
   "cell_type": "code",
   "execution_count": null,
   "id": "e4e36ee0-2a7e-4728-b466-27c41a602417",
   "metadata": {},
   "outputs": [],
   "source": [
    "import unicodedata\n",
    "\n",
    "def extract_json_gpt4o(groupchat):\n",
    "    \"\"\"\n",
    "    Extracts the first valid JSON object from the 'content' of messages,\n",
    "    handling GPT-4o's potential formatting quirks.\n",
    "    \"\"\"\n",
    "    for msg in reversed(groupchat.messages):\n",
    "        content = msg.get(\"content\", \"\").strip()\n",
    "\n",
    "        # Normalize encoding\n",
    "        content = unicodedata.normalize(\"NFKC\", content)\n",
    "\n",
    "        # Remove markdown blocks if they exist\n",
    "        content = re.sub(r\"```json|```\", \"\", content).strip()\n",
    "\n",
    "        # Try direct JSON parsing first\n",
    "        try:\n",
    "            return json.loads(content)\n",
    "        except json.JSONDecodeError:\n",
    "            pass  # Continue if direct parsing fails\n",
    "\n",
    "        # Extract JSON from mixed text\n",
    "        json_match = re.search(r\"\\{.*?\\}\", content, re.DOTALL)\n",
    "        if json_match:\n",
    "            try:\n",
    "                return json.loads(json_match.group(0))\n",
    "            except json.JSONDecodeError:\n",
    "                pass  # Continue if regex extraction fails\n",
    "\n",
    "    return None\n"
   ]
  },
  {
   "cell_type": "code",
   "execution_count": null,
   "id": "c1ea6bcd-327a-4160-8156-e2434e0f39fd",
   "metadata": {},
   "outputs": [],
   "source": [
    "def label_icd10s(pfx_outputs_json):\n",
    "    # Build few-shot examples from a DataFrame (assumes df_fewshot and icd10_example exist)\n",
    "    pfx_icd10_fewshot_examples = \"\"\n",
    "    for i, row in df_fewshot.iterrows():\n",
    "        pfx_icd10_fewshot_examples += icd10_example.format(**row)\n",
    "\n",
    "    pfx_icd10_codes = []\n",
    "    for pfx_output in pfx_outputs_json:\n",
    "        try:\n",
    "            prompt = single_fewshot_icd10_labeling_prompt.format(\n",
    "                examples=pfx_icd10_fewshot_examples,\n",
    "                PFx=pfx_output['PFx']\n",
    "            )\n",
    "        except Exception as e:\n",
    "            print(\"ERROR: %s\" % pfx_output)\n",
    "            return\n",
    "\n",
    "        response = CLIENT.chat.completions.create(\n",
    "            model=OPENAI_MODEL,\n",
    "            temperature=0.0,\n",
    "            messages=[\n",
    "                {\"role\": \"system\", \"content\": \"You are an ICD10 medical coder for incidental findings.\"},\n",
    "                {\"role\": \"system\", \"content\": prompt}\n",
    "            ],\n",
    "            stream=False,\n",
    "        )\n",
    "        \n",
    "        # Create a simple wrapper object with a 'messages' attribute as a list of dictionaries.\n",
    "        wrapper = type(\"Wrapper\", (), {})()\n",
    "        # Convert the ChatCompletionMessage to a dictionary.\n",
    "        wrapper.messages = [{\n",
    "            \"role\": response.choices[0].message.role,\n",
    "            \"content\": response.choices[0].message.content\n",
    "        }]\n",
    "        \n",
    "        pfx_icd10_codes.append(wrapper)\n",
    "    \n",
    "    return list(map(extract_json, pfx_icd10_codes))\n"
   ]
  },
  {
   "cell_type": "code",
   "execution_count": null,
   "id": "25c51639-ba43-4516-b938-db2f619a201f",
   "metadata": {},
   "outputs": [],
   "source": [
    "def get_last_agent_response(messages, agent_name):\n",
    "    for message in messages:\n",
    "        if message['name'] == agent_name:\n",
    "            return message[\"content\"]\n",
    "    return None"
   ]
  },
  {
   "cell_type": "code",
   "execution_count": null,
   "id": "4184d89b-e139-4329-8643-09e38c44fd1f",
   "metadata": {},
   "outputs": [],
   "source": [
    "df_eval = pd.read_csv('pfx_evaluation_data.csv')"
   ]
  },
  {
   "cell_type": "code",
   "execution_count": null,
   "id": "e048453c-fe17-430e-ad14-1487932b84b4",
   "metadata": {},
   "outputs": [],
   "source": [
    "# import fewshot examples\n",
    "df_fewshot = pd.read_csv('pfx_fewshot_examples_college.csv')"
   ]
  },
  {
   "cell_type": "code",
   "execution_count": null,
   "id": "9e7bb4da-cd30-4f2c-b6ff-0ce11c16af33",
   "metadata": {},
   "outputs": [],
   "source": [
    "# create writer, doctor, readability checker, and user agents \n",
    "for i, row in df_eval.iloc[4:5].iterrows():\n",
    "    writer = ConversableAgent(\n",
    "        name = \"Writer\",\n",
    "        system_message = writer_prompt.format(Incidental_Finding = row['Incidental_Finding'], Reading_Level = SIXTH_GRADE),\n",
    "        llm_config = llm_config,\n",
    "        code_execution_config = False,\n",
    "        human_input_mode = \"NEVER\",\n",
    "    )\n",
    "    \n",
    "    doctor = ConversableAgent( \n",
    "        name = \"Doctor\",\n",
    "        system_message = doctor_prompt.format(Incidental_Finding = row['Incidental_Finding'], ICD10_code = row[\"ICD10_code\"]),\n",
    "        llm_config = llm_config,\n",
    "        code_execution_config = False,\n",
    "        human_input_mode = \"NEVER\",\n",
    "    ) \n",
    "    \n",
    "    readability_checker = ConversableAgent(\n",
    "        name = \"Readability_Checker\",\n",
    "        system_message = readability_checker_prompt.format(reading_level = SIXTH_GRADE),\n",
    "        llm_config = llm_config,\n",
    "        code_execution_config = False,\n",
    "        human_input_mode = \"NEVER\",\n",
    "    )\n",
    "\n",
    "    icd10_labeler = ConversableAgent(\n",
    "        name = \"ICD10_Labeler\",\n",
    "        system_message = ICD10_LABELER_INSTRUCTION,\n",
    "        llm_config = llm_config,\n",
    "        code_execution_config = False,\n",
    "        human_input_mode = \"NEVER\",\n",
    "    )\n",
    "    \n",
    "\n"
   ]
  },
  {
   "cell_type": "code",
   "execution_count": null,
   "id": "fa5451dd-45ad-49bb-a71e-ab031b8789b7",
   "metadata": {},
   "outputs": [],
   "source": [
    "def state_transition(last_speaker, groupchat):\n",
    "    messages = groupchat.messages\n",
    "\n",
    "    if last_speaker is manager:\n",
    "        return writer\n",
    "    elif last_speaker is writer:\n",
    "        return icd10_labeler \n",
    "    elif last_speaker is icd10_labeler:\n",
    "        return doctor\n",
    "    elif last_speaker is doctor:\n",
    "        if \"INACCURATE\" in messages[-1][\"content\"]:\n",
    "            return writer \n",
    "        else:\n",
    "            return readability_checker\n",
    "    elif last_speaker is readability_checker:\n",
    "        if \"All done!\" in messages[-1][\"content\"]:\n",
    "            return None \n",
    "        else:\n",
    "            return writer"
   ]
  },
  {
   "cell_type": "code",
   "execution_count": null,
   "id": "1d226a24-e784-4ee9-8058-0a4290447b2c",
   "metadata": {},
   "outputs": [],
   "source": [
    "# create agent groupchat\n",
    "groupchat = autogen.GroupChat(\n",
    "    agents = [writer, icd10_labeler, doctor, readability_checker],\n",
    "    messages = [],\n",
    "    max_round = 20,\n",
    "    speaker_selection_method = state_transition,\n",
    ")\n",
    "\n",
    "manager = autogen.GroupChatManager(\n",
    "    groupchat = groupchat, llm_config = llm_config,\n",
    ")"
   ]
  },
  {
   "cell_type": "code",
   "execution_count": null,
   "id": "2a3a97a2-d520-4875-b7d2-b70b121a1b68",
   "metadata": {
    "scrolled": true
   },
   "outputs": [],
   "source": [
    "groupchat_result = manager.initiate_chat(manager, message = \"\"\"Please play your specified role in \n",
    "generating a patient friendly explanation of an inicidental MRI finding.\"\"\") "
   ]
  },
  {
   "cell_type": "code",
   "execution_count": null,
   "id": "29e74c0b-2022-420e-80af-3cbd851a58cb",
   "metadata": {},
   "outputs": [],
   "source": [
    "chat = extract_json_gpt4o(groupchat)"
   ]
  },
  {
   "cell_type": "code",
   "execution_count": null,
   "id": "38b2d595-8230-4dbb-86cd-9c5fc12514b1",
   "metadata": {},
   "outputs": [],
   "source": [
    "chat"
   ]
  },
  {
   "cell_type": "code",
   "execution_count": null,
   "id": "a40d93c7-d2c2-4abf-a6d1-fdb9db8f67e2",
   "metadata": {},
   "outputs": [],
   "source": [
    "result = pd.DataFrame([chat])"
   ]
  },
  {
   "cell_type": "code",
   "execution_count": null,
   "id": "8dffa5e2-4cf8-4dab-94ff-e38f162146c9",
   "metadata": {},
   "outputs": [],
   "source": [
    "result"
   ]
  },
  {
   "cell_type": "code",
   "execution_count": null,
   "id": "aad4dea7-1343-4dbc-abd3-4c714faf7014",
   "metadata": {},
   "outputs": [],
   "source": [
    "result_icd10_labels = label_icd10s([chat])"
   ]
  },
  {
   "cell_type": "code",
   "execution_count": null,
   "id": "f59b4006-03c7-4b5f-b890-a704e07a4657",
   "metadata": {},
   "outputs": [],
   "source": [
    "result_icd10_labels"
   ]
  },
  {
   "cell_type": "code",
   "execution_count": null,
   "id": "40a4ecb8-5b6a-4aeb-a0b8-96c71b14b195",
   "metadata": {},
   "outputs": [],
   "source": [
    "result['_0_agent_icd10_codes'] = list(map(lambda x: list(x.values())[0] if x else \"\", result_icd10_labels))\n",
    "result[\"_0_icd10_matches\"]= result.ICD10_code == result._0_agent_icd10_codes\n",
    "result[\"_0_pfx_icd10_matches\"] = result.ICD10_code == result[\"PFx_ICD10_code\"] \n",
    "result[\"_0_flesch\"] = result['PFx'].apply(textstat.flesch_reading_ease)"
   ]
  },
  {
   "cell_type": "code",
   "execution_count": null,
   "id": "2562f628-5e22-48ab-93cf-c02bb21173cd",
   "metadata": {},
   "outputs": [],
   "source": [
    "desired_reading_ease = sixth_grade\n",
    "# Calculate threshold for penalty\n",
    "if desired_reading_ease >= 55:\n",
    "    threshold = 10\n",
    "else:\n",
    "    threshold = 20\n",
    "\n",
    "# Calculate accuracy score\n",
    "accuracy_icd10_matches = sum(result[\"_0_icd10_matches\"]) / len(result.index)\n",
    "accuracy_pfx_matches = sum(result[\"_0_pfx_icd10_matches\"]) / len(result.index)\n",
    "\n",
    "# Extract scalar value for flesch_score (assuming result[\"_0_flesch\"] is a Series)\n",
    "flesch_score_scalar = result[\"_0_flesch\"].iloc[0]\n",
    "\n",
    "# Adjust weights for overall score \n",
    "total_icd10_matches = accuracy_icd10_matches + accuracy_pfx_matches\n",
    "\n",
    "# Calculate readability score \n",
    "readability_difference = abs(flesch_score_scalar - desired_reading_ease)\n",
    "\n",
    "# Compute the overall score\n",
    "overall_score = total_icd10_matches * 0.8 + 0.2 * (1 / (readability_difference + 1))\n",
    "\n",
    "# Calculate readability score using scalar value\n",
    "readability_difference_log = desired_reading_ease - flesch_score_scalar\n",
    "if readability_difference_log <= threshold:  # No penalty if difference is within the threshold\n",
    "    readability_difference_p = 0\n",
    "else:  # Apply penalty only if readability exceeds the threshold\n",
    "    readability_difference_with_threshold = readability_difference_log - threshold\n",
    "    readability_difference_p = math.log(1 + readability_difference_with_threshold) / math.log(20)\n",
    "\n",
    "log_overall_score = total_icd10_matches * 0.8 + readability_difference_log * 0.2\n",
    "\n",
    "grades_data = []\n",
    "grades_data.append({\n",
    "    \"accuracy_agent_icd10\": float(accuracy_icd10_matches),\n",
    "    \"accuracy_pfx_icd10\": float(accuracy_pfx_matches),\n",
    "    \"readability_difference\": readability_difference, \n",
    "    \"overall_score\": overall_score,  \n",
    "    \"log_overall_score\": log_overall_score,  \n",
    "})\n",
    "grades = pd.DataFrame(grades_data)\n",
    "result = pd.concat([result, grades], axis=1)\n"
   ]
  },
  {
   "cell_type": "code",
   "execution_count": null,
   "id": "2b30cb96-8218-4d19-ba30-81ee6966e51d",
   "metadata": {},
   "outputs": [],
   "source": [
    "grades"
   ]
  },
  {
   "cell_type": "code",
   "execution_count": null,
   "id": "e6d3c54c-7fe4-476f-85c4-c57edbb2d63a",
   "metadata": {},
   "outputs": [],
   "source": [
    "result"
   ]
  }
 ],
 "metadata": {
  "kernelspec": {
   "display_name": "Python 3 (ipykernel)",
   "language": "python",
   "name": "python3"
  },
  "language_info": {
   "codemirror_mode": {
    "name": "ipython",
    "version": 3
   },
   "file_extension": ".py",
   "mimetype": "text/x-python",
   "name": "python",
   "nbconvert_exporter": "python",
   "pygments_lexer": "ipython3",
   "version": "3.12.5"
  }
 },
 "nbformat": 4,
 "nbformat_minor": 5
}
