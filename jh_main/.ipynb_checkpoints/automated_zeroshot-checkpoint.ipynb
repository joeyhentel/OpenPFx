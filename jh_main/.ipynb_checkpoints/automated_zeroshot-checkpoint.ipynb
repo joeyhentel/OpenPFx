{
 "cells": [
  {
   "cell_type": "code",
   "execution_count": null,
   "id": "b637444c-7243-4171-826f-99b476a0e4f3",
   "metadata": {},
   "outputs": [],
   "source": [
    "# import necessary libraries\n",
    "import pandas as pd\n",
    "import os\n",
    "import textstat\n",
    "from openai import OpenAI\n",
    "import json\n",
    "import re\n",
    "import requests\n",
    "from dotenv import load_dotenv\n",
    "import math\n",
    "from IPython.display import FileLink"
   ]
  },
  {
   "cell_type": "code",
   "execution_count": null,
   "id": "c2343793-f54f-4d5e-916a-47e8b1ac56c1",
   "metadata": {},
   "outputs": [],
   "source": [
    "# import prompts \n",
    "from jh_pfx_prompts import example, icd10_example, baseline_zeroshot_prompt, single_fewshot_icd10_labeling_prompt"
   ]
  },
  {
   "cell_type": "code",
   "execution_count": null,
   "id": "5e852a59-345c-42e2-a719-92db7939de22",
   "metadata": {},
   "outputs": [],
   "source": [
    "os.environ['OPENAI_API_KEY'] = ''"
   ]
  },
  {
   "cell_type": "code",
   "execution_count": null,
   "id": "600530e5-4b76-46bc-8817-b765f9c43738",
   "metadata": {},
   "outputs": [],
   "source": [
    "# api key\n",
    "OPENAI_API_KEY = os.getenv('OPENAI_API_KEY')\n",
    "CLIENT = OpenAI(api_key = OPENAI_API_KEY)\n",
    "OPENAI_MODEL = \"gpt-4o\""
   ]
  },
  {
   "cell_type": "code",
   "execution_count": null,
   "id": "4c4ff69c-b1b7-4efa-85a8-25002a1efa0a",
   "metadata": {},
   "outputs": [],
   "source": [
    "#reading levels\n",
    "PROFESSIONAL = \"Professional\"\n",
    "COLLEGE_GRADUATE = \"College Graduate\"\n",
    "COLLEGE = \"College\"\n",
    "TENTH_TO_TWELTH_GRADE = \"10th to 12th grade\"\n",
    "EIGTH_TO_NINTH_GRADE = \"8th to 9th grade\"\n",
    "SEVENTH_GRADE = \"7th grade\"\n",
    "SIXTH_GRADE = \"6th grade\"\n",
    "FIFTH_GRADE = \"5th grade\"\n",
    "N_A = \"N/A\""
   ]
  },
  {
   "cell_type": "code",
   "execution_count": null,
   "id": "8e10ae0e-6a81-453e-8550-6c19c92236bc",
   "metadata": {},
   "outputs": [],
   "source": [
    "# https://en.wikipedia.org/wiki/Flesch%E2%80%93Kincaid_readability_tests#Flesch_reading_ease\n",
    "def map_reading_level(flesch_reading_ease):\n",
    "    if flesch_reading_ease < 10:\n",
    "        return PROFESSIONAL\n",
    "    elif 10.0 <= flesch_reading_ease < 30.0:\n",
    "        return COLLEGE_GRADUATE\n",
    "    elif 30.0 <= flesch_reading_ease < 50.0:\n",
    "        return COLLEGE\n",
    "    elif 50.0 <= flesch_reading_ease < 60.0:\n",
    "        return TENTH_TO_TWELTH_GRADE\n",
    "    elif 60.0 <= flesch_reading_ease < 70.0:\n",
    "        return EIGTH_TO_NINTH_GRADE\n",
    "    elif 70.0 <= flesch_reading_ease < 80.0:\n",
    "        return SEVENTH_GRADE\n",
    "    elif 80.0 <= flesch_reading_ease < 90.0:\n",
    "        return SIXTH_GRADE\n",
    "    elif 90.0 <= flesch_reading_ease < 100.0:\n",
    "        return FIFTH_GRADE \n",
    "    else:\n",
    "        return N_A"
   ]
  },
  {
   "cell_type": "code",
   "execution_count": null,
   "id": "66d499fa-9973-4b42-b2d7-f515fe8193ae",
   "metadata": {},
   "outputs": [],
   "source": [
    "# reading ease variables\n",
    "fifth_grade = 95\n",
    "sixth_grade = 85\n",
    "seventh_grade = 75\n",
    "eigth_and_ninth_grade = 65\n",
    "tenth_to_twelfth_grade = 55\n",
    "college = 40\n",
    "college_graduate = 20\n",
    "professional = 5"
   ]
  },
  {
   "cell_type": "code",
   "execution_count": null,
   "id": "db1db4c4-eaf3-4983-8477-c179f03cae0e",
   "metadata": {},
   "outputs": [],
   "source": [
    "def adjust_difference(diff, threshold):\n",
    "    \"\"\"Adjust the readability difference based on the threshold.\"\"\"\n",
    "    if diff > threshold:\n",
    "        return diff - threshold\n",
    "    return 0"
   ]
  },
  {
   "cell_type": "code",
   "execution_count": null,
   "id": "4ea8da44-e2d3-4bdb-ab44-25d9f85484ff",
   "metadata": {},
   "outputs": [],
   "source": [
    "# import fewshot examples\n",
    "df_fewshot = pd.read_csv('pfx_fewshot_examples_college.csv')"
   ]
  },
  {
   "cell_type": "code",
   "execution_count": null,
   "id": "3f9e0267-ce06-4259-82b5-8e5182bd5fca",
   "metadata": {},
   "outputs": [],
   "source": [
    "# import evaluation data \n",
    "df_eval = pd.read_csv('pfx_evaluation_data.csv', nrows = 3)"
   ]
  },
  {
   "cell_type": "code",
   "execution_count": null,
   "id": "db9a34c5-1833-44ca-9cf4-cc69be93da88",
   "metadata": {},
   "outputs": [],
   "source": [
    "# extract the json from openai\n",
    "def extract_json(openai_response):\n",
    "    if openai_response:  # Ensure the response is not None\n",
    "        try:\n",
    "            # Extract content from response object\n",
    "            content = openai_response.message.content\n",
    "            \n",
    "            # Search for JSON within the content\n",
    "            json_match = re.search(r'```json\\n(.*?)\\n```', content, re.DOTALL)\n",
    "            if json_match:\n",
    "                json_str = json_match.group(1)\n",
    "                return json.loads(json_str)  # Parse JSON string to Python dict\n",
    "            else:\n",
    "                print(\"No JSON found in response content.\")\n",
    "                return None\n",
    "        except AttributeError as e:\n",
    "            print(f\"Attribute error: {e}. Ensure the input is a valid response object.\")\n",
    "            return None\n",
    "    else:\n",
    "        return None"
   ]
  },
  {
   "cell_type": "code",
   "execution_count": null,
   "id": "2f5378ab-d0b2-41dc-88c7-8afbbd9d65ea",
   "metadata": {},
   "outputs": [],
   "source": [
    "def label_icd10s(pfx_output):\n",
    "    \"\"\"\n",
    "    Takes a single PFx response (string or JSON) and returns\n",
    "    a labeled ICD-10 result as a Python dictionary (or object).\n",
    "    \"\"\"\n",
    "\n",
    "    # Build up the few-shot examples for ICD-10 labeling\n",
    "    pfx_icd10_fewshot_examples = \"\"\n",
    "    for i, row in df_fewshot.iterrows():\n",
    "        pfx_icd10_fewshot_examples += icd10_example.format(**row)\n",
    "\n",
    "    # Generate the prompt for ICD-10 labeling\n",
    "    # (Adjust the '{PFx}' if pfx_output is a dictionary with a specific key you need)\n",
    "    prompt = single_fewshot_icd10_labeling_prompt.format(\n",
    "        examples=pfx_icd10_fewshot_examples,\n",
    "        PFx=pfx_output  # or PFx=pfx_output['key'] if needed\n",
    "    )\n",
    "\n",
    "    # Call the model to get ICD-10 codes\n",
    "    pfx_icd10_response = CLIENT.chat.completions.create(\n",
    "        model=OPENAI_MODEL,\n",
    "        temperature=0.0,\n",
    "        messages=[\n",
    "            {\n",
    "                \"role\": \"system\",\n",
    "                \"content\": \"You are an ICD10 medical coder for incidental findings. Always respond with a valid JSON object containing the ICD-10 code and its explanation.\"\n",
    "            },\n",
    "            {\n",
    "                \"role\": \"system\",\n",
    "                \"content\": prompt\n",
    "            }\n",
    "        ],\n",
    "        stream=False,\n",
    "    )\n",
    "\n",
    "    # Extract the JSON structure (or dictionary) from the LLM response\n",
    "    labeled_result = extract_json(pfx_icd10_response.choices[0])\n",
    "\n",
    "    return labeled_result\n"
   ]
  },
  {
   "cell_type": "code",
   "execution_count": null,
   "id": "7595b7e0-263d-4d54-93c5-d63f68e9d368",
   "metadata": {},
   "outputs": [],
   "source": [
    "# empty list to store results\n",
    "results_df = pd.DataFrame(columns=[\"finding\", \"ICD10_code\", \"PFx\", \"PFx_ICD10_code\"])\n",
    "\n",
    "# generate each PFx for each row in df_eval\n",
    "for i, row in df_eval.iterrows():\n",
    "    prompt = baseline_zeroshot_prompt.format(Incidental_Finding=row['Incidental_Finding'], Reading_Level=SIXTH_GRADE)\n",
    "    \n",
    "    pfx_response = CLIENT.chat.completions.create(\n",
    "        model=OPENAI_MODEL,\n",
    "        temperature=0.0,\n",
    "        messages=[\n",
    "            {\"role\": \"system\", \"content\": \"You are a md doctor rephrasing and explaining medical terminology to a patient in an understandable manner.\"},\n",
    "            {\"role\": \"system\", \"content\": prompt}\n",
    "        ],\n",
    "        stream=False,\n",
    "    )\n",
    "    \n",
    "    # Extract the JSON from the response\n",
    "    extracted_response = extract_json(pfx_response.choices[0])\n",
    "    \n",
    "    # Append the result to the list\n",
    "    results_df.loc[i] = extracted_response"
   ]
  },
  {
   "cell_type": "code",
   "execution_count": null,
   "id": "58045fa2-cfef-4840-a71b-2591650de895",
   "metadata": {},
   "outputs": [],
   "source": [
    "results_df"
   ]
  },
  {
   "cell_type": "code",
   "execution_count": null,
   "id": "5106b7e8-d380-4da8-af13-f0f620aebd27",
   "metadata": {},
   "outputs": [],
   "source": [
    "# Create a new list to store the labeled ICD10 responses\n",
    "labeled_icd10_responses = []\n",
    "\n",
    "# Iterate over each response in pfx_zeroshot_output_all_df and apply the label_icd10s function\n",
    "for response in results_df['PFx']:\n",
    "    labeled_icd10_responses.append(label_icd10s(response))"
   ]
  },
  {
   "cell_type": "code",
   "execution_count": null,
   "id": "2bf411c7-d138-433c-8532-0ef389ebb10f",
   "metadata": {},
   "outputs": [],
   "source": [
    "# Create lists to store the results\n",
    "agent_icd10_codes = []\n",
    "icd10_matches = []\n",
    "pfx_icd10_matches = []\n",
    "flesch_scores = []\n",
    "\n",
    "agent_icd10_codes.extend([list(x.values())[0] if x else \"\" for x in labeled_icd10_responses])\n",
    "\n",
    "for index, row in results_df.iterrows():\n",
    "    # Compare to the \"ICD10_code\" in your DataFrame (if it exists)\n",
    "    agent_icd10_code = agent_icd10_codes[index]\n",
    "    icd10_match = (row[\"ICD10_code\"] == agent_icd10_code)\n",
    "    icd10_matches.append(icd10_match)\n",
    "\n",
    "    # compare \n",
    "    pfx_icd10_match = (row[\"PFx_ICD10_code\"] == row[\"ICD10_code\"])\n",
    "    pfx_icd10_matches.append(pfx_icd10_match)\n",
    "\n",
    "    # Calculate the Flesch Reading Ease score\n",
    "    flesch_score = textstat.flesch_reading_ease(row['PFx'])\n",
    "    flesch_scores.append(flesch_score)\n",
    "\n",
    "# Add the results to the DataFrame\n",
    "results_df['_0_agent_icd10_codes'] = agent_icd10_codes\n",
    "results_df['_0_icd10_matches'] = icd10_matches\n",
    "results_df['_0_pfx_icd10_matches'] = pfx_icd10_matches\n",
    "results_df['_0_flesch'] = flesch_scores"
   ]
  },
  {
   "cell_type": "code",
   "execution_count": null,
   "id": "d4bb1e89-616e-4461-9a05-79f9776e9611",
   "metadata": {},
   "outputs": [],
   "source": [
    "desired_reading_ease = sixth_grade\n",
    "# Calculate threshold for penalty\n",
    "    if desired_reading_ease >= 55:\n",
    "        threshold = 10\n",
    "    else:\n",
    "        threshold = 20\n",
    "\n",
    "# Create lists to store the results\n",
    "accuracy_icd10_matches_list = []\n",
    "accuracy_pfx_matches_list = []\n",
    "readability_difference_list = []\n",
    "overall_score_list = []\n",
    "log_overall_score_list = []\n",
    "\n",
    "# Iterate over each row in the DataFrame\n",
    "for index, row in results_df.iterrows():\n",
    "    # Calculate accuracy scores\n",
    "    accuracy_icd10_matches = row[\"_0_icd10_matches\"]\n",
    "    accuracy_pfx_matches = row[\"_0_pfx_icd10_matches\"]\n",
    "    flesch_score = row[\"_0_flesch\"]\n",
    "\n",
    "    # total number of icd10 matches\n",
    "    total_icd10_matches = accuracy_icd10_matches + accuracy_pfx_matches\n",
    "\n",
    "    # Adjust weights for overall score\n",
    "    # Calculate readability score \n",
    "    readability_score = flesch_score\n",
    "    readability_difference = abs(readability_score - desired_reading_ease)\n",
    "\n",
    "    # Compute the overall score\n",
    "    overall_score = total_icd10_matches * 0.8  + 0.2 * (1/(readability_difference + 1))\n",
    "\n",
    "    # Calculate readability score\n",
    "    readability_difference_log = desired_reading_ease - flesch_score\n",
    "    if readability_difference_log <= threshold:  # No penalty if difference is within the threshold\n",
    "        readability_difference_p = 0\n",
    "    else:  # Apply penalty only if readability exceeds the threshold\n",
    "        readability_difference_with_threshold = readability_difference_log - threshold\n",
    "        readability_difference_p = math.log(1 + readability_difference_with_threshold) / math.log(20)\n",
    "\n",
    "    log_overall_score = total_icd10_matches * 0.8 + readability_difference_log * 0.2\n",
    "\n",
    "    # Append results to lists\n",
    "    accuracy_icd10_matches_list.append(float(accuracy_icd10_matches))\n",
    "    accuracy_pfx_matches_list.append(float(accuracy_pfx_matches))\n",
    "    readability_difference_list.append(float(readability_difference))\n",
    "    overall_score_list.append(float(overall_score))\n",
    "    log_overall_score_list.append(float(log_overall_score))\n",
    "    \n",
    "\n",
    "# Create a DataFrame with the results\n",
    "grades_data = {\n",
    "    \"accuracy_agent_icd10\": accuracy_icd10_matches_list,\n",
    "    \"accuracy_pfx_icd10\": accuracy_pfx_matches_list,\n",
    "    \"readability_difference\": readability_difference_list,\n",
    "    \"overall_score\": overall_score_list,\n",
    "    \"log_overall_score\": log_overall_score_list,\n",
    "}\n",
    "grades = pd.DataFrame(grades_data)\n",
    "results_df = pd.concat([results_df, grades], axis=1)\n"
   ]
  },
  {
   "cell_type": "code",
   "execution_count": null,
   "id": "b1af8c05-39fc-4ae9-85db-dc0dc478dea3",
   "metadata": {},
   "outputs": [],
   "source": [
    "results_df.head()"
   ]
  },
  {
   "cell_type": "code",
   "execution_count": null,
   "id": "1be2d047-804f-4f64-9af4-ec16fc05f256",
   "metadata": {},
   "outputs": [],
   "source": [
    "results_df.to_csv('PFx_zeroshot.csv', index = False)"
   ]
  },
  {
   "cell_type": "code",
   "execution_count": null,
   "id": "04c02170-0442-475d-bb12-b80ec1428217",
   "metadata": {},
   "outputs": [],
   "source": [
    "FileLink('PFx_zeroshot.csv')"
   ]
  }
 ],
 "metadata": {
  "kernelspec": {
   "display_name": "Python 3 (ipykernel)",
   "language": "python",
   "name": "python3"
  },
  "language_info": {
   "codemirror_mode": {
    "name": "ipython",
    "version": 3
   },
   "file_extension": ".py",
   "mimetype": "text/x-python",
   "name": "python",
   "nbconvert_exporter": "python",
   "pygments_lexer": "ipython3",
   "version": "3.12.5"
  }
 },
 "nbformat": 4,
 "nbformat_minor": 5
}
