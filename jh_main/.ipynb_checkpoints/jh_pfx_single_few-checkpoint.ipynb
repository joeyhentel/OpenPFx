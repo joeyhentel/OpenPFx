{
 "cells": [
  {
   "cell_type": "code",
   "execution_count": 24,
   "metadata": {},
   "outputs": [],
   "source": [
    "# import necessary libraries\n",
    "import pandas as pd\n",
    "import os\n",
    "import textstat\n",
    "from openai import OpenAI\n",
    "import json\n",
    "import re\n",
    "import requests\n",
    "from dotenv import load_dotenv"
   ]
  },
  {
   "cell_type": "code",
   "execution_count": 25,
   "metadata": {},
   "outputs": [],
   "source": [
    "# import prompts \n",
    "from jh_pfx_prompts import example, icd10_example, baseline_zeroshot_prompt, single_fewshot_prompt, single_fewshot_icd10_labeling_prompt"
   ]
  },
  {
   "cell_type": "code",
   "execution_count": 52,
   "metadata": {},
   "outputs": [],
   "source": [
    "os.environ['OPENAI_API_KEY'] = ''"
   ]
  },
  {
   "cell_type": "code",
   "execution_count": 27,
   "metadata": {},
   "outputs": [],
   "source": [
    "# api key\n",
    "OPENAI_API_KEY = os.getenv('OPENAI_API_KEY')\n",
    "CLIENT = OpenAI(api_key = OPENAI_API_KEY)\n",
    "OPENAI_MODEL = \"gpt-4o\""
   ]
  },
  {
   "cell_type": "code",
   "execution_count": 28,
   "metadata": {},
   "outputs": [],
   "source": [
    "#reading levels\n",
    "PROFESSIONAL = \"Professional\"\n",
    "COLLEGE_GRADUATE = \"College Graduate\"\n",
    "COLLEGE = \"College\"\n",
    "TENTH_TO_TWELFTH_GRADE = \"10th to 12th grade\"\n",
    "EIGTH_TO_NINTH_GRADE = \"8th to 9th grade\"\n",
    "SEVENTH_GRADE = \"7th grade\"\n",
    "SIXTH_GRADE = \"6th grade\"\n",
    "FIFTH_GRADE = \"5th grade\"\n",
    "N_A = \"N/A\""
   ]
  },
  {
   "cell_type": "code",
   "execution_count": 29,
   "metadata": {},
   "outputs": [],
   "source": [
    "# https://en.wikipedia.org/wiki/Flesch%E2%80%93Kincaid_readability_tests#Flesch_reading_ease\n",
    "def map_reading_level(flesch_reading_ease):\n",
    "    if flesch_reading_ease < 10:\n",
    "        return PROFESSIONAL\n",
    "    elif 10.0 <= flesch_reading_ease < 30.0:\n",
    "        return COLLEGE_GRADUATE\n",
    "    elif 30.0 <= flesch_reading_ease < 50.0:\n",
    "        return COLLEGE\n",
    "    elif 50.0 <= flesch_reading_ease < 60.0:\n",
    "        return TENTH_TO_TWELTH_GRADE\n",
    "    elif 60.0 <= flesch_reading_ease < 70.0:\n",
    "        return EIGTH_TO_NINTH_GRADE\n",
    "    elif 70.0 <= flesch_reading_ease < 80.0:\n",
    "        return SEVENTH_GRADE\n",
    "    elif 80.0 <= flesch_reading_ease < 90.0:\n",
    "        return SIXTH_GRADE\n",
    "    elif 90.0 <= flesch_reading_ease < 100.0:\n",
    "        return FIFTH_GRADE \n",
    "    else:\n",
    "        return N_A"
   ]
  },
  {
   "cell_type": "code",
   "execution_count": 43,
   "metadata": {},
   "outputs": [],
   "source": [
    "# reading ease variables\n",
    "fifth_grade = 95\n",
    "sixth_grade = 85\n",
    "seventh_grade = 75\n",
    "eigth_and_ninth_grade = 65\n",
    "tenth_to_twelfth_grade = 55\n",
    "college = 40\n",
    "college_graduate = 20\n",
    "professional = 5"
   ]
  },
  {
   "cell_type": "code",
   "execution_count": 44,
   "metadata": {},
   "outputs": [],
   "source": [
    "def adjust_difference(diff, threshold):\n",
    "    \"\"\"Adjust the readability difference based on the threshold.\"\"\"\n",
    "    if diff > threshold:\n",
    "        return diff - threshold\n",
    "    return 0"
   ]
  },
  {
   "cell_type": "code",
   "execution_count": 30,
   "metadata": {},
   "outputs": [],
   "source": [
    "# import fewshot examples\n",
    "df_fewshot = pd.read_csv('pfx_fewshot_examples_college.csv')"
   ]
  },
  {
   "cell_type": "code",
   "execution_count": 31,
   "metadata": {},
   "outputs": [],
   "source": [
    "# import evaluation data \n",
    "df_eval = pd.read_csv('pfx_evaluation_data.csv')"
   ]
  },
  {
   "cell_type": "code",
   "execution_count": 32,
   "metadata": {},
   "outputs": [
    {
     "name": "stdout",
     "output_type": "stream",
     "text": [
      "10th to 12th grade\n"
     ]
    }
   ],
   "source": [
    "print(TENTH_TO_TWELFTH_GRADE)"
   ]
  },
  {
   "cell_type": "code",
   "execution_count": 33,
   "metadata": {},
   "outputs": [],
   "source": [
    "# extract the json from openai\n",
    "def extract_json(openai_response):\n",
    "    if openai_response:  # Ensure the response is not None\n",
    "        try:\n",
    "            # Extract content from response object\n",
    "            content = openai_response.message.content\n",
    "            \n",
    "            # Search for JSON within the content\n",
    "            json_match = re.search(r'```json\\n(.*?)\\n```', content, re.DOTALL)\n",
    "            if json_match:\n",
    "                json_str = json_match.group(1)\n",
    "                return json.loads(json_str)  # Parse JSON string to Python dict\n",
    "            else:\n",
    "                print(\"No JSON found in response content.\")\n",
    "                return None\n",
    "        except AttributeError as e:\n",
    "            print(f\"Attribute error: {e}. Ensure the input is a valid response object.\")\n",
    "            return None\n",
    "    else:\n",
    "        return None"
   ]
  },
  {
   "cell_type": "code",
   "execution_count": 34,
   "metadata": {},
   "outputs": [],
   "source": [
    "# takes json object and generated icd10 labels for incidental findings \n",
    "def label_icd10s(pfx_outputs_json):\n",
    "    pfx_icd10_fewshot_examples = \"\"\n",
    "    for i, row in df_fewshot.iterrows():\n",
    "        pfx_icd10_fewshot_examples += icd10_example.format(**row)\n",
    "    pfx_icd10_codes = []\n",
    "    pfx_icd10_response = None \n",
    "    for pfx_output in pfx_outputs_json :\n",
    "        try:\n",
    "            prompt = single_fewshot_icd10_labeling_prompt.format(examples = pfx_icd10_fewshot_examples, PFx = pfx_output['PFx'])\n",
    "        except:\n",
    "            print(\"ERROR: %S\" % pfx_output)\n",
    "            return\n",
    "        pfx_icd10_response = CLIENT.chat.completions.create(\n",
    "            model = OPENAI_MODEL,\n",
    "            temperature = 0.0,\n",
    "            messages = [\n",
    "                {\"role\": \"system\", \"content\": \"You are an ICD10 medical coder for incidental findings. \"},\n",
    "                {\"role\": \"system\", \"content\": prompt}\n",
    "            ],\n",
    "            stream = False,\n",
    "        )\n",
    "    pfx_icd10_codes.append(pfx_icd10_response.choices[0])\n",
    "    return list(map(extract_json, pfx_icd10_codes))"
   ]
  },
  {
   "cell_type": "code",
   "execution_count": 35,
   "metadata": {},
   "outputs": [],
   "source": [
    "pfx_fewshot_examples = \"\"\n",
    "for i, row in df_fewshot.iterrows():\n",
    "    pfx_fewshot_examples += example.format(**row)\n",
    "\n",
    "pfx_fewshot_outputs = []\n",
    "for i, row in df_eval.iloc[:1].iterrows():\n",
    "    prompt = single_fewshot_prompt.format(Examples = pfx_fewshot_examples, Incidental_Finding = row['Incidental_Finding'], Reading_Level = TENTH_TO_TWELFTH_GRADE)\n",
    "pfx_response = None \n",
    "pfx_response = CLIENT.chat.completions.create(\n",
    "    model = OPENAI_MODEL,\n",
    "    temperature = 0.0,\n",
    "    messages = [\n",
    "        {\"role\": \"system\", \"content\": \"You are a md doctor rephrasing and explaining medical terminology to a patient in an understandable manor.\"},\n",
    "        {\"role\": \"system\", \"content\": prompt}\n",
    "    ],\n",
    "    stream = False,\n",
    ")\n",
    "\n",
    "pfx_fewshot_outputs.append(pfx_response.choices[0])"
   ]
  },
  {
   "cell_type": "code",
   "execution_count": 36,
   "metadata": {},
   "outputs": [],
   "source": [
    "pfx_fewshot_outputs_json = list(map(extract_json, pfx_fewshot_outputs))"
   ]
  },
  {
   "cell_type": "code",
   "execution_count": 37,
   "metadata": {},
   "outputs": [
    {
     "data": {
      "text/plain": [
       "[{'finding': 'White matter lesions',\n",
       "  'ICD10_code': 'R90.89',\n",
       "  'PFx': \"White matter lesions are areas of the brain that appear different on an MRI scan. These changes are often found incidentally and can be associated with aging, high blood pressure, or other conditions. Patients should understand that while these lesions are common, they do not always cause symptoms or require treatment. However, they can sometimes be linked to issues like memory problems or balance difficulties. It's important to maintain a healthy lifestyle, including managing blood pressure and cholesterol, to potentially reduce the risk of further changes. If any symptoms develop, further evaluation may be necessary.\",\n",
       "  'PFx_ICD10_code': 'R90.89'}]"
      ]
     },
     "execution_count": 37,
     "metadata": {},
     "output_type": "execute_result"
    }
   ],
   "source": [
    "pfx_fewshot_outputs_json"
   ]
  },
  {
   "cell_type": "code",
   "execution_count": 38,
   "metadata": {},
   "outputs": [],
   "source": [
    "pfx_fewshot_output_df = pd.DataFrame(pfx_fewshot_outputs_json)\n",
    "pfx_fewshot_outputs_icd10_labels = label_icd10s(pfx_fewshot_outputs_json)"
   ]
  },
  {
   "cell_type": "code",
   "execution_count": 40,
   "metadata": {},
   "outputs": [],
   "source": [
    "pfx_fewshot_output_df['_0_agent_icd10_codes'] = list(map(lambda x: list(x.values())[0] if x else \"\", pfx_fewshot_outputs_icd10_labels))\n",
    "pfx_fewshot_output_df[\"_0_icd10_matches\"]= pfx_fewshot_output_df.ICD10_code == pfx_fewshot_output_df._0_agent_icd10_codes\n",
    "pfx_fewshot_output_df[\"_0_pfx_icd10_matches\"] = pfx_fewshot_output_df.ICD10_code == pfx_fewshot_output_df[\"PFx_ICD10_code\"] \n",
    "pfx_fewshot_output_df[\"_0_flesch_kincaid\"] = pfx_fewshot_output_df['PFx'].apply(textstat.flesch_kincaid_grade)\n",
    "pfx_fewshot_output_df[\"_0_flesch\"] = pfx_fewshot_output_df['PFx'].apply(textstat.flesch_reading_ease)\n",
    "pfx_fewshot_output_df[\"_0_reading_level\"] = pfx_fewshot_output_df['_0_flesch'].apply(map_reading_level)\n",
    "pfx_fewshot_output_df[\"_0_reading_level_matches\"] = pfx_fewshot_output_df['_0_reading_level'] == TENTH_TO_TWELFTH_GRADE"
   ]
  },
  {
   "cell_type": "code",
   "execution_count": 41,
   "metadata": {},
   "outputs": [
    {
     "data": {
      "text/html": [
       "<div>\n",
       "<style scoped>\n",
       "    .dataframe tbody tr th:only-of-type {\n",
       "        vertical-align: middle;\n",
       "    }\n",
       "\n",
       "    .dataframe tbody tr th {\n",
       "        vertical-align: top;\n",
       "    }\n",
       "\n",
       "    .dataframe thead th {\n",
       "        text-align: right;\n",
       "    }\n",
       "</style>\n",
       "<table border=\"1\" class=\"dataframe\">\n",
       "  <thead>\n",
       "    <tr style=\"text-align: right;\">\n",
       "      <th></th>\n",
       "      <th>finding</th>\n",
       "      <th>ICD10_code</th>\n",
       "      <th>PFx</th>\n",
       "      <th>PFx_ICD10_code</th>\n",
       "      <th>_0_agent_icd10_codes</th>\n",
       "      <th>_0_icd10_matches</th>\n",
       "      <th>_0_pfx_icd10_matches</th>\n",
       "      <th>_0_flesch_kincaid</th>\n",
       "      <th>_0_flesch</th>\n",
       "      <th>_0_reading_level</th>\n",
       "      <th>_0_reading_level_matches</th>\n",
       "    </tr>\n",
       "  </thead>\n",
       "  <tbody>\n",
       "    <tr>\n",
       "      <th>0</th>\n",
       "      <td>White matter lesions</td>\n",
       "      <td>R90.89</td>\n",
       "      <td>White matter lesions are areas of the brain th...</td>\n",
       "      <td>R90.89</td>\n",
       "      <td>R90.89</td>\n",
       "      <td>True</td>\n",
       "      <td>True</td>\n",
       "      <td>10.6</td>\n",
       "      <td>46.98</td>\n",
       "      <td>College</td>\n",
       "      <td>False</td>\n",
       "    </tr>\n",
       "  </tbody>\n",
       "</table>\n",
       "</div>"
      ],
      "text/plain": [
       "                finding ICD10_code  \\\n",
       "0  White matter lesions     R90.89   \n",
       "\n",
       "                                                 PFx PFx_ICD10_code  \\\n",
       "0  White matter lesions are areas of the brain th...         R90.89   \n",
       "\n",
       "  _0_agent_icd10_codes  _0_icd10_matches  _0_pfx_icd10_matches  \\\n",
       "0               R90.89              True                  True   \n",
       "\n",
       "   _0_flesch_kincaid  _0_flesch _0_reading_level  _0_reading_level_matches  \n",
       "0               10.6      46.98          College                     False  "
      ]
     },
     "execution_count": 41,
     "metadata": {},
     "output_type": "execute_result"
    }
   ],
   "source": [
    "pfx_fewshot_output_df "
   ]
  },
  {
   "cell_type": "code",
   "execution_count": 49,
   "metadata": {},
   "outputs": [],
   "source": [
    "desired_reading_ease = tenth_to_twelfth_grade\n",
    "\n",
    "# Calculate accuracy score\n",
    "accuracy_icd10_matches = sum(pfx_fewshot_output_df[\"_0_icd10_matches\"]) / len(pfx_fewshot_output_df.index)\n",
    "accuracy_pfx_matches = sum(pfx_fewshot_output_df[\"_0_pfx_icd10_matches\"]) / len(pfx_fewshot_output_df.index)\n",
    "\n",
    "# Adjust weights for overall score\n",
    "# Calculate readability score \n",
    "readability_score = pfx_fewshot_output_df[\"_0_flesch\"]\n",
    "readability_difference = abs(readability_score - desired_reading_ease)\n",
    "if desired_reading_ease >= 55:\n",
    "    # Adjust element-wise if readability_difference is a Series\n",
    "    readability_difference = readability_difference.apply(lambda x: x - 5 if x > 5 else 0)\n",
    "elif desired_reading_ease >= 20:\n",
    "    readability_difference = readability_difference.apply(lambda x: x - 10 if x > 10 else 0)\n",
    "\n",
    "\n",
    "# Compute the overall score\n",
    "overall_score = (accuracy_icd10_matches * 0.35) + (accuracy_pfx_matches * 0.35) - (readability_difference * 0.3)\n",
    "\n",
    "grades_data = []\n",
    "grades_data.append({\n",
    "    \"accuracy_agent_icd10\": float(accuracy_icd10_matches),  # Assuming accuracy is already a scalar\n",
    "    \"accuracy_pfx_icd10\": float(accuracy_pfx_matches),\n",
    "    \"readability_difference\": float(readability_difference.iloc[0]),  # Use .iloc[0] to extract scalar\n",
    "    \"overall_score\": float(overall_score.iloc[0])  # Use .iloc[0] to extract scalar\n",
    "}) \n",
    "grades = pd.DataFrame(grades_data)\n"
   ]
  },
  {
   "cell_type": "code",
   "execution_count": 50,
   "metadata": {},
   "outputs": [
    {
     "name": "stdout",
     "output_type": "stream",
     "text": [
      "0    College\n",
      "Name: _0_reading_level, dtype: object\n",
      "<class 'pandas.core.series.Series'>\n"
     ]
    }
   ],
   "source": [
    "print(pfx_fewshot_output_df[\"_0_reading_level\"])\n",
    "print(type(pfx_fewshot_output_df[\"_0_reading_level\"]))\n"
   ]
  },
  {
   "cell_type": "code",
   "execution_count": 51,
   "metadata": {},
   "outputs": [
    {
     "data": {
      "text/html": [
       "<div>\n",
       "<style scoped>\n",
       "    .dataframe tbody tr th:only-of-type {\n",
       "        vertical-align: middle;\n",
       "    }\n",
       "\n",
       "    .dataframe tbody tr th {\n",
       "        vertical-align: top;\n",
       "    }\n",
       "\n",
       "    .dataframe thead th {\n",
       "        text-align: right;\n",
       "    }\n",
       "</style>\n",
       "<table border=\"1\" class=\"dataframe\">\n",
       "  <thead>\n",
       "    <tr style=\"text-align: right;\">\n",
       "      <th></th>\n",
       "      <th>accuracy_agent_icd10</th>\n",
       "      <th>accuracy_pfx_icd10</th>\n",
       "      <th>readability_difference</th>\n",
       "      <th>overall_score</th>\n",
       "    </tr>\n",
       "  </thead>\n",
       "  <tbody>\n",
       "    <tr>\n",
       "      <th>0</th>\n",
       "      <td>1.0</td>\n",
       "      <td>1.0</td>\n",
       "      <td>3.02</td>\n",
       "      <td>-0.206</td>\n",
       "    </tr>\n",
       "  </tbody>\n",
       "</table>\n",
       "</div>"
      ],
      "text/plain": [
       "   accuracy_agent_icd10  accuracy_pfx_icd10  readability_difference  \\\n",
       "0                   1.0                 1.0                    3.02   \n",
       "\n",
       "   overall_score  \n",
       "0         -0.206  "
      ]
     },
     "execution_count": 51,
     "metadata": {},
     "output_type": "execute_result"
    }
   ],
   "source": [
    "grades"
   ]
  }
 ],
 "metadata": {
  "kernelspec": {
   "display_name": "Python 3 (ipykernel)",
   "language": "python",
   "name": "python3"
  },
  "language_info": {
   "codemirror_mode": {
    "name": "ipython",
    "version": 3
   },
   "file_extension": ".py",
   "mimetype": "text/x-python",
   "name": "python",
   "nbconvert_exporter": "python",
   "pygments_lexer": "ipython3",
   "version": "3.12.5"
  }
 },
 "nbformat": 4,
 "nbformat_minor": 4
}
