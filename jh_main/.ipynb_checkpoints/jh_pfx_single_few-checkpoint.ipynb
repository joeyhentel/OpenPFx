{
 "cells": [
  {
   "cell_type": "code",
   "execution_count": null,
   "metadata": {},
   "outputs": [],
   "source": [
    "# import necessary libraries\n",
    "import pandas as pd\n",
    "import os\n",
    "import textstat\n",
    "from openai import OpenAI\n",
    "import json\n",
    "import re\n",
    "import requests\n",
    "from dotenv import load_dotenv"
   ]
  },
  {
   "cell_type": "code",
   "execution_count": null,
   "metadata": {},
   "outputs": [],
   "source": [
    "# import prompts \n",
    "from jh_pfx_prompts import example, icd10_example, baseline_zeroshot_prompt, single_fewshot_prompt, single_fewshot_icd10_labeling_prompt"
   ]
  },
  {
   "cell_type": "code",
   "execution_count": null,
   "metadata": {},
   "outputs": [],
   "source": [
    "os.environ['OPENAI_API_KEY'] = ''"
   ]
  },
  {
   "cell_type": "code",
   "execution_count": null,
   "metadata": {},
   "outputs": [],
   "source": [
    "# api key\n",
    "OPENAI_API_KEY = os.getenv('OPENAI_API_KEY')\n",
    "CLIENT = OpenAI(api_key = OPENAI_API_KEY)\n",
    "OPENAI_MODEL = \"gpt-4o\""
   ]
  },
  {
   "cell_type": "code",
   "execution_count": null,
   "metadata": {},
   "outputs": [],
   "source": [
    "#reading levels\n",
    "PROFESSIONAL = \"Professional\"\n",
    "COLLEGE_GRADUATE = \"College Graduate\"\n",
    "COLLEGE = \"College\"\n",
    "TENTH_TO_TWELFTH_GRADE = \"10th to 12th grade\"\n",
    "EIGTH_TO_NINTH_GRADE = \"8th to 9th grade\"\n",
    "SEVENTH_GRADE = \"7th grade\"\n",
    "SIXTH_GRADE = \"6th grade\"\n",
    "FIFTH_GRADE = \"5th grade\"\n",
    "N_A = \"N/A\""
   ]
  },
  {
   "cell_type": "code",
   "execution_count": null,
   "metadata": {},
   "outputs": [],
   "source": [
    "# https://en.wikipedia.org/wiki/Flesch%E2%80%93Kincaid_readability_tests#Flesch_reading_ease\n",
    "def map_reading_level(flesch_reading_ease):\n",
    "    if flesch_reading_ease < 10:\n",
    "        return PROFESSIONAL\n",
    "    elif 10.0 <= flesch_reading_ease < 30.0:\n",
    "        return COLLEGE_GRADUATE\n",
    "    elif 30.0 <= flesch_reading_ease < 50.0:\n",
    "        return COLLEGE\n",
    "    elif 50.0 <= flesch_reading_ease < 60.0:\n",
    "        return TENTH_TO_TWELTH_GRADE\n",
    "    elif 60.0 <= flesch_reading_ease < 70.0:\n",
    "        return EIGTH_TO_NINTH_GRADE\n",
    "    elif 70.0 <= flesch_reading_ease < 80.0:\n",
    "        return SEVENTH_GRADE\n",
    "    elif 80.0 <= flesch_reading_ease < 90.0:\n",
    "        return SIXTH_GRADE\n",
    "    elif 90.0 <= flesch_reading_ease < 100.0:\n",
    "        return FIFTH_GRADE \n",
    "    else:\n",
    "        return N_A"
   ]
  },
  {
   "cell_type": "code",
   "execution_count": null,
   "metadata": {},
   "outputs": [],
   "source": [
    "# import fewshot examples\n",
    "df_fewshot = pd.read_csv('pfx_fewshot_examples_college.csv')"
   ]
  },
  {
   "cell_type": "code",
   "execution_count": null,
   "metadata": {},
   "outputs": [],
   "source": [
    "# import evaluation data \n",
    "df_eval = pd.read_csv('pfx_evaluation_data.csv')"
   ]
  },
  {
   "cell_type": "code",
   "execution_count": null,
   "metadata": {},
   "outputs": [],
   "source": [
    "print(TENTH_TO_TWELFTH_GRADE)"
   ]
  },
  {
   "cell_type": "code",
   "execution_count": null,
   "metadata": {},
   "outputs": [],
   "source": [
    "# extract the json from openai\n",
    "def extract_json(openai_response):\n",
    "    if openai_response:  # Ensure the response is not None\n",
    "        try:\n",
    "            # Extract content from response object\n",
    "            content = openai_response.message.content\n",
    "            \n",
    "            # Search for JSON within the content\n",
    "            json_match = re.search(r'```json\\n(.*?)\\n```', content, re.DOTALL)\n",
    "            if json_match:\n",
    "                json_str = json_match.group(1)\n",
    "                return json.loads(json_str)  # Parse JSON string to Python dict\n",
    "            else:\n",
    "                print(\"No JSON found in response content.\")\n",
    "                return None\n",
    "        except AttributeError as e:\n",
    "            print(f\"Attribute error: {e}. Ensure the input is a valid response object.\")\n",
    "            return None\n",
    "    else:\n",
    "        return None"
   ]
  },
  {
   "cell_type": "code",
   "execution_count": null,
   "metadata": {},
   "outputs": [],
   "source": [
    "# takes json object and generated icd10 labels for incidental findings \n",
    "def label_icd10s(pfx_outputs_json):\n",
    "    pfx_icd10_fewshot_examples = \"\"\n",
    "    for i, row in df_fewshot.iterrows():\n",
    "        pfx_icd10_fewshot_examples += icd10_example.format(**row)\n",
    "    pfx_icd10_codes = []\n",
    "    pfx_icd10_response = None \n",
    "    for pfx_output in pfx_outputs_json :\n",
    "        try:\n",
    "            prompt = single_fewshot_icd10_labeling_prompt.format(examples = pfx_icd10_fewshot_examples, PFx = pfx_output['PFx'])\n",
    "        except:\n",
    "            print(\"ERROR: %S\" % pfx_output)\n",
    "            return\n",
    "        pfx_icd10_response = CLIENT.chat.completions.create(\n",
    "            model = OPENAI_MODEL,\n",
    "            temperature = 0.0,\n",
    "            messages = [\n",
    "                {\"role\": \"system\", \"content\": \"You are an ICD10 medical coder for incidental findings. \"},\n",
    "                {\"role\": \"system\", \"content\": prompt}\n",
    "            ],\n",
    "            stream = False,\n",
    "        )\n",
    "    pfx_icd10_codes.append(pfx_icd10_response.choices[0])\n",
    "    return list(map(extract_json, pfx_icd10_codes))"
   ]
  },
  {
   "cell_type": "code",
   "execution_count": null,
   "metadata": {},
   "outputs": [],
   "source": [
    "pfx_fewshot_examples = \"\"\n",
    "for i, row in df_fewshot.iterrows():\n",
    "    pfx_fewshot_examples += example.format(**row)\n",
    "\n",
    "pfx_fewshot_outputs = []\n",
    "for i, row in df_eval.iloc[:1].iterrows():\n",
    "    prompt = single_fewshot_prompt.format(Examples = pfx_fewshot_examples, Incidental_Finding = row['Incidental_Finding'], Reading_Level = TENTH_TO_TWELFTH_GRADE)\n",
    "pfx_response = None \n",
    "pfx_response = CLIENT.chat.completions.create(\n",
    "    model = OPENAI_MODEL,\n",
    "    temperature = 0.0,\n",
    "    messages = [\n",
    "        {\"role\": \"system\", \"content\": \"You are a md doctor rephrasing and explaining medical terminology to a patient in an understandable manor.\"},\n",
    "        {\"role\": \"system\", \"content\": prompt}\n",
    "    ],\n",
    "    stream = False,\n",
    ")\n",
    "\n",
    "pfx_fewshot_outputs.append(pfx_response.choices[0])"
   ]
  },
  {
   "cell_type": "code",
   "execution_count": null,
   "metadata": {},
   "outputs": [],
   "source": [
    "pfx_fewshot_outputs_json = list(map(extract_json, pfx_fewshot_outputs))"
   ]
  },
  {
   "cell_type": "code",
   "execution_count": null,
   "metadata": {},
   "outputs": [],
   "source": [
    "pfx_fewshot_outputs_json"
   ]
  },
  {
   "cell_type": "code",
   "execution_count": null,
   "metadata": {},
   "outputs": [],
   "source": [
    "pfx_fewshot_output_df = pd.DataFrame(pfx_fewshot_outputs_json)\n",
    "pfx_fewshot_outputs_icd10_labels = label_icd10s(pfx_fewshot_outputs_json)"
   ]
  },
  {
   "cell_type": "code",
   "execution_count": null,
   "metadata": {},
   "outputs": [],
   "source": [
    "print(\"API Response:\", pfx_fewshot_outputs)\n"
   ]
  },
  {
   "cell_type": "code",
   "execution_count": null,
   "metadata": {},
   "outputs": [],
   "source": [
    "pfx_fewshot_output_df['_0_agent_icd10_codes'] = list(map(lambda x: list(x.values())[0] if x else \"\", pfx_fewshot_outputs_icd10_labels))\n",
    "pfx_fewshot_output_df[\"_0_icd10_matches\"]= pfx_fewshot_output_df.ICD10_code == pfx_fewshot_output_df._0_agent_icd10_codes\n",
    "pfx_fewshot_output_df[\"_0_flesch_kincaid\"] = pfx_fewshot_output_df['PFx'].apply(textstat.flesch_kincaid_grade)\n",
    "pfx_fewshot_output_df[\"_0_flesch\"] = pfx_fewshot_output_df['PFx'].apply(textstat.flesch_reading_ease)\n",
    "pfx_fewshot_output_df[\"_0_reading_level\"] = pfx_fewshot_output_df['_0_flesch'].apply(map_reading_level)\n",
    "pfx_fewshot_output_df[\"_0_reading_level_matches\"] = pfx_fewshot_output_df['_0_reading_level'] == TENTH_TO_TWELFTH_GRADE"
   ]
  },
  {
   "cell_type": "code",
   "execution_count": null,
   "metadata": {},
   "outputs": [],
   "source": [
    "pfx_fewshot_output_df "
   ]
  },
  {
   "cell_type": "code",
   "execution_count": null,
   "metadata": {},
   "outputs": [],
   "source": [
    "# Calculate accuracy score\n",
    "accuracy = sum(pfx_fewshot_output_df[\"_0_icd10_matches\"]) / len(pfx_fewshot_output_df.index)\n",
    "# Calculate readability score \n",
    "readability = pfx_fewshot_output_df[\"_0_flesch_kincaid\"]\n",
    "# Compute the overall score\n",
    "overall_score = (readability * 0.3) + (accuracy * 0.7)\n",
    "\n",
    "grades_data = []\n",
    "grades_data.append({\n",
    "    \"accuracy\": float(accuracy),  # Assuming accuracy is already a scalar\n",
    "    \"readability\": float(readability.iloc[0]),  # Use .iloc[0] to extract scalar\n",
    "    \"overall_score\": float(overall_score.iloc[0])  # Use .iloc[0] to extract scalar\n",
    "})\n",
    "grades = pd.DataFrame(grades_data)\n"
   ]
  },
  {
   "cell_type": "code",
   "execution_count": null,
   "metadata": {},
   "outputs": [],
   "source": [
    "grades"
   ]
  },
  {
   "cell_type": "code",
   "execution_count": null,
   "metadata": {},
   "outputs": [],
   "source": []
  }
 ],
 "metadata": {
  "kernelspec": {
   "display_name": "Python 3 (ipykernel)",
   "language": "python",
   "name": "python3"
  },
  "language_info": {
   "codemirror_mode": {
    "name": "ipython",
    "version": 3
   },
   "file_extension": ".py",
   "mimetype": "text/x-python",
   "name": "python",
   "nbconvert_exporter": "python",
   "pygments_lexer": "ipython3",
   "version": "3.12.5"
  }
 },
 "nbformat": 4,
 "nbformat_minor": 4
}
