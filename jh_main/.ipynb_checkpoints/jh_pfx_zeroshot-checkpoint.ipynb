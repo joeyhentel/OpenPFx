{
 "cells": [
  {
   "cell_type": "code",
   "execution_count": null,
   "id": "2c798f27-792b-43cd-baee-e3f15921c4c7",
   "metadata": {
    "scrolled": true
   },
   "outputs": [],
   "source": [
    "# import necessary libraries\n",
    "import pandas as pd\n",
    "import os\n",
    "import textstat\n",
    "from openai import OpenAI\n",
    "import json\n",
    "import re\n",
    "import requests\n",
    "from dotenv import load_dotenv"
   ]
  },
  {
   "cell_type": "code",
   "execution_count": null,
   "id": "11c67bfd",
   "metadata": {},
   "outputs": [],
   "source": [
    "# import prompts \n",
    "from jh_pfx_prompts import example, icd10_example, baseline_zeroshot_prompt, single_fewshot_icd10_labeling_prompt"
   ]
  },
  {
   "cell_type": "code",
   "execution_count": null,
   "id": "9527a81f-642e-4f61-a10e-d9692a8a2082",
   "metadata": {},
   "outputs": [],
   "source": [
    "os.environ['OPENAI_API_KEY'] = ''"
   ]
  },
  {
   "cell_type": "code",
   "execution_count": null,
   "id": "1052dbdb",
   "metadata": {},
   "outputs": [],
   "source": [
    "# api key\n",
    "OPENAI_API_KEY = os.getenv('OPENAI_API_KEY')\n",
    "CLIENT = OpenAI(api_key = OPENAI_API_KEY)\n",
    "OPENAI_MODEL = \"gpt-4o\""
   ]
  },
  {
   "cell_type": "code",
   "execution_count": null,
   "id": "3606e8f1",
   "metadata": {},
   "outputs": [],
   "source": [
    "#reading levels\n",
    "PROFESSIONAL = \"Professional\"\n",
    "COLLEGE_GRADUATE = \"College Graduate\"\n",
    "COLLEGE = \"College\"\n",
    "TENTH_TO_TWELTH_GRADE = \"10th to 12th grade\"\n",
    "EIGTH_TO_NINTH_GRADE = \"8th to 9th grade\"\n",
    "SEVENTH_GRADE = \"7th grade\"\n",
    "SIXTH_GRADE = \"6th grade\"\n",
    "FIFTH_GRADE = \"5th grade\"\n",
    "N_A = \"N/A\""
   ]
  },
  {
   "cell_type": "code",
   "execution_count": null,
   "id": "2cd9f229",
   "metadata": {},
   "outputs": [],
   "source": [
    "# https://en.wikipedia.org/wiki/Flesch%E2%80%93Kincaid_readability_tests#Flesch_reading_ease\n",
    "def map_reading_level(flesch_reading_ease):\n",
    "    if flesch_reading_ease < 10:\n",
    "        return PROFESSIONAL\n",
    "    elif 10.0 <= flesch_reading_ease < 30.0:\n",
    "        return COLLEGE_GRADUATE\n",
    "    elif 30.0 <= flesch_reading_ease < 50.0:\n",
    "        return COLLEGE\n",
    "    elif 50.0 <= flesch_reading_ease < 60.0:\n",
    "        return TENTH_TO_TWELTH_GRADE\n",
    "    elif 60.0 <= flesch_reading_ease < 70.0:\n",
    "        return EIGTH_TO_NINTH_GRADE\n",
    "    elif 70.0 <= flesch_reading_ease < 80.0:\n",
    "        return SEVENTH_GRADE\n",
    "    elif 80.0 <= flesch_reading_ease < 90.0:\n",
    "        return SIXTH_GRADE\n",
    "    elif 90.0 <= flesch_reading_ease < 100.0:\n",
    "        return FIFTH_GRADE \n",
    "    else:\n",
    "        return N_A"
   ]
  },
  {
   "cell_type": "code",
   "execution_count": null,
   "id": "9b3ff900-5ddf-43e0-8e11-df32bb34b9e1",
   "metadata": {},
   "outputs": [],
   "source": [
    "# reading ease variables\n",
    "fifth_grade = 95\n",
    "sixth_grade = 85\n",
    "seventh_grade = 75\n",
    "eigth_and_ninth_grade = 65\n",
    "tenth_to_twelfth_grade = 55\n",
    "college = 40\n",
    "college_graduate = 20\n",
    "professional = 5"
   ]
  },
  {
   "cell_type": "code",
   "execution_count": null,
   "id": "963d4568-46ef-427f-b186-fd1a637dc107",
   "metadata": {},
   "outputs": [],
   "source": [
    "def adjust_difference(diff, threshold):\n",
    "    \"\"\"Adjust the readability difference based on the threshold.\"\"\"\n",
    "    if diff > threshold:\n",
    "        return diff - threshold\n",
    "    return 0"
   ]
  },
  {
   "cell_type": "code",
   "execution_count": null,
   "id": "081efd91",
   "metadata": {},
   "outputs": [],
   "source": [
    "# import fewshot examples\n",
    "df_fewshot = pd.read_csv('pfx_fewshot_examples_college.csv')"
   ]
  },
  {
   "cell_type": "code",
   "execution_count": null,
   "id": "db230171",
   "metadata": {},
   "outputs": [],
   "source": [
    "# import evaluation data \n",
    "df_eval = pd.read_csv('pfx_evaluation_data.csv')"
   ]
  },
  {
   "cell_type": "code",
   "execution_count": null,
   "id": "255fc0aa",
   "metadata": {},
   "outputs": [],
   "source": [
    "# extract the json from openai\n",
    "def extract_json(openai_response):\n",
    "    if openai_response:  # Ensure the response is not None\n",
    "        try:\n",
    "            # Extract content from response object\n",
    "            content = openai_response.message.content\n",
    "            \n",
    "            # Search for JSON within the content\n",
    "            json_match = re.search(r'```json\\n(.*?)\\n```', content, re.DOTALL)\n",
    "            if json_match:\n",
    "                json_str = json_match.group(1)\n",
    "                return json.loads(json_str)  # Parse JSON string to Python dict\n",
    "            else:\n",
    "                print(\"No JSON found in response content.\")\n",
    "                return None\n",
    "        except AttributeError as e:\n",
    "            print(f\"Attribute error: {e}. Ensure the input is a valid response object.\")\n",
    "            return None\n",
    "    else:\n",
    "        return None"
   ]
  },
  {
   "cell_type": "code",
   "execution_count": null,
   "id": "fabfd6e0",
   "metadata": {},
   "outputs": [],
   "source": [
    "# takes json object and generated icd10 labels for incidental findings \n",
    "def label_icd10s(pfx_outputs_json):\n",
    "    pfx_icd10_fewshot_examples = \"\"\n",
    "    for i, row in df_fewshot.iterrows():\n",
    "        pfx_icd10_fewshot_examples += icd10_example.format(**row)\n",
    "    pfx_icd10_codes = []\n",
    "    pfx_icd10_response = None \n",
    "    for pfx_output in pfx_outputs_json :\n",
    "        try:\n",
    "            prompt = single_fewshot_icd10_labeling_prompt.format(examples = pfx_icd10_fewshot_examples, PFx = pfx_output['PFx'])\n",
    "        except:\n",
    "            print(\"ERROR: %S\" % pfx_output)\n",
    "            return\n",
    "        pfx_icd10_response = CLIENT.chat.completions.create(\n",
    "            model = OPENAI_MODEL,\n",
    "            temperature = 0.0,\n",
    "            messages = [\n",
    "                {\"role\": \"system\", \"content\": \"You are an ICD10 medical coder for incidental findings. \"},\n",
    "                {\"role\": \"system\", \"content\": prompt}\n",
    "            ],\n",
    "            stream = False,\n",
    "        )\n",
    "    pfx_icd10_codes.append(pfx_icd10_response.choices[0])\n",
    "    return list(map(extract_json, pfx_icd10_codes))"
   ]
  },
  {
   "cell_type": "code",
   "execution_count": null,
   "id": "e4e3a3e9",
   "metadata": {},
   "outputs": [],
   "source": [
    "# gets zeroshot response \n",
    "pfx_zeroshot_outputs = []\n",
    "for i, row in df_eval.iloc[24:25].iterrows():\n",
    "        prompt = baseline_zeroshot_prompt.format(Incidental_Finding = row['Incidental_Finding'], Reading_Level = SIXTH_GRADE)\n",
    "pfx_response = None \n",
    "pfx_response = CLIENT.chat.completions.create(\n",
    "    model = OPENAI_MODEL,\n",
    "    temperature = 0.0,\n",
    "    messages = [\n",
    "        {\"role\": \"system\", \"content\": \"You are a md doctor rephrasing and explaining medical terminology to a patient in an understandable manor.\"},\n",
    "        {\"role\": \"system\", \"content\": prompt}\n",
    "    ],\n",
    "    stream = False,\n",
    ")\n",
    "\n",
    "pfx_zeroshot_outputs.append(pfx_response.choices[0])"
   ]
  },
  {
   "cell_type": "code",
   "execution_count": null,
   "id": "1437c1d9",
   "metadata": {},
   "outputs": [],
   "source": [
    "\n",
    "# converts to a readable format \n",
    "pfx_zeroshot_outputs_json = list(map(extract_json, pfx_zeroshot_outputs))"
   ]
  },
  {
   "cell_type": "code",
   "execution_count": null,
   "id": "08ce490c",
   "metadata": {},
   "outputs": [],
   "source": [
    "pfx_zeroshot_outputs_json"
   ]
  },
  {
   "cell_type": "code",
   "execution_count": null,
   "id": "be5195e0",
   "metadata": {},
   "outputs": [],
   "source": [
    "pfx_zeroshot_output_df = pd.DataFrame(pfx_zeroshot_outputs_json)"
   ]
  },
  {
   "cell_type": "code",
   "execution_count": null,
   "id": "d619a0c3-3abd-4c1e-8898-d74a94dab20b",
   "metadata": {},
   "outputs": [],
   "source": [
    "pfx_zeroshot_outputs_icd10_labels = label_icd10s(pfx_zeroshot_outputs_json)"
   ]
  },
  {
   "cell_type": "code",
   "execution_count": null,
   "id": "01633b5f",
   "metadata": {},
   "outputs": [],
   "source": [
    "pfx_zeroshot_output_df['_0_agent_icd10_codes'] = list(map(lambda x: list(x.values())[0] if x else \"\", pfx_zeroshot_outputs_icd10_labels))\n",
    "pfx_zeroshot_output_df[\"_0_icd10_matches\"]= pfx_zeroshot_output_df.ICD10_code == pfx_zeroshot_output_df._0_agent_icd10_codes\n",
    "pfx_zeroshot_output_df[\"_0_pfx_icd10_matches\"] = pfx_zeroshot_output_df.ICD10_code == pfx_zeroshot_output_df[\"PFx_ICD10_code\"] \n",
    "pfx_zeroshot_output_df[\"_0_flesch\"] = pfx_zeroshot_output_df['PFx'].apply(textstat.flesch_reading_ease)\n",
    "pfx_zeroshot_output_df[\"_0_reading_level\"] = pfx_zeroshot_output_df['_0_flesch'].apply(map_reading_level)\n",
    "pfx_zeroshot_output_df[\"_0_flesch_kincaid\"] = pfx_zeroshot_output_df['PFx'].apply(textstat.flesch_kincaid_grade)\n",
    "pfx_zeroshot_output_df[\"_0_reading_level_matches\"] = pfx_zeroshot_output_df['_0_reading_level'] == TENTH_TO_TWELTH_GRADE"
   ]
  },
  {
   "cell_type": "code",
   "execution_count": null,
   "id": "abb0c92e",
   "metadata": {},
   "outputs": [],
   "source": [
    "desired_reading_ease = sixth_grade\n",
    "\n",
    "# Calculate accuracy score\n",
    "accuracy_icd10_matches = sum(pfx_zeroshot_output_df[\"_0_icd10_matches\"]) / len(pfx_zeroshot_output_df.index)\n",
    "accuracy_pfx_matches = sum(pfx_zeroshot_output_df[\"_0_pfx_icd10_matches\"]) / len(pfx_zeroshot_output_df.index)\n",
    "flesch_score = pfx_zeroshot_output_df[\"_0_flesch\"]\n",
    "\n",
    "# Adjust weights for overall score\n",
    "# Calculate readability score \n",
    "readability_score = pfx_zeroshot_output_df[\"_0_flesch\"]\n",
    "readability_difference = abs(readability_score - desired_reading_ease)\n",
    "if desired_reading_ease >= 55:\n",
    "    # Adjust element-wise if readability_difference is a Series\n",
    "    readability_difference = readability_difference.apply(lambda x: x - 5 if x > 5 else 0)\n",
    "elif desired_reading_ease >= 20:\n",
    "    readability_difference = readability_difference.apply(lambda x: x - 10 if x > 10 else 0)\n",
    "\n",
    "readability_difference_p = readability_difference/10\n",
    "\n",
    "# Compute the overall score\n",
    "overall_score = (accuracy_icd10_matches * 0.35) + (accuracy_pfx_matches * 0.35) - (readability_difference_p * 0.3)\n",
    "\n",
    "grades_data = []\n",
    "grades_data.append({\n",
    "    \"accuracy_agent_icd10\": float(accuracy_icd10_matches),  # Assuming accuracy is already a scalar\n",
    "    \"accuracy_pfx_icd10\": float(accuracy_pfx_matches),\n",
    "    \"readability_difference\": float(readability_difference.iloc[0]),  # Use .iloc[0] to extract scalar\n",
    "    \"overall_score\": float(overall_score.iloc[0])  # Use .iloc[0] to extract scalar\n",
    "}) \n",
    "grades = pd.DataFrame(grades_data)\n"
   ]
  },
  {
   "cell_type": "code",
   "execution_count": null,
   "id": "d90238c4-8913-4a36-8f2b-ba35813298c4",
   "metadata": {},
   "outputs": [],
   "source": [
    "flesch_score"
   ]
  },
  {
   "cell_type": "code",
   "execution_count": null,
   "id": "a3bf968e-8d5c-48f8-851e-5715f1e9dc30",
   "metadata": {},
   "outputs": [],
   "source": [
    "grades"
   ]
  },
  {
   "cell_type": "code",
   "execution_count": null,
   "id": "12e0f0ba-276e-4fbd-b7ef-3428956c24a4",
   "metadata": {},
   "outputs": [],
   "source": []
  },
  {
   "cell_type": "code",
   "execution_count": null,
   "id": "39091110-c819-4bad-a573-01c896211bba",
   "metadata": {},
   "outputs": [],
   "source": []
  }
 ],
 "metadata": {
  "kernelspec": {
   "display_name": "Python 3 (ipykernel)",
   "language": "python",
   "name": "python3"
  },
  "language_info": {
   "codemirror_mode": {
    "name": "ipython",
    "version": 3
   },
   "file_extension": ".py",
   "mimetype": "text/x-python",
   "name": "python",
   "nbconvert_exporter": "python",
   "pygments_lexer": "ipython3",
   "version": "3.12.5"
  }
 },
 "nbformat": 4,
 "nbformat_minor": 5
}
