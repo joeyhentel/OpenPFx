{
 "cells": [
  {
   "cell_type": "code",
   "execution_count": 78,
   "id": "2c798f27-792b-43cd-baee-e3f15921c4c7",
   "metadata": {
    "scrolled": true
   },
   "outputs": [],
   "source": [
    "# import necessary libraries\n",
    "import pandas as pd\n",
    "import os\n",
    "import textstat\n",
    "from openai import OpenAI\n",
    "import json\n",
    "import re\n",
    "import requests\n",
    "from dotenv import load_dotenv"
   ]
  },
  {
   "cell_type": "code",
   "execution_count": 79,
   "id": "11c67bfd",
   "metadata": {},
   "outputs": [],
   "source": [
    "# import prompts \n",
    "from jh_pfx_prompts import example, icd10_example, baseline_zeroshot_prompt, single_fewshot_icd10_labeling_prompt"
   ]
  },
  {
   "cell_type": "code",
   "execution_count": 80,
   "id": "9527a81f-642e-4f61-a10e-d9692a8a2082",
   "metadata": {},
   "outputs": [],
   "source": [
    "os.environ['OPENAI_API_KEY'] = ''"
   ]
  },
  {
   "cell_type": "code",
   "execution_count": 81,
   "id": "1052dbdb",
   "metadata": {},
   "outputs": [],
   "source": [
    "# api key\n",
    "OPENAI_API_KEY = os.getenv('OPENAI_API_KEY')\n",
    "CLIENT = OpenAI(api_key = OPENAI_API_KEY)\n",
    "OPENAI_MODEL = \"gpt-4o\""
   ]
  },
  {
   "cell_type": "code",
   "execution_count": 82,
   "id": "3606e8f1",
   "metadata": {},
   "outputs": [],
   "source": [
    "#reading levels\n",
    "PROFESSIONAL = \"Professional\"\n",
    "COLLEGE_GRADUATE = \"College Graduate\"\n",
    "COLLEGE = \"College\"\n",
    "TENTH_TO_TWELTH_GRADE = \"10th to 12th grade\"\n",
    "EIGTH_TO_NINTH_GRADE = \"8th to 9th grade\"\n",
    "SEVENTH_GRADE = \"7th grade\"\n",
    "SIXTH_GRADE = \"6th grade\"\n",
    "FIFTH_GRADE = \"5th grade\"\n",
    "N_A = \"N/A\""
   ]
  },
  {
   "cell_type": "code",
   "execution_count": 83,
   "id": "2cd9f229",
   "metadata": {},
   "outputs": [],
   "source": [
    "# https://en.wikipedia.org/wiki/Flesch%E2%80%93Kincaid_readability_tests#Flesch_reading_ease\n",
    "def map_reading_level(flesch_reading_ease):\n",
    "    if flesch_reading_ease < 10:\n",
    "        return PROFESSIONAL\n",
    "    elif 10.0 <= flesch_reading_ease < 30.0:\n",
    "        return COLLEGE_GRADUATE\n",
    "    elif 30.0 <= flesch_reading_ease < 50.0:\n",
    "        return COLLEGE\n",
    "    elif 50.0 <= flesch_reading_ease < 60.0:\n",
    "        return TENTH_TO_TWELTH_GRADE\n",
    "    elif 60.0 <= flesch_reading_ease < 70.0:\n",
    "        return EIGTH_TO_NINTH_GRADE\n",
    "    elif 70.0 <= flesch_reading_ease < 80.0:\n",
    "        return SEVENTH_GRADE\n",
    "    elif 80.0 <= flesch_reading_ease < 90.0:\n",
    "        return SIXTH_GRADE\n",
    "    elif 90.0 <= flesch_reading_ease < 100.0:\n",
    "        return FIFTH_GRADE \n",
    "    else:\n",
    "        return N_A"
   ]
  },
  {
   "cell_type": "code",
   "execution_count": 84,
   "id": "9b3ff900-5ddf-43e0-8e11-df32bb34b9e1",
   "metadata": {},
   "outputs": [],
   "source": [
    "# reading ease variables\n",
    "fifth_grade = 95\n",
    "sixth_grade = 85\n",
    "seventh_grade = 75\n",
    "eigth_and_ninth_grade = 65\n",
    "tenth_to_twelfth_grade = 55\n",
    "college = 40\n",
    "college_graduate = 20\n",
    "professional = 5"
   ]
  },
  {
   "cell_type": "code",
   "execution_count": 85,
   "id": "963d4568-46ef-427f-b186-fd1a637dc107",
   "metadata": {},
   "outputs": [],
   "source": [
    "def adjust_difference(diff, threshold):\n",
    "    \"\"\"Adjust the readability difference based on the threshold.\"\"\"\n",
    "    if diff > threshold:\n",
    "        return diff - threshold\n",
    "    return 0"
   ]
  },
  {
   "cell_type": "code",
   "execution_count": 86,
   "id": "081efd91",
   "metadata": {},
   "outputs": [],
   "source": [
    "# import fewshot examples\n",
    "df_fewshot = pd.read_csv('pfx_fewshot_examples_college.csv')"
   ]
  },
  {
   "cell_type": "code",
   "execution_count": 87,
   "id": "db230171",
   "metadata": {},
   "outputs": [],
   "source": [
    "# import evaluation data \n",
    "df_eval = pd.read_csv('pfx_evaluation_data.csv')"
   ]
  },
  {
   "cell_type": "code",
   "execution_count": 88,
   "id": "255fc0aa",
   "metadata": {},
   "outputs": [],
   "source": [
    "# extract the json from openai\n",
    "def extract_json(openai_response):\n",
    "    if openai_response:  # Ensure the response is not None\n",
    "        try:\n",
    "            # Extract content from response object\n",
    "            content = openai_response.message.content\n",
    "            \n",
    "            # Search for JSON within the content\n",
    "            json_match = re.search(r'```json\\n(.*?)\\n```', content, re.DOTALL)\n",
    "            if json_match:\n",
    "                json_str = json_match.group(1)\n",
    "                return json.loads(json_str)  # Parse JSON string to Python dict\n",
    "            else:\n",
    "                print(\"No JSON found in response content.\")\n",
    "                return None\n",
    "        except AttributeError as e:\n",
    "            print(f\"Attribute error: {e}. Ensure the input is a valid response object.\")\n",
    "            return None\n",
    "    else:\n",
    "        return None"
   ]
  },
  {
   "cell_type": "code",
   "execution_count": 25,
   "id": "fabfd6e0",
   "metadata": {},
   "outputs": [],
   "source": [
    "\"\"\"\n",
    "# takes json object and generated icd10 labels for incidental findings \n",
    "def label_icd10s(pfx_outputs_json):\n",
    "    pfx_icd10_fewshot_examples = \"\"\n",
    "    for i, row in df_fewshot.iterrows():\n",
    "        pfx_icd10_fewshot_examples += icd10_example.format(**row)\n",
    "    pfx_icd10_codes = []\n",
    "    pfx_icd10_response = None \n",
    "    for pfx_output in pfx_outputs_json :\n",
    "        try:\n",
    "            prompt = single_fewshot_icd10_labeling_prompt.format(examples = pfx_icd10_fewshot_examples, PFx = pfx_output['PFx'])\n",
    "        except:\n",
    "            print(\"ERROR: %S\" % pfx_output)\n",
    "            return\n",
    "        pfx_icd10_response = CLIENT.chat.completions.create(\n",
    "            model = OPENAI_MODEL,\n",
    "            temperature = 0.0,\n",
    "            messages = [\n",
    "                {\"role\": \"system\", \"content\": \"You are an ICD10 medical coder for incidental findings. \"},\n",
    "                {\"role\": \"system\", \"content\": prompt}\n",
    "            ],\n",
    "            stream = False,\n",
    "        )\n",
    "    pfx_icd10_codes.append(pfx_icd10_response.choices[0])\n",
    "    return list(map(extract_json, pfx_icd10_codes))\n",
    "\n",
    "    \"\"\""
   ]
  },
  {
   "cell_type": "code",
   "execution_count": 89,
   "id": "75775dc2-0bad-4d60-b4e2-9f4b29fa8d65",
   "metadata": {},
   "outputs": [],
   "source": [
    "def label_icd10s(pfx_output):\n",
    "    \"\"\"\n",
    "    Takes a single PFx response (string or JSON) and returns\n",
    "    a labeled ICD-10 result as a Python dictionary (or object).\n",
    "    \"\"\"\n",
    "\n",
    "    # Build up the few-shot examples for ICD-10 labeling\n",
    "    pfx_icd10_fewshot_examples = \"\"\n",
    "    for i, row in df_fewshot.iterrows():\n",
    "        pfx_icd10_fewshot_examples += icd10_example.format(**row)\n",
    "\n",
    "    # Generate the prompt for ICD-10 labeling\n",
    "    # (Adjust the '{PFx}' if pfx_output is a dictionary with a specific key you need)\n",
    "    prompt = single_fewshot_icd10_labeling_prompt.format(\n",
    "        examples=pfx_icd10_fewshot_examples,\n",
    "        PFx=pfx_output  # or PFx=pfx_output['key'] if needed\n",
    "    )\n",
    "\n",
    "    # Call the model to get ICD-10 codes\n",
    "    pfx_icd10_response = CLIENT.chat.completions.create(\n",
    "        model=OPENAI_MODEL,\n",
    "        temperature=0.0,\n",
    "        messages=[\n",
    "            {\n",
    "                \"role\": \"system\",\n",
    "                \"content\": \"You are an ICD10 medical coder for incidental findings.\"\n",
    "            },\n",
    "            {\n",
    "                \"role\": \"system\",\n",
    "                \"content\": prompt\n",
    "            }\n",
    "        ],\n",
    "        stream=False,\n",
    "    )\n",
    "\n",
    "    # Extract the JSON structure (or dictionary) from the LLM response\n",
    "    labeled_result = extract_json(pfx_icd10_response.choices[0])\n",
    "\n",
    "    return labeled_result\n"
   ]
  },
  {
   "cell_type": "markdown",
   "id": "bda7d2c1",
   "metadata": {},
   "source": [
    "USE THIS WHEN GENERATING PFx FOR A SINGLE INCIDENTAL FINDING"
   ]
  },
  {
   "cell_type": "code",
   "execution_count": 72,
   "id": "e4e3a3e9",
   "metadata": {},
   "outputs": [],
   "source": [
    "# gets zeroshot response \n",
    "pfx_zeroshot_outputs = []\n",
    "for i, row in df_eval.iloc[24:25].iterrows():\n",
    "        prompt = baseline_zeroshot_prompt.format(Incidental_Finding = row['Incidental_Finding'], Reading_Level = SIXTH_GRADE)\n",
    "pfx_response = None \n",
    "pfx_response = CLIENT.chat.completions.create(\n",
    "    model = OPENAI_MODEL,\n",
    "    temperature = 0.0,\n",
    "    messages = [\n",
    "        {\"role\": \"system\", \"content\": \"You are a md doctor rephrasing and explaining medical terminology to a patient in an understandable manor.\"},\n",
    "        {\"role\": \"system\", \"content\": prompt}\n",
    "    ],\n",
    "    stream = False,\n",
    ")\n",
    "\n",
    "pfx_zeroshot_outputs.append(pfx_response.choices[0])"
   ]
  },
  {
   "cell_type": "code",
   "execution_count": 73,
   "id": "1437c1d9",
   "metadata": {},
   "outputs": [],
   "source": [
    "# converts to a readable format \n",
    "pfx_zeroshot_outputs_json = list(map(extract_json, pfx_zeroshot_outputs))"
   ]
  },
  {
   "cell_type": "code",
   "execution_count": 74,
   "id": "08ce490c",
   "metadata": {},
   "outputs": [
    {
     "data": {
      "text/plain": [
       "[{'finding': 'Pineal cyst',\n",
       "  'ICD10_code': 'Q04.6',\n",
       "  'PFx': \"A pineal cyst is a small, fluid-filled sac in the pineal gland, which is a tiny part of your brain. Most of the time, these cysts are harmless and don't cause any symptoms. They are often found by accident when you have a brain scan for another reason. Think of it like a small bubble that doesn't usually cause any trouble. Doctors usually just keep an eye on it to make sure it doesn't grow or cause problems. It's important to know that having a pineal cyst is quite common and usually nothing to worry about.\",\n",
       "  'PFx_ICD10_code': 'R93.0'}]"
      ]
     },
     "execution_count": 74,
     "metadata": {},
     "output_type": "execute_result"
    }
   ],
   "source": [
    "pfx_zeroshot_outputs_json"
   ]
  },
  {
   "cell_type": "code",
   "execution_count": 75,
   "id": "be5195e0",
   "metadata": {},
   "outputs": [],
   "source": [
    "pfx_zeroshot_output_df = pd.DataFrame(pfx_zeroshot_outputs_json)"
   ]
  },
  {
   "cell_type": "code",
   "execution_count": 76,
   "id": "b4b9f5dd-88fa-4a77-9164-a814c1a7c6b5",
   "metadata": {},
   "outputs": [
    {
     "data": {
      "text/html": [
       "<div>\n",
       "<style scoped>\n",
       "    .dataframe tbody tr th:only-of-type {\n",
       "        vertical-align: middle;\n",
       "    }\n",
       "\n",
       "    .dataframe tbody tr th {\n",
       "        vertical-align: top;\n",
       "    }\n",
       "\n",
       "    .dataframe thead th {\n",
       "        text-align: right;\n",
       "    }\n",
       "</style>\n",
       "<table border=\"1\" class=\"dataframe\">\n",
       "  <thead>\n",
       "    <tr style=\"text-align: right;\">\n",
       "      <th></th>\n",
       "      <th>finding</th>\n",
       "      <th>ICD10_code</th>\n",
       "      <th>PFx</th>\n",
       "      <th>PFx_ICD10_code</th>\n",
       "    </tr>\n",
       "  </thead>\n",
       "  <tbody>\n",
       "    <tr>\n",
       "      <th>0</th>\n",
       "      <td>Pineal cyst</td>\n",
       "      <td>Q04.6</td>\n",
       "      <td>A pineal cyst is a small, fluid-filled sac in ...</td>\n",
       "      <td>R93.0</td>\n",
       "    </tr>\n",
       "  </tbody>\n",
       "</table>\n",
       "</div>"
      ],
      "text/plain": [
       "       finding ICD10_code                                                PFx  \\\n",
       "0  Pineal cyst      Q04.6  A pineal cyst is a small, fluid-filled sac in ...   \n",
       "\n",
       "  PFx_ICD10_code  \n",
       "0          R93.0  "
      ]
     },
     "execution_count": 76,
     "metadata": {},
     "output_type": "execute_result"
    }
   ],
   "source": [
    "pfx_zeroshot_output_df"
   ]
  },
  {
   "cell_type": "code",
   "execution_count": null,
   "id": "d619a0c3-3abd-4c1e-8898-d74a94dab20b",
   "metadata": {},
   "outputs": [],
   "source": [
    "pfx_zeroshot_outputs_icd10_labels = label_icd10s(pfx_zeroshot_outputs_json)"
   ]
  },
  {
   "cell_type": "code",
   "execution_count": null,
   "id": "01633b5f",
   "metadata": {},
   "outputs": [],
   "source": [
    "pfx_zeroshot_output_df['_0_agent_icd10_codes'] = list(map(lambda x: list(x.values())[0] if x else \"\", pfx_zeroshot_outputs_icd10_labels))\n",
    "pfx_zeroshot_output_df[\"_0_icd10_matches\"]= pfx_zeroshot_output_df.ICD10_code == pfx_zeroshot_output_df._0_agent_icd10_codes\n",
    "pfx_zeroshot_output_df[\"_0_pfx_icd10_matches\"] = pfx_zeroshot_output_df.ICD10_code == pfx_zeroshot_output_df[\"PFx_ICD10_code\"] \n",
    "pfx_zeroshot_output_df[\"_0_flesch\"] = pfx_zeroshot_output_df['PFx'].apply(textstat.flesch_reading_ease)\n",
    "pfx_zeroshot_output_df[\"_0_reading_level\"] = pfx_zeroshot_output_df['_0_flesch'].apply(map_reading_level)\n",
    "pfx_zeroshot_output_df[\"_0_flesch_kincaid\"] = pfx_zeroshot_output_df['PFx'].apply(textstat.flesch_kincaid_grade)\n",
    "pfx_zeroshot_output_df[\"_0_reading_level_matches\"] = pfx_zeroshot_output_df['_0_reading_level'] == TENTH_TO_TWELTH_GRADE"
   ]
  },
  {
   "cell_type": "code",
   "execution_count": null,
   "id": "abb0c92e",
   "metadata": {},
   "outputs": [],
   "source": [
    "desired_reading_ease = sixth_grade\n",
    "\n",
    "# Calculate accuracy score\n",
    "accuracy_icd10_matches = sum(pfx_zeroshot_output_df[\"_0_icd10_matches\"]) / len(pfx_zeroshot_output_df.index)\n",
    "accuracy_pfx_matches = sum(pfx_zeroshot_output_df[\"_0_pfx_icd10_matches\"]) / len(pfx_zeroshot_output_df.index)\n",
    "flesch_score = pfx_zeroshot_output_df[\"_0_flesch\"]\n",
    "\n",
    "# Adjust weights for overall score\n",
    "# Calculate readability score \n",
    "readability_score = pfx_zeroshot_output_df[\"_0_flesch\"]\n",
    "readability_difference = abs(readability_score - desired_reading_ease)\n",
    "if desired_reading_ease >= 55:\n",
    "    # Adjust element-wise if readability_difference is a Series\n",
    "    readability_difference = readability_difference.apply(lambda x: x - 5 if x > 5 else 0)\n",
    "elif desired_reading_ease >= 20:\n",
    "    readability_difference = readability_difference.apply(lambda x: x - 10 if x > 10 else 0)\n",
    "\n",
    "readability_difference_p = readability_difference/10\n",
    "\n",
    "# Compute the overall score\n",
    "overall_score = (accuracy_icd10_matches * 0.35) + (accuracy_pfx_matches * 0.35) - (readability_difference_p * 0.3)\n",
    "\n",
    "grades_data = []\n",
    "grades_data.append({\n",
    "    \"accuracy_agent_icd10\": float(accuracy_icd10_matches),  # Assuming accuracy is already a scalar\n",
    "    \"accuracy_pfx_icd10\": float(accuracy_pfx_matches),\n",
    "    \"readability_difference\": float(readability_difference.iloc[0]),  # Use .iloc[0] to extract scalar\n",
    "    \"overall_score\": float(overall_score.iloc[0])  # Use .iloc[0] to extract scalar\n",
    "}) \n",
    "grades = pd.DataFrame(grades_data)\n"
   ]
  },
  {
   "cell_type": "code",
   "execution_count": null,
   "id": "d90238c4-8913-4a36-8f2b-ba35813298c4",
   "metadata": {},
   "outputs": [],
   "source": [
    "flesch_score"
   ]
  },
  {
   "cell_type": "code",
   "execution_count": null,
   "id": "a3bf968e-8d5c-48f8-851e-5715f1e9dc30",
   "metadata": {},
   "outputs": [],
   "source": [
    "grades"
   ]
  },
  {
   "cell_type": "markdown",
   "id": "51d8e8b8",
   "metadata": {},
   "source": [
    "USE THIS FOR GENERATING PFx FOR ALL INCIDENTAL FINDINGS"
   ]
  },
  {
   "cell_type": "code",
   "execution_count": 114,
   "id": "12e0f0ba-276e-4fbd-b7ef-3428956c24a4",
   "metadata": {},
   "outputs": [],
   "source": [
    "# empty list to store results\n",
    "results = pd.DataFrame(columns=[\"finding\", \"ICD10_code\", \"PFx\", \"PFx_ICD10_code\"])\n",
    "\n",
    "# generate each PFx for each row in df_eval\n",
    "for i, row in df_eval.iterrows():\n",
    "    prompt = baseline_zeroshot_prompt.format(Incidental_Finding=row['Incidental_Finding'], Reading_Level=SIXTH_GRADE)\n",
    "    \n",
    "    pfx_response = CLIENT.chat.completions.create(\n",
    "        model=OPENAI_MODEL,\n",
    "        temperature=0.0,\n",
    "        messages=[\n",
    "            {\"role\": \"system\", \"content\": \"You are a md doctor rephrasing and explaining medical terminology to a patient in an understandable manner.\"},\n",
    "            {\"role\": \"system\", \"content\": prompt}\n",
    "        ],\n",
    "        stream=False,\n",
    "    )\n",
    "    \n",
    "    # Extract the JSON from the response\n",
    "    extracted_response = extract_json(pfx_response.choices[0])\n",
    "    \n",
    "    # Append the result to the list\n",
    "    results.loc[i] = extracted_response\n",
    "\n",
    "pfx_zeroshot_output_all_df = pd.DataFrame(results)"
   ]
  },
  {
   "cell_type": "code",
   "execution_count": 115,
   "id": "9e6529c8-49b5-4987-ab5b-23031289ca50",
   "metadata": {},
   "outputs": [
    {
     "data": {
      "text/html": [
       "<div>\n",
       "<style scoped>\n",
       "    .dataframe tbody tr th:only-of-type {\n",
       "        vertical-align: middle;\n",
       "    }\n",
       "\n",
       "    .dataframe tbody tr th {\n",
       "        vertical-align: top;\n",
       "    }\n",
       "\n",
       "    .dataframe thead th {\n",
       "        text-align: right;\n",
       "    }\n",
       "</style>\n",
       "<table border=\"1\" class=\"dataframe\">\n",
       "  <thead>\n",
       "    <tr style=\"text-align: right;\">\n",
       "      <th></th>\n",
       "      <th>finding</th>\n",
       "      <th>ICD10_code</th>\n",
       "      <th>PFx</th>\n",
       "      <th>PFx_ICD10_code</th>\n",
       "    </tr>\n",
       "  </thead>\n",
       "  <tbody>\n",
       "    <tr>\n",
       "      <th>0</th>\n",
       "      <td>White matter lesions</td>\n",
       "      <td>R90.89</td>\n",
       "      <td>White matter lesions are small changes in the ...</td>\n",
       "      <td>Z71.89</td>\n",
       "    </tr>\n",
       "    <tr>\n",
       "      <th>1</th>\n",
       "      <td>Arachnoid cyst</td>\n",
       "      <td>G93.0</td>\n",
       "      <td>An arachnoid cyst is like a small bubble fille...</td>\n",
       "      <td>Z03.89</td>\n",
       "    </tr>\n",
       "    <tr>\n",
       "      <th>2</th>\n",
       "      <td>Pituitary microadenoma</td>\n",
       "      <td>D35.2</td>\n",
       "      <td>A pituitary microadenoma is a small, non-cance...</td>\n",
       "      <td>R68.89</td>\n",
       "    </tr>\n",
       "    <tr>\n",
       "      <th>3</th>\n",
       "      <td>Pineal cyst</td>\n",
       "      <td>Q04.6</td>\n",
       "      <td>A pineal cyst is a small, fluid-filled sac in ...</td>\n",
       "      <td>R93.0</td>\n",
       "    </tr>\n",
       "  </tbody>\n",
       "</table>\n",
       "</div>"
      ],
      "text/plain": [
       "                  finding ICD10_code  \\\n",
       "0    White matter lesions     R90.89   \n",
       "1          Arachnoid cyst      G93.0   \n",
       "2  Pituitary microadenoma      D35.2   \n",
       "3             Pineal cyst      Q04.6   \n",
       "\n",
       "                                                 PFx PFx_ICD10_code  \n",
       "0  White matter lesions are small changes in the ...         Z71.89  \n",
       "1  An arachnoid cyst is like a small bubble fille...         Z03.89  \n",
       "2  A pituitary microadenoma is a small, non-cance...         R68.89  \n",
       "3  A pineal cyst is a small, fluid-filled sac in ...          R93.0  "
      ]
     },
     "execution_count": 115,
     "metadata": {},
     "output_type": "execute_result"
    }
   ],
   "source": [
    "pfx_zeroshot_output_all_df"
   ]
  },
  {
   "cell_type": "code",
   "execution_count": 116,
   "id": "c56a0a9c",
   "metadata": {},
   "outputs": [],
   "source": [
    "# Create a new list to store the labeled ICD10 responses\n",
    "labeled_icd10_responses = []\n",
    "\n",
    "# Iterate over each response in pfx_zeroshot_output_all_df and apply the label_icd10s function\n",
    "for response in pfx_zeroshot_output_all_df['PFx']:\n",
    "    labeled_icd10_responses.append(label_icd10s(response))"
   ]
  },
  {
   "cell_type": "code",
   "execution_count": 129,
   "id": "c6f19dd2-60a0-4cba-a270-7567de27a732",
   "metadata": {},
   "outputs": [
    {
     "data": {
      "text/plain": [
       "[{'ICD10_code': 'R90.89'},\n",
       " {'ICD10_code': 'Q04.6'},\n",
       " {'ICD10_code': 'D35.2'},\n",
       " {'ICD10_code': 'Q04.8'}]"
      ]
     },
     "execution_count": 129,
     "metadata": {},
     "output_type": "execute_result"
    }
   ],
   "source": [
    "labeled_icd10_responses"
   ]
  },
  {
   "cell_type": "code",
   "execution_count": 118,
   "id": "afeed338-3683-4aff-8b8d-4750f381e572",
   "metadata": {},
   "outputs": [
    {
     "data": {
      "text/plain": [
       "Index(['finding', 'ICD10_code', 'PFx', 'PFx_ICD10_code'], dtype='object')"
      ]
     },
     "execution_count": 118,
     "metadata": {},
     "output_type": "execute_result"
    }
   ],
   "source": [
    "pfx_zeroshot_output_all_df.columns"
   ]
  },
  {
   "cell_type": "code",
   "execution_count": 146,
   "id": "220e4e32-f92f-4525-99ed-61416fbfd660",
   "metadata": {},
   "outputs": [
    {
     "name": "stdout",
     "output_type": "stream",
     "text": [
      "Index 0: {'ICD10_code': 'R90.89'}, Type: <class 'dict'>\n",
      "Index 1: {'ICD10_code': 'Q04.6'}, Type: <class 'dict'>\n",
      "Index 2: {'ICD10_code': 'D35.2'}, Type: <class 'dict'>\n",
      "Index 3: {'ICD10_code': 'Q04.8'}, Type: <class 'dict'>\n"
     ]
    }
   ],
   "source": [
    "for i, item in enumerate(labeled_icd10_responses):\n",
    "    print(f\"Index {i}: {item}, Type: {type(item)}\")"
   ]
  },
  {
   "cell_type": "code",
   "execution_count": 147,
   "id": "7d71e865-63bc-49d6-956b-1ef27cffabf5",
   "metadata": {},
   "outputs": [
    {
     "name": "stdout",
     "output_type": "stream",
     "text": [
      "Last element: {'ICD10_code': 'Q04.8'}, Type: <class 'dict'>\n"
     ]
    }
   ],
   "source": [
    "print(f\"Last element: {labeled_icd10_responses[-1]}, Type: {type(labeled_icd10_responses[-1])}\")"
   ]
  },
  {
   "cell_type": "code",
   "execution_count": 154,
   "id": "39091110-c819-4bad-a573-01c896211bba",
   "metadata": {},
   "outputs": [
    {
     "name": "stdout",
     "output_type": "stream",
     "text": [
      "Number of rows in DataFrame:4\n",
      "Length of agent_icd10_codes: 4\n",
      "Length of pfx_icd10_matches: 4\n",
      "Length of flesch scores: 4\n",
      "['R90.89', 'Q04.6', 'D35.2', 'Q04.8']\n"
     ]
    }
   ],
   "source": [
    "# Create lists to store the results\n",
    "agent_icd10_codes = []\n",
    "icd10_matches = []\n",
    "pfx_icd10_matches = []\n",
    "flesch_scores = []\n",
    "\n",
    "agent_icd10_codes.extend([list(x.values())[0] if x else \"\" for x in labeled_icd10_responses])\n",
    "\n",
    "for index, row in pfx_zeroshot_output_all_df.iterrows():\n",
    "    # Compare to the \"ICD10_code\" in your DataFrame (if it exists)\n",
    "    icd10_match = (row[\"ICD10_code\"] == agent_icd10_code)\n",
    "    icd10_matches.append(icd10_match)\n",
    "\n",
    "    # compare \n",
    "    pfx_icd10_match = (row[\"PFx_ICD10_code\"] == row[\"ICD10_code\"])\n",
    "    pfx_icd10_matches.append(pfx_icd10_match)\n",
    "\n",
    "    # Calculate the Flesch Reading Ease score\n",
    "    flesch_score = textstat.flesch_reading_ease(row['PFx'])\n",
    "    flesch_scores.append(flesch_score)\n",
    "\n",
    "# Add the results to the DataFrame\n",
    "pfx_zeroshot_output_all_df['_0_agent_icd10_codes'] = agent_icd10_codes\n",
    "pfx_zeroshot_output_all_df['_0_icd10_matches'] = icd10_matches\n",
    "pfx_zeroshot_output_all_df['_0_pfx_icd10_matches'] = pfx_icd10_matches\n",
    "pfx_zeroshot_output_all_df['_0_flesch'] = flesch_scores"
   ]
  },
  {
   "cell_type": "code",
   "execution_count": 155,
   "id": "a8994746",
   "metadata": {},
   "outputs": [],
   "source": [
    "desired_reading_ease = sixth_grade\n",
    "\n",
    "# Create lists to store the results\n",
    "accuracy_icd10_matches_list = []\n",
    "accuracy_pfx_matches_list = []\n",
    "readability_difference_list = []\n",
    "overall_score_list = []\n",
    "\n",
    "# Iterate over each row in the DataFrame\n",
    "for index, row in pfx_zeroshot_output_all_df.iterrows():\n",
    "    # Calculate accuracy score\n",
    "    accuracy_icd10_matches = row[\"_0_icd10_matches\"]\n",
    "    accuracy_pfx_matches = row[\"_0_pfx_icd10_matches\"]\n",
    "    flesch_score = row[\"_0_flesch\"]\n",
    "\n",
    "    # Adjust weights for overall score\n",
    "    # Calculate readability score \n",
    "    readability_score = flesch_score\n",
    "    readability_difference = abs(readability_score - desired_reading_ease)\n",
    "    if desired_reading_ease >= 55:\n",
    "        readability_difference = readability_difference - 5 if readability_difference > 5 else 0\n",
    "    elif desired_reading_ease >= 20:\n",
    "        readability_difference = readability_difference - 10 if readability_difference > 10 else 0\n",
    "\n",
    "    readability_difference_p = readability_difference / 10\n",
    "\n",
    "    # Compute the overall score\n",
    "    overall_score = (accuracy_icd10_matches * 0.35) + (accuracy_pfx_matches * 0.35) - (readability_difference_p * 0.3)\n",
    "\n",
    "    # Append results to lists\n",
    "    accuracy_icd10_matches_list.append(float(accuracy_icd10_matches))\n",
    "    accuracy_pfx_matches_list.append(float(accuracy_pfx_matches))\n",
    "    readability_difference_list.append(float(readability_difference))\n",
    "    overall_score_list.append(float(overall_score))\n",
    "\n",
    "# Create a DataFrame with the results\n",
    "grades_data = {\n",
    "    \"accuracy_agent_icd10\": accuracy_icd10_matches_list,\n",
    "    \"accuracy_pfx_icd10\": accuracy_pfx_matches_list,\n",
    "    \"readability_difference\": readability_difference_list,\n",
    "    \"overall_score\": overall_score_list\n",
    "}\n",
    "grades = pd.DataFrame(grades_data)\n",
    "pfx_zeroshot_output_all_df = pd.concat([pfx_zeroshot_output_all_df, grades], axis=1)\n"
   ]
  },
  {
   "cell_type": "code",
   "execution_count": 156,
   "id": "e64cd83f",
   "metadata": {},
   "outputs": [
    {
     "data": {
      "text/html": [
       "<div>\n",
       "<style scoped>\n",
       "    .dataframe tbody tr th:only-of-type {\n",
       "        vertical-align: middle;\n",
       "    }\n",
       "\n",
       "    .dataframe tbody tr th {\n",
       "        vertical-align: top;\n",
       "    }\n",
       "\n",
       "    .dataframe thead th {\n",
       "        text-align: right;\n",
       "    }\n",
       "</style>\n",
       "<table border=\"1\" class=\"dataframe\">\n",
       "  <thead>\n",
       "    <tr style=\"text-align: right;\">\n",
       "      <th></th>\n",
       "      <th>finding</th>\n",
       "      <th>ICD10_code</th>\n",
       "      <th>PFx</th>\n",
       "      <th>PFx_ICD10_code</th>\n",
       "      <th>_0_agent_icd10_codes</th>\n",
       "      <th>_0_icd10_matches</th>\n",
       "      <th>_0_pfx_icd10_matches</th>\n",
       "      <th>_0_flesch</th>\n",
       "      <th>accuracy_agent_icd10</th>\n",
       "      <th>accuracy_pfx_icd10</th>\n",
       "      <th>readability_difference</th>\n",
       "      <th>overall_score</th>\n",
       "    </tr>\n",
       "  </thead>\n",
       "  <tbody>\n",
       "    <tr>\n",
       "      <th>0</th>\n",
       "      <td>White matter lesions</td>\n",
       "      <td>R90.89</td>\n",
       "      <td>White matter lesions are small changes in the ...</td>\n",
       "      <td>Z71.89</td>\n",
       "      <td>R90.89</td>\n",
       "      <td>True</td>\n",
       "      <td>False</td>\n",
       "      <td>77.37</td>\n",
       "      <td>1.0</td>\n",
       "      <td>0.0</td>\n",
       "      <td>2.63</td>\n",
       "      <td>0.2711</td>\n",
       "    </tr>\n",
       "    <tr>\n",
       "      <th>1</th>\n",
       "      <td>Arachnoid cyst</td>\n",
       "      <td>G93.0</td>\n",
       "      <td>An arachnoid cyst is like a small bubble fille...</td>\n",
       "      <td>Z03.89</td>\n",
       "      <td>Q04.6</td>\n",
       "      <td>False</td>\n",
       "      <td>False</td>\n",
       "      <td>81.33</td>\n",
       "      <td>0.0</td>\n",
       "      <td>0.0</td>\n",
       "      <td>0.00</td>\n",
       "      <td>0.0000</td>\n",
       "    </tr>\n",
       "    <tr>\n",
       "      <th>2</th>\n",
       "      <td>Pituitary microadenoma</td>\n",
       "      <td>D35.2</td>\n",
       "      <td>A pituitary microadenoma is a small, non-cance...</td>\n",
       "      <td>R68.89</td>\n",
       "      <td>D35.2</td>\n",
       "      <td>False</td>\n",
       "      <td>False</td>\n",
       "      <td>78.38</td>\n",
       "      <td>0.0</td>\n",
       "      <td>0.0</td>\n",
       "      <td>1.62</td>\n",
       "      <td>-0.0486</td>\n",
       "    </tr>\n",
       "    <tr>\n",
       "      <th>3</th>\n",
       "      <td>Pineal cyst</td>\n",
       "      <td>Q04.6</td>\n",
       "      <td>A pineal cyst is a small, fluid-filled sac in ...</td>\n",
       "      <td>R93.0</td>\n",
       "      <td>Q04.8</td>\n",
       "      <td>False</td>\n",
       "      <td>False</td>\n",
       "      <td>79.19</td>\n",
       "      <td>0.0</td>\n",
       "      <td>0.0</td>\n",
       "      <td>0.81</td>\n",
       "      <td>-0.0243</td>\n",
       "    </tr>\n",
       "  </tbody>\n",
       "</table>\n",
       "</div>"
      ],
      "text/plain": [
       "                  finding ICD10_code  \\\n",
       "0    White matter lesions     R90.89   \n",
       "1          Arachnoid cyst      G93.0   \n",
       "2  Pituitary microadenoma      D35.2   \n",
       "3             Pineal cyst      Q04.6   \n",
       "\n",
       "                                                 PFx PFx_ICD10_code  \\\n",
       "0  White matter lesions are small changes in the ...         Z71.89   \n",
       "1  An arachnoid cyst is like a small bubble fille...         Z03.89   \n",
       "2  A pituitary microadenoma is a small, non-cance...         R68.89   \n",
       "3  A pineal cyst is a small, fluid-filled sac in ...          R93.0   \n",
       "\n",
       "  _0_agent_icd10_codes  _0_icd10_matches  _0_pfx_icd10_matches  _0_flesch  \\\n",
       "0               R90.89              True                 False      77.37   \n",
       "1                Q04.6             False                 False      81.33   \n",
       "2                D35.2             False                 False      78.38   \n",
       "3                Q04.8             False                 False      79.19   \n",
       "\n",
       "   accuracy_agent_icd10  accuracy_pfx_icd10  readability_difference  \\\n",
       "0                   1.0                 0.0                    2.63   \n",
       "1                   0.0                 0.0                    0.00   \n",
       "2                   0.0                 0.0                    1.62   \n",
       "3                   0.0                 0.0                    0.81   \n",
       "\n",
       "   overall_score  \n",
       "0         0.2711  \n",
       "1         0.0000  \n",
       "2        -0.0486  \n",
       "3        -0.0243  "
      ]
     },
     "execution_count": 156,
     "metadata": {},
     "output_type": "execute_result"
    }
   ],
   "source": [
    "pfx_zeroshot_output_all_df.head()"
   ]
  },
  {
   "cell_type": "code",
   "execution_count": null,
   "id": "74aab077-6062-4421-ba65-66b90b4c4032",
   "metadata": {},
   "outputs": [],
   "source": [
    "# pfx_zeroshot_output_all_df.to_csv('PFx.csv', index = false)"
   ]
  }
 ],
 "metadata": {
  "kernelspec": {
   "display_name": "Python 3 (ipykernel)",
   "language": "python",
   "name": "python3"
  },
  "language_info": {
   "codemirror_mode": {
    "name": "ipython",
    "version": 3
   },
   "file_extension": ".py",
   "mimetype": "text/x-python",
   "name": "python",
   "nbconvert_exporter": "python",
   "pygments_lexer": "ipython3",
   "version": "3.12.5"
  }
 },
 "nbformat": 4,
 "nbformat_minor": 5
}
