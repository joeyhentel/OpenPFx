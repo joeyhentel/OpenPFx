{
 "cells": [
  {
   "cell_type": "code",
   "execution_count": 1,
   "metadata": {},
   "outputs": [],
   "source": [
    "# import necessary libraries\n",
    "import pandas as pd\n",
    "import os\n",
    "import textstat\n",
    "from openai import OpenAI\n",
    "import json\n",
    "import re\n",
    "import requests\n",
    "from dotenv import load_dotenv"
   ]
  },
  {
   "cell_type": "code",
   "execution_count": 2,
   "metadata": {},
   "outputs": [],
   "source": [
    "# import prompts \n",
    "from jh_pfx_prompts import example, icd10_example, baseline_zeroshot_prompt, single_fewshot_prompt, single_fewshot_icd10_labeling_prompt"
   ]
  },
  {
   "cell_type": "code",
   "execution_count": 45,
   "metadata": {},
   "outputs": [],
   "source": [
    "os.environ['OPENAI_API_KEY'] = ''"
   ]
  },
  {
   "cell_type": "code",
   "execution_count": 26,
   "metadata": {},
   "outputs": [],
   "source": [
    "# api key\n",
    "OPENAI_API_KEY = os.getenv('OPENAI_API_KEY')\n",
    "CLIENT = OpenAI(api_key = OPENAI_API_KEY)\n",
    "OPENAI_MODEL = \"gpt-4o\""
   ]
  },
  {
   "cell_type": "code",
   "execution_count": 9,
   "metadata": {},
   "outputs": [],
   "source": [
    "#reading levels\n",
    "PROFESSIONAL = \"Professional\"\n",
    "COLLEGE_GRADUATE = \"College Graduate\"\n",
    "COLLEGE = \"College\"\n",
    "TENTH_TO_TWELTH_GRADE = \"10th to 12th grade\"\n",
    "EIGTH_TO_NINTH_GRADE = \"8th to 9th grade\"\n",
    "SEVENTH_GRADE = \"7th grade\"\n",
    "SIXTH_GRADE = \"6th grade\"\n",
    "FIFTH_GRADE = \"5th grade\"\n",
    "N_A = \"N/A\""
   ]
  },
  {
   "cell_type": "code",
   "execution_count": 10,
   "metadata": {},
   "outputs": [],
   "source": [
    "# https://en.wikipedia.org/wiki/Flesch%E2%80%93Kincaid_readability_tests#Flesch_reading_ease\n",
    "def map_reading_level(flesch_reading_ease):\n",
    "    if flesch_reading_ease < 10:\n",
    "        return PROFESSIONAL\n",
    "    elif 10.0 <= flesch_reading_ease < 30.0:\n",
    "        return COLLEGE_GRADUATE\n",
    "    elif 30.0 <= flesch_reading_ease < 50.0:\n",
    "        return COLLEGE\n",
    "    elif 50.0 <= flesch_reading_ease < 60.0:\n",
    "        return TENTH_TO_TWELTH_GRADE\n",
    "    elif 60.0 <= flesch_reading_ease < 70.0:\n",
    "        return EIGTH_TO_NINTH_GRADE\n",
    "    elif 70.0 <= flesch_reading_ease < 80.0:\n",
    "        return SEVENTH_GRADE\n",
    "    elif 80.0 <= flesch_reading_ease < 90.0:\n",
    "        return SIXTH_GRADE\n",
    "    elif 90.0 <= flesch_reading_ease < 100.0:\n",
    "        return FIFTH_GRADE \n",
    "    else:\n",
    "        return N_A"
   ]
  },
  {
   "cell_type": "code",
   "execution_count": 11,
   "metadata": {},
   "outputs": [],
   "source": [
    "# import fewshot examples\n",
    "df_fewshot = pd.read_csv('pfx_fewshot_examples_college.csv')"
   ]
  },
  {
   "cell_type": "code",
   "execution_count": 12,
   "metadata": {},
   "outputs": [],
   "source": [
    "# import evaluation data \n",
    "df_eval = pd.read_csv('pfx_evaluation_data.csv')"
   ]
  },
  {
   "cell_type": "code",
   "execution_count": 30,
   "metadata": {},
   "outputs": [],
   "source": [
    "def extract_json(openai_response):\n",
    "    if openai_response:  # Ensure the response is not None\n",
    "        # Directly search for JSON within the string response\n",
    "        json_match = re.search(r'```.*?(\\{.*?\\}).*?```', openai_response, re.DOTALL)\n",
    "        if json_match:\n",
    "            json_str = json_match.group(1)  # Extract JSON-like content\n",
    "            try:\n",
    "                # Convert extracted string to a JSON object\n",
    "                json_object = json.loads(json_str.replace('\\n', ''))\n",
    "                return json_object\n",
    "            except json.JSONDecodeError as e:\n",
    "                # Handle JSON decoding errors\n",
    "                print(\"JSON decoding failed: \", e)\n",
    "                return {}\n",
    "        else:\n",
    "            print(\"No JSON object found in the response.\")\n",
    "            return {}\n",
    "    else:\n",
    "        return None"
   ]
  },
  {
   "cell_type": "code",
   "execution_count": 42,
   "metadata": {},
   "outputs": [],
   "source": [
    "def label_icd10s(pfx_outputs_json):\n",
    "    for pfx_output in pfx_outputs_json:\n",
    "        try:\n",
    "            # Construct the prompt\n",
    "            prompt = single_fewshot_icd10_labeling_prompt.format(\n",
    "                examples=df_fewshot,  # Ensure this variable is defined\n",
    "                PFx=pfx_output['PFx']  # Access the PFx value\n",
    "            )\n",
    "        except KeyError as e:\n",
    "            print(f\"ERROR: Missing key in output - {e}\")\n",
    "            continue\n",
    "        except Exception as e:\n",
    "            print(f\"ERROR: Unexpected issue - {e}\")\n",
    "            continue\n",
    "\n",
    "        # Send the request to the API\n",
    "        try:\n",
    "            pfx_icd10_response = CLIENT.chat.completions.create(\n",
    "                model=OPENAI_MODEL,\n",
    "                temperature=0.0,\n",
    "                messages=[\n",
    "                    {\"role\": \"user\", \"content\": prompt}\n",
    "                ],\n",
    "                stream=False,\n",
    "            )\n",
    "            # Process the response\n",
    "            print(pfx_icd10_response)\n",
    "        except Exception as e:\n",
    "            print(f\"ERROR during API call: {e}\")\n"
   ]
  },
  {
   "cell_type": "code",
   "execution_count": 24,
   "metadata": {},
   "outputs": [
    {
     "name": "stdout",
     "output_type": "stream",
     "text": [
      "Prompt: input_variables=['Examples', 'Incidental_Finding', 'Reading_Level'] input_types={} partial_variables={} template='\\n\\n<Prompt>\\nPlease generate new <PFx> for the <Incidental Finding>\\n\\nOutput should be formatted as a json with the following attributes/fields: finding, ICD10_code, PFx, PFx_ICD10_code\\n\\nAdditional Instructions:\\n1. Do not suggest follow-up steps with the doctor\\n2. Use the patient friendly explanation sentences to determine a PFx ICD10_code code.\\n3. Please generate PFx at a {Reading_Level} Flesch-Kincaid reading level.\\n4. Please output PFx in 100 words or more\\n5. Use a bedside manner \\n\\n</Prompt>\\n\\n<Examples>\\n{Examples}\\n</Examples>\\n\\n<Incidental Finding> \\n{Incidental_Finding} \\n</Incidental Finding>  \\n'\n"
     ]
    },
    {
     "data": {
      "text/plain": [
       "True"
      ]
     },
     "execution_count": 24,
     "metadata": {},
     "output_type": "execute_result"
    }
   ],
   "source": [
    "load_dotenv()"
   ]
  },
  {
   "cell_type": "code",
   "execution_count": 28,
   "metadata": {},
   "outputs": [],
   "source": [
    "pfx_fewshot_examples = \"\"\n",
    "for i, row in df_fewshot.iterrows():\n",
    "    pfx_fewshot_examples += example.format(**row)\n",
    "\n",
    "pfx_fewshot_outputs = []\n",
    "\n",
    "for run in range(5):\n",
    "    for i, row in df_eval.iloc[:1].iterrows():\n",
    "        prompt = single_fewshot_prompt.format(\n",
    "            Examples=pfx_fewshot_examples,\n",
    "            Incidental_Finding=row[\"Incidental_Finding\"],\n",
    "            Reading_Level=TENTH_TO_TWELTH_GRADE\n",
    "        )\n",
    "        pfx_response = CLIENT.chat.completions.create(\n",
    "            model=OPENAI_MODEL,\n",
    "            temperature=0.0,\n",
    "            messages=[\n",
    "                {\"role\": \"system\", \"content\": \"You are a medical doctor rephrasing and explaining medical terminology to a patient in an understandable manner.\"},\n",
    "                {\"role\": \"user\", \"content\": prompt}\n",
    "            ],\n",
    "            stream=False,\n",
    "        )\n",
    "        # Corrected append\n",
    "        pfx_fewshot_outputs.append(pfx_response.choices[0].message.content)\n",
    "\n"
   ]
  },
  {
   "cell_type": "code",
   "execution_count": 31,
   "metadata": {},
   "outputs": [],
   "source": [
    "pfx_fewshot_outputs_json = list(map(extract_json, pfx_fewshot_outputs))"
   ]
  },
  {
   "cell_type": "code",
   "execution_count": 32,
   "metadata": {},
   "outputs": [
    {
     "name": "stdout",
     "output_type": "stream",
     "text": [
      "[{'finding': 'White matter lesions', 'ICD10_code': 'R90.82', 'PFx': \"White matter lesions are areas in the brain that appear different on an MRI scan. These changes are often found incidentally and can be associated with aging, migraines, or other conditions. It's important to know that these lesions are common and usually do not cause symptoms or require treatment. However, they can sometimes be linked to conditions like high blood pressure or diabetes, so managing these health issues is beneficial. If you have concerns or experience symptoms like memory problems or balance issues, discussing them with your healthcare provider can help determine if further evaluation is needed.\", 'PFx_ICD10_code': 'R90.82'}, {'finding': 'White matter lesions', 'ICD10_code': 'R90.89', 'PFx': \"White matter lesions are areas in the brain that appear different on an MRI scan. These changes are often found incidentally and can be due to a variety of reasons, such as aging, migraines, or high blood pressure. It's important to know that these lesions are common and usually don't cause any symptoms or require treatment. However, they can sometimes be associated with conditions like multiple sclerosis or small vessel disease. If you have concerns or develop symptoms like memory problems or balance issues, further evaluation may be needed to understand their significance.\", 'PFx_ICD10_code': 'R90.89'}, {'finding': 'White matter lesions', 'ICD10_code': 'R90.89', 'PFx': \"White matter lesions are areas in the brain that appear different on an MRI scan. These changes are often found incidentally and can be due to a variety of reasons, such as aging, migraines, or high blood pressure. It's important to know that these lesions are common and usually don't cause any symptoms. However, in some cases, they might be associated with conditions like multiple sclerosis or small vessel disease. If you have any symptoms or concerns, your doctor may suggest further evaluation to understand the cause and decide if any treatment is needed.\", 'PFx_ICD10_code': 'R90.89'}, {'finding': 'White matter lesions', 'ICD10_code': 'R90.82', 'PFx': \"White matter lesions are areas in the brain that appear different on an MRI scan. These changes are often found incidentally and can be related to a variety of factors, including aging, high blood pressure, or other medical conditions. It's important to know that these lesions are common and often do not cause any symptoms. However, in some cases, they might be associated with issues like memory changes or balance problems. If you have concerns or notice any new symptoms, it's a good idea to discuss them with your healthcare provider to understand their significance and any potential next steps.\", 'PFx_ICD10_code': 'R90.82'}, {'finding': 'White matter lesions', 'ICD10_code': 'R90.89', 'PFx': \"White matter lesions are areas in the brain that appear different on an MRI scan. These changes are often found incidentally and can be due to a variety of reasons, such as aging, migraines, or high blood pressure. It's important to know that these lesions are common and usually don't cause any symptoms or require treatment. However, they can sometimes be associated with certain conditions, so it's good to keep an eye on them. If you experience any new symptoms like memory problems or balance issues, it's important to discuss them with your healthcare provider.\", 'PFx_ICD10_code': 'R90.89'}]\n"
     ]
    }
   ],
   "source": [
    "print(pfx_fewshot_outputs_json)"
   ]
  },
  {
   "cell_type": "code",
   "execution_count": 34,
   "metadata": {},
   "outputs": [],
   "source": [
    "pfx_fewshot_output_df = pd.DataFrame(pfx_fewshot_outputs_json)"
   ]
  },
  {
   "cell_type": "code",
   "execution_count": 35,
   "metadata": {},
   "outputs": [
    {
     "name": "stdout",
     "output_type": "stream",
     "text": [
      "                finding ICD10_code  \\\n",
      "0  White matter lesions     R90.82   \n",
      "1  White matter lesions     R90.89   \n",
      "2  White matter lesions     R90.89   \n",
      "3  White matter lesions     R90.82   \n",
      "4  White matter lesions     R90.89   \n",
      "\n",
      "                                                 PFx PFx_ICD10_code  \n",
      "0  White matter lesions are areas in the brain th...         R90.82  \n",
      "1  White matter lesions are areas in the brain th...         R90.89  \n",
      "2  White matter lesions are areas in the brain th...         R90.89  \n",
      "3  White matter lesions are areas in the brain th...         R90.82  \n",
      "4  White matter lesions are areas in the brain th...         R90.89  \n"
     ]
    }
   ],
   "source": [
    "print(pfx_fewshot_output_df)"
   ]
  },
  {
   "cell_type": "code",
   "execution_count": 43,
   "metadata": {},
   "outputs": [
    {
     "name": "stdout",
     "output_type": "stream",
     "text": [
      "ChatCompletion(id='chatcmpl-AWEMPkM7ifqhcCl8E5nX938W0xKhN', choices=[Choice(finish_reason='stop', index=0, logprobs=None, message=ChatCompletionMessage(content='```json\\n{\\n  \"ICD10_code\": \"R90.89\"\\n}\\n```', refusal=None, role='assistant', audio=None, function_call=None, tool_calls=None))], created=1732245061, model='gpt-4o-2024-08-06', object='chat.completion', service_tier=None, system_fingerprint='fp_831e067d82', usage=CompletionUsage(completion_tokens=19, prompt_tokens=603, total_tokens=622, completion_tokens_details=CompletionTokensDetails(accepted_prediction_tokens=0, audio_tokens=0, reasoning_tokens=0, rejected_prediction_tokens=0), prompt_tokens_details=PromptTokensDetails(audio_tokens=0, cached_tokens=0)))\n",
      "ChatCompletion(id='chatcmpl-AWEMQ51czq351XTk3LElQBCFdgsXW', choices=[Choice(finish_reason='stop', index=0, logprobs=None, message=ChatCompletionMessage(content='```json\\n{\\n  \"ICD10_code\": \"R90.89\"\\n}\\n```', refusal=None, role='assistant', audio=None, function_call=None, tool_calls=None))], created=1732245062, model='gpt-4o-2024-08-06', object='chat.completion', service_tier=None, system_fingerprint='fp_45cf54deae', usage=CompletionUsage(completion_tokens=19, prompt_tokens=591, total_tokens=610, completion_tokens_details=CompletionTokensDetails(accepted_prediction_tokens=0, audio_tokens=0, reasoning_tokens=0, rejected_prediction_tokens=0), prompt_tokens_details=PromptTokensDetails(audio_tokens=0, cached_tokens=0)))\n",
      "ChatCompletion(id='chatcmpl-AWEMRN0t2t4UqAgBusdFaSgnHpiph', choices=[Choice(finish_reason='stop', index=0, logprobs=None, message=ChatCompletionMessage(content='```json\\n{\\n  \"ICD10_code\": \"R90.89\"\\n}\\n```', refusal=None, role='assistant', audio=None, function_call=None, tool_calls=None))], created=1732245063, model='gpt-4o-2024-08-06', object='chat.completion', service_tier=None, system_fingerprint='fp_831e067d82', usage=CompletionUsage(completion_tokens=19, prompt_tokens=597, total_tokens=616, completion_tokens_details=CompletionTokensDetails(accepted_prediction_tokens=0, audio_tokens=0, reasoning_tokens=0, rejected_prediction_tokens=0), prompt_tokens_details=PromptTokensDetails(audio_tokens=0, cached_tokens=0)))\n",
      "ChatCompletion(id='chatcmpl-AWEMS7zcnKE4d6NIj2WLfZjMPjmag', choices=[Choice(finish_reason='stop', index=0, logprobs=None, message=ChatCompletionMessage(content='```json\\n{\\n  \"ICD10_code\": \"R90.89\"\\n}\\n```', refusal=None, role='assistant', audio=None, function_call=None, tool_calls=None))], created=1732245064, model='gpt-4o-2024-08-06', object='chat.completion', service_tier=None, system_fingerprint='fp_7f6be3efb0', usage=CompletionUsage(completion_tokens=19, prompt_tokens=615, total_tokens=634, completion_tokens_details=CompletionTokensDetails(accepted_prediction_tokens=0, audio_tokens=0, reasoning_tokens=0, rejected_prediction_tokens=0), prompt_tokens_details=PromptTokensDetails(audio_tokens=0, cached_tokens=0)))\n",
      "ChatCompletion(id='chatcmpl-AWEMTWh7HhooEZVcAsKudJrktjsg8', choices=[Choice(finish_reason='stop', index=0, logprobs=None, message=ChatCompletionMessage(content='```json\\n{\\n  \"ICD10_code\": \"R90.89\"\\n}\\n```', refusal=None, role='assistant', audio=None, function_call=None, tool_calls=None))], created=1732245065, model='gpt-4o-2024-08-06', object='chat.completion', service_tier=None, system_fingerprint='fp_831e067d82', usage=CompletionUsage(completion_tokens=19, prompt_tokens=600, total_tokens=619, completion_tokens_details=CompletionTokensDetails(accepted_prediction_tokens=0, audio_tokens=0, reasoning_tokens=0, rejected_prediction_tokens=0), prompt_tokens_details=PromptTokensDetails(audio_tokens=0, cached_tokens=0)))\n"
     ]
    }
   ],
   "source": [
    "pfx_fewshot_outputs_icd10_labels = label_icd10s(pfx_fewshot_outputs_json)"
   ]
  },
  {
   "cell_type": "code",
   "execution_count": 44,
   "metadata": {},
   "outputs": [
    {
     "name": "stdout",
     "output_type": "stream",
     "text": [
      "None\n"
     ]
    }
   ],
   "source": [
    "print(pfx_fewshot_outputs_icd10_labels)"
   ]
  },
  {
   "cell_type": "code",
   "execution_count": null,
   "metadata": {},
   "outputs": [],
   "source": [
    "pfx_fewshot_output_df['_0_agent_icd10_codes'] = list(map(lambda x: list(x.values())[0] if x else \"\",pfx_fewshot_outputs_icd10_labels))\n",
    "pfx_fewshot_output_df[\"_0_icd10_matches\"]= pfx_fewshot_output_df.ICD10_code == pfx_fewshot_output_df._0_agent_icd10_codes\n",
    "pfx_fewshot_output_df[\"_0_flesch\"] = pfx_fewshot_output_df['PFx'].apply(textstat.flesch_reading_ease)\n",
    "pfx_fewshot_output_df[\"_0_reading_level\"] = pfx_fewshot_output_df['_0_flesch'].apply(map_reading_level)"
   ]
  },
  {
   "cell_type": "code",
   "execution_count": null,
   "metadata": {},
   "outputs": [],
   "source": [
    "sum(pfx_fewshot_output_df[\"_0_icd10_matches\"])/len(pfx_fewshot_output_df.index)"
   ]
  },
  {
   "cell_type": "code",
   "execution_count": null,
   "metadata": {},
   "outputs": [],
   "source": [
    "pfx_fewshot_output_df[pfx_fewshot_output_df._0_reading_level != TENTH_TO_TWELTH_GRADE].count()"
   ]
  },
  {
   "cell_type": "code",
   "execution_count": null,
   "metadata": {},
   "outputs": [],
   "source": [
    "pfx_fewshot_output_df[pfx_fewshot_output_df._0_flesch < 60].count()"
   ]
  }
 ],
 "metadata": {
  "kernelspec": {
   "display_name": "Python 3 (ipykernel)",
   "language": "python",
   "name": "python3"
  },
  "language_info": {
   "codemirror_mode": {
    "name": "ipython",
    "version": 3
   },
   "file_extension": ".py",
   "mimetype": "text/x-python",
   "name": "python",
   "nbconvert_exporter": "python",
   "pygments_lexer": "ipython3",
   "version": "3.12.5"
  }
 },
 "nbformat": 4,
 "nbformat_minor": 4
}
