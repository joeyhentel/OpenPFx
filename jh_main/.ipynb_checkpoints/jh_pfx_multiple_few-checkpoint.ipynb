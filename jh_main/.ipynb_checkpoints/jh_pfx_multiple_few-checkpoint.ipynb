{
 "cells": [
  {
   "cell_type": "code",
   "execution_count": 8,
   "metadata": {},
   "outputs": [],
   "source": [
    "# import necessary libraries\n",
    "import pandas as pd\n",
    "import os\n",
    "import textstat\n",
    "from openai import OpenAI\n",
    "import json\n",
    "import re\n",
    "import requests\n",
    "from dotenv import load_dotenv\n",
    "import math"
   ]
  },
  {
   "cell_type": "code",
   "execution_count": 9,
   "metadata": {},
   "outputs": [],
   "source": [
    "# import prompts \n",
    "from jh_pfx_prompts import example, icd10_example, baseline_zeroshot_prompt, single_fewshot_prompt, single_fewshot_icd10_labeling_prompt"
   ]
  },
  {
   "cell_type": "code",
   "execution_count": 10,
   "metadata": {},
   "outputs": [],
   "source": [
    "os.environ['OPENAI_API_KEY'] = ''"
   ]
  },
  {
   "cell_type": "code",
   "execution_count": 11,
   "metadata": {},
   "outputs": [],
   "source": [
    "# api key\n",
    "OPENAI_API_KEY = os.getenv('OPENAI_API_KEY')\n",
    "CLIENT = OpenAI(api_key = OPENAI_API_KEY)\n",
    "OPENAI_MODEL = \"gpt-4o\""
   ]
  },
  {
   "cell_type": "code",
   "execution_count": 12,
   "metadata": {},
   "outputs": [],
   "source": [
    "#reading levels\n",
    "PROFESSIONAL = \"Professional\"\n",
    "COLLEGE_GRADUATE = \"College Graduate\"\n",
    "COLLEGE = \"College\"\n",
    "TENTH_TO_TWELTH_GRADE = \"10th to 12th grade\"\n",
    "EIGTH_TO_NINTH_GRADE = \"8th to 9th grade\"\n",
    "SEVENTH_GRADE = \"7th grade\"\n",
    "SIXTH_GRADE = \"6th grade\"\n",
    "FIFTH_GRADE = \"5th grade\"\n",
    "N_A = \"N/A\""
   ]
  },
  {
   "cell_type": "code",
   "execution_count": 13,
   "metadata": {},
   "outputs": [],
   "source": [
    "# https://en.wikipedia.org/wiki/Flesch%E2%80%93Kincaid_readability_tests#Flesch_reading_ease\n",
    "def map_reading_level(flesch_reading_ease):\n",
    "    if flesch_reading_ease < 10:\n",
    "        return PROFESSIONAL\n",
    "    elif 10.0 <= flesch_reading_ease < 30.0:\n",
    "        return COLLEGE_GRADUATE\n",
    "    elif 30.0 <= flesch_reading_ease < 50.0:\n",
    "        return COLLEGE\n",
    "    elif 50.0 <= flesch_reading_ease < 60.0:\n",
    "        return TENTH_TO_TWELTH_GRADE\n",
    "    elif 60.0 <= flesch_reading_ease < 70.0:\n",
    "        return EIGTH_TO_NINTH_GRADE\n",
    "    elif 70.0 <= flesch_reading_ease < 80.0:\n",
    "        return SEVENTH_GRADE\n",
    "    elif 80.0 <= flesch_reading_ease < 90.0:\n",
    "        return SIXTH_GRADE\n",
    "    elif 90.0 <= flesch_reading_ease < 100.0:\n",
    "        return FIFTH_GRADE \n",
    "    else:\n",
    "        return N_A"
   ]
  },
  {
   "cell_type": "code",
   "execution_count": 14,
   "metadata": {},
   "outputs": [],
   "source": [
    "# reading ease variables\n",
    "fifth_grade = 95\n",
    "sixth_grade = 85\n",
    "seventh_grade = 75\n",
    "eigth_and_ninth_grade = 65\n",
    "tenth_to_twelfth_grade = 55\n",
    "college = 40\n",
    "college_graduate = 20\n",
    "professional = 5"
   ]
  },
  {
   "cell_type": "code",
   "execution_count": 15,
   "metadata": {},
   "outputs": [],
   "source": [
    "def adjust_difference(diff, threshold):\n",
    "    \"\"\"Adjust the readability difference based on the threshold.\"\"\"\n",
    "    if diff > threshold:\n",
    "        return diff - threshold\n",
    "    return 0"
   ]
  },
  {
   "cell_type": "code",
   "execution_count": 16,
   "metadata": {},
   "outputs": [],
   "source": [
    "# import fewshot examples\n",
    "df_fewshot = pd.read_csv('pfx_fewshot_examples_college.csv')"
   ]
  },
  {
   "cell_type": "code",
   "execution_count": 17,
   "metadata": {},
   "outputs": [],
   "source": [
    "# import evaluation data \n",
    "df_eval = pd.read_csv('pfx_evaluation_data.csv')"
   ]
  },
  {
   "cell_type": "code",
   "execution_count": 18,
   "metadata": {},
   "outputs": [],
   "source": [
    "def extract_json(openai_response):\n",
    "    if openai_response:  # Ensure the response is not None\n",
    "        # Directly search for JSON within the string response\n",
    "        json_match = re.search(r'```.*?(\\{.*?\\}).*?```', openai_response, re.DOTALL)\n",
    "        if json_match:\n",
    "            json_str = json_match.group(1)  # Extract JSON-like content\n",
    "            try:\n",
    "                # Convert extracted string to a JSON object\n",
    "                json_object = json.loads(json_str.replace('\\n', ''))\n",
    "                return json_object\n",
    "            except json.JSONDecodeError as e:\n",
    "                # Handle JSON decoding errors\n",
    "                print(\"JSON decoding failed: \", e)\n",
    "                return {}\n",
    "        else:\n",
    "            print(\"No JSON object found in the response.\")\n",
    "            return {}\n",
    "    else:\n",
    "        return None"
   ]
  },
  {
   "cell_type": "code",
   "execution_count": 19,
   "metadata": {},
   "outputs": [],
   "source": [
    "def label_icd10s(pfx_outputs_json):\n",
    "    labels = []\n",
    "    for response in pfx_outputs_json:\n",
    "        try:\n",
    "            # Directly get the ICD10_code from the dictionary\n",
    "            labels.append(response.get(\"ICD10_code\", \"Unknown\"))\n",
    "        except Exception as e:\n",
    "            print(f\"Error processing response: {e}\")\n",
    "            labels.append(\"Error\")\n",
    "    return labels"
   ]
  },
  {
   "cell_type": "code",
   "execution_count": 20,
   "metadata": {},
   "outputs": [
    {
     "data": {
      "text/plain": [
       "True"
      ]
     },
     "execution_count": 20,
     "metadata": {},
     "output_type": "execute_result"
    }
   ],
   "source": [
    "load_dotenv()"
   ]
  },
  {
   "cell_type": "code",
   "execution_count": 21,
   "metadata": {},
   "outputs": [],
   "source": [
    "pfx_fewshot_examples = \"\"\n",
    "for i, row in df_fewshot.iterrows():\n",
    "    pfx_fewshot_examples += example.format(**row)\n",
    "\n",
    "pfx_fewshot_outputs = []\n",
    "\n",
    "for run in range(5):\n",
    "    for i, row in df_eval.iloc[24:25].iterrows():\n",
    "        prompt = single_fewshot_prompt.format(\n",
    "            Examples=pfx_fewshot_examples,\n",
    "            Incidental_Finding=row[\"Incidental_Finding\"],\n",
    "            Reading_Level=SIXTH_GRADE\n",
    "        )\n",
    "        pfx_response = CLIENT.chat.completions.create(\n",
    "            model=OPENAI_MODEL,\n",
    "            temperature=0.0,\n",
    "            messages=[\n",
    "                {\"role\": \"system\", \"content\": \"You are a medical doctor rephrasing and explaining medical terminology to a patient in an understandable manner.\"},\n",
    "                {\"role\": \"user\", \"content\": prompt}\n",
    "            ],\n",
    "            stream=False,\n",
    "        )\n",
    "        # Corrected append\n",
    "        pfx_fewshot_outputs.append(pfx_response.choices[0].message.content)\n",
    "\n"
   ]
  },
  {
   "cell_type": "code",
   "execution_count": 22,
   "metadata": {},
   "outputs": [],
   "source": [
    "pfx_fewshot_outputs_json = list(map(extract_json, pfx_fewshot_outputs))"
   ]
  },
  {
   "cell_type": "code",
   "execution_count": 23,
   "metadata": {
    "scrolled": true
   },
   "outputs": [
    {
     "data": {
      "text/plain": [
       "[{'finding': 'Bladder diverticulum',\n",
       "  'ICD10_code': 'N32.3',\n",
       "  'PFx': \"A bladder diverticulum is a small pouch that forms in the bladder wall. It is often found by accident during imaging tests for other reasons. Most of the time, these pouches do not cause any problems and do not need treatment. However, if a diverticulum becomes large or causes symptoms like frequent urinary tract infections or difficulty emptying the bladder, it might need to be checked further. In some cases, a doctor might suggest treatment to prevent complications. It's important to keep an eye on any symptoms and discuss them with your healthcare provider.\",\n",
       "  'PFx_ICD10_code': 'N32.3'},\n",
       " {'finding': 'Bladder diverticulum',\n",
       "  'ICD10_code': 'N32.3',\n",
       "  'PFx': \"A bladder diverticulum is a small pouch that forms in the bladder wall. It is often found by accident during imaging tests for other reasons. Most of the time, these pouches do not cause any problems and do not need treatment. However, if a diverticulum becomes large or causes symptoms like frequent urinary tract infections or difficulty emptying the bladder, it might need to be checked further. In some cases, a doctor might suggest treatment to prevent complications. It's important to keep an eye on any symptoms and discuss them with a healthcare provider if they occur.\",\n",
       "  'PFx_ICD10_code': 'N32.3'},\n",
       " {'finding': 'Bladder diverticulum',\n",
       "  'ICD10_code': 'N32.3',\n",
       "  'PFx': \"A bladder diverticulum is a small pouch that forms in the bladder wall. It is often found by accident during imaging tests for other reasons. Most of the time, these pouches do not cause any problems and do not need treatment. However, if a bladder diverticulum becomes large or causes symptoms like frequent urinary tract infections or difficulty emptying the bladder, it might need to be checked further. In some cases, a doctor might suggest treatment to prevent complications. It's important to keep an eye on any symptoms and discuss them with your healthcare provider.\",\n",
       "  'PFx_ICD10_code': 'N32.3'},\n",
       " {'finding': 'Bladder diverticulum',\n",
       "  'ICD10_code': 'N32.3',\n",
       "  'PFx': \"A bladder diverticulum is a small pouch that forms in the bladder wall. It is often found by accident during imaging tests for other reasons. Most of the time, these pouches do not cause any problems and do not need treatment. However, if a diverticulum becomes large or causes symptoms like frequent urinary tract infections or difficulty emptying the bladder, it might need to be checked further. In some cases, a doctor might suggest treatment to prevent complications. It's important to keep an eye on any symptoms and discuss them with your healthcare provider.\",\n",
       "  'PFx_ICD10_code': 'N32.3'},\n",
       " {'finding': 'Bladder diverticulum',\n",
       "  'ICD10_code': 'N32.3',\n",
       "  'PFx': 'A bladder diverticulum is a small pouch that forms in the bladder wall. It is often found by accident during imaging tests for other reasons. Most of the time, these pouches do not cause any problems and do not need treatment. However, if you notice symptoms like frequent urinary tract infections, trouble urinating, or blood in your urine, it might be related to the diverticulum. In such cases, it is important to talk to your doctor about what might be causing these symptoms and what can be done to help.',\n",
       "  'PFx_ICD10_code': 'N32.3'}]"
      ]
     },
     "execution_count": 23,
     "metadata": {},
     "output_type": "execute_result"
    }
   ],
   "source": [
    "pfx_fewshot_outputs_json"
   ]
  },
  {
   "cell_type": "code",
   "execution_count": 32,
   "metadata": {},
   "outputs": [],
   "source": [
    "pfx_fewshot_output_df = pd.DataFrame(pfx_fewshot_outputs_json)"
   ]
  },
  {
   "cell_type": "code",
   "execution_count": 33,
   "metadata": {
    "scrolled": true
   },
   "outputs": [
    {
     "data": {
      "text/html": [
       "<div>\n",
       "<style scoped>\n",
       "    .dataframe tbody tr th:only-of-type {\n",
       "        vertical-align: middle;\n",
       "    }\n",
       "\n",
       "    .dataframe tbody tr th {\n",
       "        vertical-align: top;\n",
       "    }\n",
       "\n",
       "    .dataframe thead th {\n",
       "        text-align: right;\n",
       "    }\n",
       "</style>\n",
       "<table border=\"1\" class=\"dataframe\">\n",
       "  <thead>\n",
       "    <tr style=\"text-align: right;\">\n",
       "      <th></th>\n",
       "      <th>finding</th>\n",
       "      <th>ICD10_code</th>\n",
       "      <th>PFx</th>\n",
       "      <th>PFx_ICD10_code</th>\n",
       "    </tr>\n",
       "  </thead>\n",
       "  <tbody>\n",
       "    <tr>\n",
       "      <th>0</th>\n",
       "      <td>Bladder diverticulum</td>\n",
       "      <td>N32.3</td>\n",
       "      <td>A bladder diverticulum is a small pouch that f...</td>\n",
       "      <td>N32.3</td>\n",
       "    </tr>\n",
       "    <tr>\n",
       "      <th>1</th>\n",
       "      <td>Bladder diverticulum</td>\n",
       "      <td>N32.3</td>\n",
       "      <td>A bladder diverticulum is a small pouch that f...</td>\n",
       "      <td>N32.3</td>\n",
       "    </tr>\n",
       "    <tr>\n",
       "      <th>2</th>\n",
       "      <td>Bladder diverticulum</td>\n",
       "      <td>N32.3</td>\n",
       "      <td>A bladder diverticulum is a small pouch that f...</td>\n",
       "      <td>N32.3</td>\n",
       "    </tr>\n",
       "    <tr>\n",
       "      <th>3</th>\n",
       "      <td>Bladder diverticulum</td>\n",
       "      <td>N32.3</td>\n",
       "      <td>A bladder diverticulum is a small pouch that f...</td>\n",
       "      <td>N32.3</td>\n",
       "    </tr>\n",
       "    <tr>\n",
       "      <th>4</th>\n",
       "      <td>Bladder diverticulum</td>\n",
       "      <td>N32.3</td>\n",
       "      <td>A bladder diverticulum is a small pouch that f...</td>\n",
       "      <td>N32.3</td>\n",
       "    </tr>\n",
       "  </tbody>\n",
       "</table>\n",
       "</div>"
      ],
      "text/plain": [
       "                finding ICD10_code  \\\n",
       "0  Bladder diverticulum      N32.3   \n",
       "1  Bladder diverticulum      N32.3   \n",
       "2  Bladder diverticulum      N32.3   \n",
       "3  Bladder diverticulum      N32.3   \n",
       "4  Bladder diverticulum      N32.3   \n",
       "\n",
       "                                                 PFx PFx_ICD10_code  \n",
       "0  A bladder diverticulum is a small pouch that f...          N32.3  \n",
       "1  A bladder diverticulum is a small pouch that f...          N32.3  \n",
       "2  A bladder diverticulum is a small pouch that f...          N32.3  \n",
       "3  A bladder diverticulum is a small pouch that f...          N32.3  \n",
       "4  A bladder diverticulum is a small pouch that f...          N32.3  "
      ]
     },
     "execution_count": 33,
     "metadata": {},
     "output_type": "execute_result"
    }
   ],
   "source": [
    "pfx_fewshot_output_df"
   ]
  },
  {
   "cell_type": "code",
   "execution_count": 34,
   "metadata": {},
   "outputs": [],
   "source": [
    "pfx_fewshot_outputs_icd10_labels = label_icd10s(pfx_fewshot_outputs_json)"
   ]
  },
  {
   "cell_type": "code",
   "execution_count": 35,
   "metadata": {},
   "outputs": [
    {
     "data": {
      "text/plain": [
       "['N32.3', 'N32.3', 'N32.3', 'N32.3', 'N32.3']"
      ]
     },
     "execution_count": 35,
     "metadata": {},
     "output_type": "execute_result"
    }
   ],
   "source": [
    "pfx_fewshot_outputs_icd10_labels"
   ]
  },
  {
   "cell_type": "code",
   "execution_count": 36,
   "metadata": {},
   "outputs": [],
   "source": [
    "# Initialize variables\n",
    "highest_grade = float('-inf')\n",
    "best_response = None\n",
    "grades_data = []  # List to temporarily store data for creating the DataFrame\n",
    "desired_reading_ease = sixth_grade\n",
    "\n",
    "for index, response in enumerate(pfx_fewshot_output_df):\n",
    "    # Create a temporary DataFrame for grading the current response\n",
    "    temp_df = pd.DataFrame([{\n",
    "        \"PFx\": response,  # Add PFx response\n",
    "        \"ICD10_code\": pfx_fewshot_output_df.loc[index, \"ICD10_code\"],  # Ensure ICD10_code is included\n",
    "        \"PFx_ICD10_code\": pfx_fewshot_output_df.loc[index, \"PFx_ICD10_code\"]  # Include PFx_ICD10_code if available\n",
    "    }])\n",
    "    \n",
    "    # Extract ICD-10 codes for the current response\n",
    "    icd10_codes = pfx_fewshot_outputs_icd10_labels[index]  # Directly assign the string value\n",
    "    temp_df[\"_0_icd10_codes\"] = icd10_codes  # Assign single value to the single row\n",
    "    \n",
    "    # Apply grading logic for ICD-10 matches\n",
    "    temp_df[\"_0_icd10_matches\"] = temp_df[\"ICD10_code\"] == temp_df[\"_0_icd10_codes\"]\n",
    "    temp_df[\"_0_pfx_icd10_matches\"] = temp_df[\"ICD10_code\"] == temp_df[\"PFx_ICD10_code\"]\n",
    "    temp_df[\"_0_flesch\"] = temp_df[\"PFx\"].apply(textstat.flesch_reading_ease)\n",
    "    \n",
    "    # Calculate accuracy scores\n",
    "    accuracy_icd10_matches = temp_df[\"_0_icd10_matches\"].mean()\n",
    "    accuracy_pfx_matches = temp_df[\"_0_pfx_icd10_matches\"].mean()\n",
    "\n",
    "    flesch_score = temp_df[\"_0_flesch\"].iloc[0]\n",
    "    \n",
    "    # Total number of ICD10 matches\n",
    "    total_icd10_matches = accuracy_icd10_matches + accuracy_pfx_matches\n",
    "\n",
    "    # Calculate readability score\n",
    "    readability_difference = abs(flesch_score - desired_reading_ease)\n",
    "\n",
    "    # Compute the overall score\n",
    "    overall_score = total_icd10_matches * 0.8  + 0.2 * (1/(readability_difference + 1))\n",
    "\n",
    "    # Store the grades for later DataFrame creation\n",
    "    grades_data.append({\n",
    "        \"response_index\": index,\n",
    "        \"accuracy_agent_icd10\": accuracy_icd10_matches,\n",
    "        \"accuracy_pfx_icd10\": accuracy_pfx_matches,\n",
    "        \"readability_score\": flesch_score,\n",
    "        \"readability_difference\": readability_difference,\n",
    "        \"overall_score\": overall_score\n",
    "    })\n",
    "    \n",
    "    # Check if this overall_score is the highest\n",
    "    if overall_score > highest_grade:\n",
    "        highest_grade = overall_score\n",
    "        best_response = response\n",
    "\n",
    "# Create the grades DataFrame from the collected data\n",
    "grades = pd.DataFrame(grades_data)\n",
    "\n"
   ]
  },
  {
   "cell_type": "code",
   "execution_count": 38,
   "metadata": {},
   "outputs": [
    {
     "data": {
      "text/html": [
       "<div>\n",
       "<style scoped>\n",
       "    .dataframe tbody tr th:only-of-type {\n",
       "        vertical-align: middle;\n",
       "    }\n",
       "\n",
       "    .dataframe tbody tr th {\n",
       "        vertical-align: top;\n",
       "    }\n",
       "\n",
       "    .dataframe thead th {\n",
       "        text-align: right;\n",
       "    }\n",
       "</style>\n",
       "<table border=\"1\" class=\"dataframe\">\n",
       "  <thead>\n",
       "    <tr style=\"text-align: right;\">\n",
       "      <th></th>\n",
       "      <th>response_index</th>\n",
       "      <th>accuracy_agent_icd10</th>\n",
       "      <th>accuracy_pfx_icd10</th>\n",
       "      <th>readability_score</th>\n",
       "      <th>readability_difference</th>\n",
       "      <th>overall_score</th>\n",
       "    </tr>\n",
       "  </thead>\n",
       "  <tbody>\n",
       "    <tr>\n",
       "      <th>0</th>\n",
       "      <td>0</td>\n",
       "      <td>1.0</td>\n",
       "      <td>1.0</td>\n",
       "      <td>36.62</td>\n",
       "      <td>48.38</td>\n",
       "      <td>1.604050</td>\n",
       "    </tr>\n",
       "    <tr>\n",
       "      <th>1</th>\n",
       "      <td>1</td>\n",
       "      <td>1.0</td>\n",
       "      <td>1.0</td>\n",
       "      <td>36.62</td>\n",
       "      <td>48.38</td>\n",
       "      <td>1.604050</td>\n",
       "    </tr>\n",
       "    <tr>\n",
       "      <th>2</th>\n",
       "      <td>2</td>\n",
       "      <td>1.0</td>\n",
       "      <td>1.0</td>\n",
       "      <td>121.22</td>\n",
       "      <td>36.22</td>\n",
       "      <td>1.605373</td>\n",
       "    </tr>\n",
       "    <tr>\n",
       "      <th>3</th>\n",
       "      <td>3</td>\n",
       "      <td>1.0</td>\n",
       "      <td>1.0</td>\n",
       "      <td>36.62</td>\n",
       "      <td>48.38</td>\n",
       "      <td>1.604050</td>\n",
       "    </tr>\n",
       "  </tbody>\n",
       "</table>\n",
       "</div>"
      ],
      "text/plain": [
       "   response_index  accuracy_agent_icd10  accuracy_pfx_icd10  \\\n",
       "0               0                   1.0                 1.0   \n",
       "1               1                   1.0                 1.0   \n",
       "2               2                   1.0                 1.0   \n",
       "3               3                   1.0                 1.0   \n",
       "\n",
       "   readability_score  readability_difference  overall_score  \n",
       "0              36.62                   48.38       1.604050  \n",
       "1              36.62                   48.38       1.604050  \n",
       "2             121.22                   36.22       1.605373  \n",
       "3              36.62                   48.38       1.604050  "
      ]
     },
     "execution_count": 38,
     "metadata": {},
     "output_type": "execute_result"
    }
   ],
   "source": [
    "grades"
   ]
  },
  {
   "cell_type": "markdown",
   "metadata": {},
   "source": [
    "Head,Chiari I malformation,Q07.0,\n",
    "Neck,Thyroid nodule,E04.1,\n",
    "Neck,Cervical lymphadenopathy,R59.0,\n",
    "Neck,Parotid gland cyst,K11.4,\n",
    "Neck,Carotid artery stenosis,I65.2,\n",
    "Neck,Cervical disc herniation,M50.20,\n",
    "Chest,Pulmonary nodule,R91.1,\n",
    "Chest,Mediastinal lymphadenopathy,R59.1,\n",
    "Chest,Hiatal hernia,K44.9,\n",
    "Chest,Coronary artery calcification,I25.10,\n",
    "Chest,Pericardial effusion,I31.3,\n",
    "Abdomen,Liver cyst,K76.89,\n",
    "Abdomen,Renal cyst,N28.1,\n",
    "Abdomen,Adrenal adenoma,D35.00,\n",
    "Abdomen,Pancreatic cyst,K86.2,\n",
    "Abdomen,Splenomegaly,R16.1,\n",
    "Pelvis,Ovarian cyst,N83.20,\n",
    "Pelvis,Uterine fibroid,D25.9,\n",
    "Pelvis,Prostatic hypertrophy,N40.0,\n",
    "Pelvis,Pelvic lymphadenopathy,R59.1,\n",
    "Pelvis,Bladder diverticulum,N32.3,"
   ]
  },
  {
   "cell_type": "code",
   "execution_count": null,
   "metadata": {},
   "outputs": [],
   "source": []
  }
 ],
 "metadata": {
  "kernelspec": {
   "display_name": "Python 3 (ipykernel)",
   "language": "python",
   "name": "python3"
  },
  "language_info": {
   "codemirror_mode": {
    "name": "ipython",
    "version": 3
   },
   "file_extension": ".py",
   "mimetype": "text/x-python",
   "name": "python",
   "nbconvert_exporter": "python",
   "pygments_lexer": "ipython3",
   "version": "3.12.5"
  }
 },
 "nbformat": 4,
 "nbformat_minor": 4
}
