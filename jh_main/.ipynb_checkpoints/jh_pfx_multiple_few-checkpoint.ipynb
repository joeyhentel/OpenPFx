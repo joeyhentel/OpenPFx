{
 "cells": [
  {
   "cell_type": "code",
   "execution_count": 1,
   "metadata": {},
   "outputs": [],
   "source": [
    "# import necessary libraries\n",
    "import pandas as pd\n",
    "import os\n",
    "import textstat\n",
    "from openai import OpenAI\n",
    "import json\n",
    "import re\n",
    "import requests\n",
    "from dotenv import load_dotenv"
   ]
  },
  {
   "cell_type": "code",
   "execution_count": 2,
   "metadata": {},
   "outputs": [],
   "source": [
    "# import prompts \n",
    "from jh_pfx_prompts import example, icd10_example, baseline_zeroshot_prompt, single_fewshot_prompt, single_fewshot_icd10_labeling_prompt"
   ]
  },
  {
   "cell_type": "code",
   "execution_count": 3,
   "metadata": {},
   "outputs": [],
   "source": [
    "os.environ['OPENAI_API_KEY'] = 'enter API key'"
   ]
  },
  {
   "cell_type": "code",
   "execution_count": 4,
   "metadata": {},
   "outputs": [],
   "source": [
    "# api key\n",
    "OPENAI_API_KEY = os.getenv('OPENAI_API_KEY')\n",
    "CLIENT = OpenAI(api_key = OPENAI_API_KEY)\n",
    "OPENAI_MODEL = \"gpt-4o\""
   ]
  },
  {
   "cell_type": "code",
   "execution_count": 5,
   "metadata": {},
   "outputs": [],
   "source": [
    "#reading levels\n",
    "PROFESSIONAL = \"Professional\"\n",
    "COLLEGE_GRADUATE = \"College Graduate\"\n",
    "COLLEGE = \"College\"\n",
    "TENTH_TO_TWELTH_GRADE = \"10th to 12th grade\"\n",
    "EIGTH_TO_NINTH_GRADE = \"8th to 9th grade\"\n",
    "SEVENTH_GRADE = \"7th grade\"\n",
    "SIXTH_GRADE = \"6th grade\"\n",
    "FIFTH_GRADE = \"5th grade\"\n",
    "N_A = \"N/A\""
   ]
  },
  {
   "cell_type": "code",
   "execution_count": 6,
   "metadata": {},
   "outputs": [],
   "source": [
    "# https://en.wikipedia.org/wiki/Flesch%E2%80%93Kincaid_readability_tests#Flesch_reading_ease\n",
    "def map_reading_level(flesch_reading_ease):\n",
    "    if flesch_reading_ease < 10:\n",
    "        return PROFESSIONAL\n",
    "    elif 10.0 <= flesch_reading_ease < 30.0:\n",
    "        return COLLEGE_GRADUATE\n",
    "    elif 30.0 <= flesch_reading_ease < 50.0:\n",
    "        return COLLEGE\n",
    "    elif 50.0 <= flesch_reading_ease < 60.0:\n",
    "        return TENTH_TO_TWELTH_GRADE\n",
    "    elif 60.0 <= flesch_reading_ease < 70.0:\n",
    "        return EIGTH_TO_NINTH_GRADE\n",
    "    elif 70.0 <= flesch_reading_ease < 80.0:\n",
    "        return SEVENTH_GRADE\n",
    "    elif 80.0 <= flesch_reading_ease < 90.0:\n",
    "        return SIXTH_GRADE\n",
    "    elif 90.0 <= flesch_reading_ease < 100.0:\n",
    "        return FIFTH_GRADE \n",
    "    else:\n",
    "        return N_A"
   ]
  },
  {
   "cell_type": "code",
   "execution_count": 7,
   "metadata": {},
   "outputs": [],
   "source": [
    "# reading ease variables\n",
    "fifth_grade = 95\n",
    "sixth_grade = 85\n",
    "seventh_grade = 75\n",
    "eigth_and_ninth_grade = 65\n",
    "tenth_to_twelfth_grade = 55\n",
    "college = 40\n",
    "college_graduate = 20\n",
    "professional = 5"
   ]
  },
  {
   "cell_type": "code",
   "execution_count": 8,
   "metadata": {},
   "outputs": [],
   "source": [
    "def adjust_difference(diff, threshold):\n",
    "    \"\"\"Adjust the readability difference based on the threshold.\"\"\"\n",
    "    if diff > threshold:\n",
    "        return diff - threshold\n",
    "    return 0"
   ]
  },
  {
   "cell_type": "code",
   "execution_count": 9,
   "metadata": {},
   "outputs": [],
   "source": [
    "# import fewshot examples\n",
    "df_fewshot = pd.read_csv('pfx_fewshot_examples_college.csv')"
   ]
  },
  {
   "cell_type": "code",
   "execution_count": 10,
   "metadata": {},
   "outputs": [],
   "source": [
    "# import evaluation data \n",
    "df_eval = pd.read_csv('pfx_evaluation_data.csv')"
   ]
  },
  {
   "cell_type": "code",
   "execution_count": 11,
   "metadata": {},
   "outputs": [],
   "source": [
    "def extract_json(openai_response):\n",
    "    if openai_response:  # Ensure the response is not None\n",
    "        # Directly search for JSON within the string response\n",
    "        json_match = re.search(r'```.*?(\\{.*?\\}).*?```', openai_response, re.DOTALL)\n",
    "        if json_match:\n",
    "            json_str = json_match.group(1)  # Extract JSON-like content\n",
    "            try:\n",
    "                # Convert extracted string to a JSON object\n",
    "                json_object = json.loads(json_str.replace('\\n', ''))\n",
    "                return json_object\n",
    "            except json.JSONDecodeError as e:\n",
    "                # Handle JSON decoding errors\n",
    "                print(\"JSON decoding failed: \", e)\n",
    "                return {}\n",
    "        else:\n",
    "            print(\"No JSON object found in the response.\")\n",
    "            return {}\n",
    "    else:\n",
    "        return None"
   ]
  },
  {
   "cell_type": "code",
   "execution_count": 12,
   "metadata": {},
   "outputs": [],
   "source": [
    "def label_icd10s(pfx_outputs_json):\n",
    "    labels = []\n",
    "    for response in pfx_outputs_json:\n",
    "        try:\n",
    "            # Directly get the ICD10_code from the dictionary\n",
    "            labels.append(response.get(\"ICD10_code\", \"Unknown\"))\n",
    "        except Exception as e:\n",
    "            print(f\"Error processing response: {e}\")\n",
    "            labels.append(\"Error\")\n",
    "    return labels"
   ]
  },
  {
   "cell_type": "code",
   "execution_count": 13,
   "metadata": {},
   "outputs": [
    {
     "data": {
      "text/plain": [
       "True"
      ]
     },
     "execution_count": 13,
     "metadata": {},
     "output_type": "execute_result"
    }
   ],
   "source": [
    "load_dotenv()"
   ]
  },
  {
   "cell_type": "code",
   "execution_count": 127,
   "metadata": {},
   "outputs": [],
   "source": [
    "pfx_fewshot_examples = \"\"\n",
    "for i, row in df_fewshot.iterrows():\n",
    "    pfx_fewshot_examples += example.format(**row)\n",
    "\n",
    "pfx_fewshot_outputs = []\n",
    "\n",
    "for run in range(5):\n",
    "    for i, row in df_eval.iloc[2:3].iterrows():\n",
    "        prompt = single_fewshot_prompt.format(\n",
    "            Examples=pfx_fewshot_examples,\n",
    "            Incidental_Finding=row[\"Incidental_Finding\"],\n",
    "            Reading_Level=SIXTH_GRADE\n",
    "        )\n",
    "        pfx_response = CLIENT.chat.completions.create(\n",
    "            model=OPENAI_MODEL,\n",
    "            temperature=0.0,\n",
    "            messages=[\n",
    "                {\"role\": \"system\", \"content\": \"You are a medical doctor rephrasing and explaining medical terminology to a patient in an understandable manner.\"},\n",
    "                {\"role\": \"user\", \"content\": prompt}\n",
    "            ],\n",
    "            stream=False,\n",
    "        )\n",
    "        # Corrected append\n",
    "        pfx_fewshot_outputs.append(pfx_response.choices[0].message.content)\n",
    "\n"
   ]
  },
  {
   "cell_type": "code",
   "execution_count": 128,
   "metadata": {},
   "outputs": [],
   "source": [
    "pfx_fewshot_outputs_json = list(map(extract_json, pfx_fewshot_outputs))"
   ]
  },
  {
   "cell_type": "code",
   "execution_count": 129,
   "metadata": {
    "scrolled": true
   },
   "outputs": [
    {
     "data": {
      "text/plain": [
       "[{'finding': 'Pituitary microadenoma',\n",
       "  'ICD10_code': 'D35.2',\n",
       "  'PFx': 'A pituitary microadenoma is a small, non-cancerous growth in the pituitary gland, which is a tiny organ at the base of the brain. These growths are often found by chance during imaging tests for other reasons. Most of the time, they do not cause any symptoms and do not need treatment. However, in some cases, they can affect hormone levels, which might lead to symptoms like headaches or vision changes. If you experience any symptoms, your doctor might suggest further tests to check hormone levels and discuss possible treatment options.',\n",
       "  'PFx_ICD10_code': 'D35.2'},\n",
       " {'finding': 'Pituitary microadenoma',\n",
       "  'ICD10_code': 'D35.2',\n",
       "  'PFx': 'A pituitary microadenoma is a small, non-cancerous growth in the pituitary gland, which is a tiny organ at the base of your brain. This gland makes hormones that help control many important functions in your body. Most of the time, these small growths do not cause any symptoms and are found by accident when you have a brain scan for another reason. Usually, they do not need any treatment. However, if the microadenoma starts to affect hormone levels or causes symptoms like headaches or vision problems, your doctor might suggest some tests or treatments to help manage it.',\n",
       "  'PFx_ICD10_code': 'D35.2'},\n",
       " {'finding': 'Pituitary microadenoma',\n",
       "  'ICD10_code': 'D35.2',\n",
       "  'PFx': 'A pituitary microadenoma is a small, non-cancerous growth in the pituitary gland, which is a tiny organ at the base of the brain. These growths are often found by accident during imaging tests for other reasons. Most of the time, they do not cause any symptoms and do not need treatment. However, if they do cause symptoms, it might be because they are affecting hormone levels in the body. In such cases, doctors may suggest monitoring hormone levels or other treatments to manage any symptoms that arise.',\n",
       "  'PFx_ICD10_code': 'D35.2'},\n",
       " {'finding': 'Pituitary microadenoma',\n",
       "  'ICD10_code': 'D35.2',\n",
       "  'PFx': 'A pituitary microadenoma is a small, non-cancerous growth in the pituitary gland, which is a tiny organ at the base of the brain. These growths are often found by chance during imaging tests for other reasons. Most of the time, they do not cause any symptoms and do not need treatment. However, in some cases, they can affect hormone levels, which might lead to symptoms like headaches or vision problems. If you experience any symptoms, your doctor might suggest further tests to check hormone levels and discuss possible treatment options.',\n",
       "  'PFx_ICD10_code': 'D35.2'},\n",
       " {'finding': 'Pituitary microadenoma',\n",
       "  'ICD10_code': 'D35.2',\n",
       "  'PFx': 'A pituitary microadenoma is a small, non-cancerous growth in the pituitary gland, which is a tiny organ at the base of the brain. These growths are often found by accident during imaging tests for other reasons. Most of the time, they do not cause any symptoms and do not need treatment. However, if they do cause symptoms, it might be because they are affecting hormone levels in the body. In such cases, doctors may suggest monitoring hormone levels or other treatments to manage any symptoms that arise.',\n",
       "  'PFx_ICD10_code': 'D35.2'}]"
      ]
     },
     "execution_count": 129,
     "metadata": {},
     "output_type": "execute_result"
    }
   ],
   "source": [
    "pfx_fewshot_outputs_json"
   ]
  },
  {
   "cell_type": "code",
   "execution_count": 130,
   "metadata": {},
   "outputs": [],
   "source": [
    "pfx_fewshot_output_df = pd.DataFrame(pfx_fewshot_outputs_json)"
   ]
  },
  {
   "cell_type": "code",
   "execution_count": 131,
   "metadata": {
    "scrolled": true
   },
   "outputs": [
    {
     "data": {
      "text/html": [
       "<div>\n",
       "<style scoped>\n",
       "    .dataframe tbody tr th:only-of-type {\n",
       "        vertical-align: middle;\n",
       "    }\n",
       "\n",
       "    .dataframe tbody tr th {\n",
       "        vertical-align: top;\n",
       "    }\n",
       "\n",
       "    .dataframe thead th {\n",
       "        text-align: right;\n",
       "    }\n",
       "</style>\n",
       "<table border=\"1\" class=\"dataframe\">\n",
       "  <thead>\n",
       "    <tr style=\"text-align: right;\">\n",
       "      <th></th>\n",
       "      <th>finding</th>\n",
       "      <th>ICD10_code</th>\n",
       "      <th>PFx</th>\n",
       "      <th>PFx_ICD10_code</th>\n",
       "    </tr>\n",
       "  </thead>\n",
       "  <tbody>\n",
       "    <tr>\n",
       "      <th>0</th>\n",
       "      <td>Pituitary microadenoma</td>\n",
       "      <td>D35.2</td>\n",
       "      <td>A pituitary microadenoma is a small, non-cance...</td>\n",
       "      <td>D35.2</td>\n",
       "    </tr>\n",
       "    <tr>\n",
       "      <th>1</th>\n",
       "      <td>Pituitary microadenoma</td>\n",
       "      <td>D35.2</td>\n",
       "      <td>A pituitary microadenoma is a small, non-cance...</td>\n",
       "      <td>D35.2</td>\n",
       "    </tr>\n",
       "    <tr>\n",
       "      <th>2</th>\n",
       "      <td>Pituitary microadenoma</td>\n",
       "      <td>D35.2</td>\n",
       "      <td>A pituitary microadenoma is a small, non-cance...</td>\n",
       "      <td>D35.2</td>\n",
       "    </tr>\n",
       "    <tr>\n",
       "      <th>3</th>\n",
       "      <td>Pituitary microadenoma</td>\n",
       "      <td>D35.2</td>\n",
       "      <td>A pituitary microadenoma is a small, non-cance...</td>\n",
       "      <td>D35.2</td>\n",
       "    </tr>\n",
       "    <tr>\n",
       "      <th>4</th>\n",
       "      <td>Pituitary microadenoma</td>\n",
       "      <td>D35.2</td>\n",
       "      <td>A pituitary microadenoma is a small, non-cance...</td>\n",
       "      <td>D35.2</td>\n",
       "    </tr>\n",
       "  </tbody>\n",
       "</table>\n",
       "</div>"
      ],
      "text/plain": [
       "                  finding ICD10_code  \\\n",
       "0  Pituitary microadenoma      D35.2   \n",
       "1  Pituitary microadenoma      D35.2   \n",
       "2  Pituitary microadenoma      D35.2   \n",
       "3  Pituitary microadenoma      D35.2   \n",
       "4  Pituitary microadenoma      D35.2   \n",
       "\n",
       "                                                 PFx PFx_ICD10_code  \n",
       "0  A pituitary microadenoma is a small, non-cance...          D35.2  \n",
       "1  A pituitary microadenoma is a small, non-cance...          D35.2  \n",
       "2  A pituitary microadenoma is a small, non-cance...          D35.2  \n",
       "3  A pituitary microadenoma is a small, non-cance...          D35.2  \n",
       "4  A pituitary microadenoma is a small, non-cance...          D35.2  "
      ]
     },
     "execution_count": 131,
     "metadata": {},
     "output_type": "execute_result"
    }
   ],
   "source": [
    "pfx_fewshot_output_df"
   ]
  },
  {
   "cell_type": "code",
   "execution_count": 132,
   "metadata": {},
   "outputs": [],
   "source": [
    "pfx_fewshot_outputs_icd10_labels = label_icd10s(pfx_fewshot_outputs_json)"
   ]
  },
  {
   "cell_type": "code",
   "execution_count": 133,
   "metadata": {},
   "outputs": [
    {
     "data": {
      "text/plain": [
       "['D35.2', 'D35.2', 'D35.2', 'D35.2', 'D35.2']"
      ]
     },
     "execution_count": 133,
     "metadata": {},
     "output_type": "execute_result"
    }
   ],
   "source": [
    "pfx_fewshot_outputs_icd10_labels"
   ]
  },
  {
   "cell_type": "code",
   "execution_count": 134,
   "metadata": {},
   "outputs": [],
   "source": [
    "# Initialize variables\n",
    "highest_grade = float('-inf')\n",
    "best_response = None\n",
    "grades_data = []  # List to temporarily store data for creating the DataFrame\n",
    "desired_reading_ease = sixth_grade\n",
    "\n",
    "for index, response in enumerate(pfx_fewshot_outputs_json):\n",
    "    # Create a temporary DataFrame for grading the current response\n",
    "    temp_df = pd.DataFrame([response])  # Wrap response in a list to simulate grading for one response\n",
    "    \n",
    "    # Extract ICD-10 codes for the current response\n",
    "    icd10_codes = pfx_fewshot_outputs_icd10_labels[index]  # Directly assign the string value\n",
    "    temp_df[\"_0_icd10_codes\"] = icd10_codes  # Assign single value to the single row\n",
    "    \n",
    "    # Apply grading logic for ICD-10 matches\n",
    "    temp_df[\"_0_icd10_matches\"] = temp_df.ICD10_code == temp_df[\"_0_icd10_codes\"]\n",
    "    temp_df[\"_0_pfx_icd10_matches\"] = temp_df.ICD10_code == temp_df[\"PFx_ICD10_code\"]\n",
    "    temp_df[\"_0_flesch\"] = temp_df[\"PFx\"].apply(textstat.flesch_reading_ease)\n",
    "    \n",
    "    # Calculate accuracy scores\n",
    "    accuracy_icd10_matches = sum(temp_df[\"_0_icd10_matches\"]) / len(temp_df.index)\n",
    "    accuracy_pfx_matches = sum(temp_df[\"_0_pfx_icd10_matches\"]) / len(temp_df.index)\n",
    "    \n",
    "    readability_score = temp_df[\"_0_flesch\"]\n",
    "    readability_difference = abs(readability_score - desired_reading_ease)\n",
    "    \n",
    "    # Calculate readability difference\n",
    "    if desired_reading_ease >= 55:\n",
    "        # If bigger than 5, subtract 5; otherwise set to 0\n",
    "        readability_difference = readability_difference.apply(lambda x: x - 5 if x > 5 else 0)\n",
    "        readability_difference_p = readability_difference / 10\n",
    "    elif desired_reading_ease >= 20:\n",
    "        # If bigger than 10, subtract 10; otherwise set to 0\n",
    "        readability_difference = readability_difference.apply(lambda x: x - 10 if x > 10 else 0)\n",
    "        readability_difference_p = readability_difference / 20\n",
    "\n",
    "    readability_difference_p_val = readability_difference_p.iloc[0]\n",
    "        \n",
    "    # Compute the overall score using adjusted weights\n",
    "    overall_score =  (accuracy_icd10_matches * 0.35) + (accuracy_pfx_matches * 0.35) - (readability_difference_p_val * 0.3)\n",
    "    \n",
    "    # Store the grades for later DataFrame creation\n",
    "    grades_data.append({\n",
    "        \"response_index\": index,\n",
    "        \"accuracy_agent_icd10\": accuracy_icd10_matches,\n",
    "        \"accuracy_pfx_icd10\": accuracy_pfx_matches,\n",
    "        \"readability_score\": readability_score,\n",
    "        \"readability_difference\": readability_difference,\n",
    "        \"overall_score\": overall_score\n",
    "    })\n",
    "    \n",
    "    # Check if this overall_score is the highest\n",
    "    if overall_score > highest_grade:\n",
    "        highest_grade = overall_score\n",
    "        best_response = response\n",
    "\n",
    "# Create the grades DataFrame from the collected data\n",
    "grades = pd.DataFrame(grades_data)\n"
   ]
  },
  {
   "cell_type": "code",
   "execution_count": 135,
   "metadata": {},
   "outputs": [
    {
     "data": {
      "text/html": [
       "<div>\n",
       "<style scoped>\n",
       "    .dataframe tbody tr th:only-of-type {\n",
       "        vertical-align: middle;\n",
       "    }\n",
       "\n",
       "    .dataframe tbody tr th {\n",
       "        vertical-align: top;\n",
       "    }\n",
       "\n",
       "    .dataframe thead th {\n",
       "        text-align: right;\n",
       "    }\n",
       "</style>\n",
       "<table border=\"1\" class=\"dataframe\">\n",
       "  <thead>\n",
       "    <tr style=\"text-align: right;\">\n",
       "      <th></th>\n",
       "      <th>response_index</th>\n",
       "      <th>accuracy_agent_icd10</th>\n",
       "      <th>accuracy_pfx_icd10</th>\n",
       "      <th>readability_score</th>\n",
       "      <th>readability_difference</th>\n",
       "      <th>overall_score</th>\n",
       "    </tr>\n",
       "  </thead>\n",
       "  <tbody>\n",
       "    <tr>\n",
       "      <th>0</th>\n",
       "      <td>0</td>\n",
       "      <td>1.0</td>\n",
       "      <td>1.0</td>\n",
       "      <td>0    70.13\n",
       "Name: _0_flesch, dtype: float64</td>\n",
       "      <td>0    9.87\n",
       "Name: _0_flesch, dtype: float64</td>\n",
       "      <td>0.4039</td>\n",
       "    </tr>\n",
       "    <tr>\n",
       "      <th>1</th>\n",
       "      <td>1</td>\n",
       "      <td>1.0</td>\n",
       "      <td>1.0</td>\n",
       "      <td>0    68.5\n",
       "Name: _0_flesch, dtype: float64</td>\n",
       "      <td>0    11.5\n",
       "Name: _0_flesch, dtype: float64</td>\n",
       "      <td>0.3550</td>\n",
       "    </tr>\n",
       "    <tr>\n",
       "      <th>2</th>\n",
       "      <td>2</td>\n",
       "      <td>1.0</td>\n",
       "      <td>1.0</td>\n",
       "      <td>0    70.73\n",
       "Name: _0_flesch, dtype: float64</td>\n",
       "      <td>0    9.27\n",
       "Name: _0_flesch, dtype: float64</td>\n",
       "      <td>0.4219</td>\n",
       "    </tr>\n",
       "    <tr>\n",
       "      <th>3</th>\n",
       "      <td>3</td>\n",
       "      <td>1.0</td>\n",
       "      <td>1.0</td>\n",
       "      <td>0    70.13\n",
       "Name: _0_flesch, dtype: float64</td>\n",
       "      <td>0    9.87\n",
       "Name: _0_flesch, dtype: float64</td>\n",
       "      <td>0.4039</td>\n",
       "    </tr>\n",
       "    <tr>\n",
       "      <th>4</th>\n",
       "      <td>4</td>\n",
       "      <td>1.0</td>\n",
       "      <td>1.0</td>\n",
       "      <td>0    70.73\n",
       "Name: _0_flesch, dtype: float64</td>\n",
       "      <td>0    9.27\n",
       "Name: _0_flesch, dtype: float64</td>\n",
       "      <td>0.4219</td>\n",
       "    </tr>\n",
       "  </tbody>\n",
       "</table>\n",
       "</div>"
      ],
      "text/plain": [
       "   response_index  accuracy_agent_icd10  accuracy_pfx_icd10  \\\n",
       "0               0                   1.0                 1.0   \n",
       "1               1                   1.0                 1.0   \n",
       "2               2                   1.0                 1.0   \n",
       "3               3                   1.0                 1.0   \n",
       "4               4                   1.0                 1.0   \n",
       "\n",
       "                            readability_score  \\\n",
       "0  0    70.13\n",
       "Name: _0_flesch, dtype: float64   \n",
       "1   0    68.5\n",
       "Name: _0_flesch, dtype: float64   \n",
       "2  0    70.73\n",
       "Name: _0_flesch, dtype: float64   \n",
       "3  0    70.13\n",
       "Name: _0_flesch, dtype: float64   \n",
       "4  0    70.73\n",
       "Name: _0_flesch, dtype: float64   \n",
       "\n",
       "                      readability_difference  overall_score  \n",
       "0  0    9.87\n",
       "Name: _0_flesch, dtype: float64         0.4039  \n",
       "1  0    11.5\n",
       "Name: _0_flesch, dtype: float64         0.3550  \n",
       "2  0    9.27\n",
       "Name: _0_flesch, dtype: float64         0.4219  \n",
       "3  0    9.87\n",
       "Name: _0_flesch, dtype: float64         0.4039  \n",
       "4  0    9.27\n",
       "Name: _0_flesch, dtype: float64         0.4219  "
      ]
     },
     "execution_count": 135,
     "metadata": {},
     "output_type": "execute_result"
    }
   ],
   "source": [
    "grades"
   ]
  },
  {
   "cell_type": "code",
   "execution_count": null,
   "metadata": {},
   "outputs": [],
   "source": []
  }
 ],
 "metadata": {
  "kernelspec": {
   "display_name": "Python 3 (ipykernel)",
   "language": "python",
   "name": "python3"
  },
  "language_info": {
   "codemirror_mode": {
    "name": "ipython",
    "version": 3
   },
   "file_extension": ".py",
   "mimetype": "text/x-python",
   "name": "python",
   "nbconvert_exporter": "python",
   "pygments_lexer": "ipython3",
   "version": "3.12.5"
  }
 },
 "nbformat": 4,
 "nbformat_minor": 4
}
