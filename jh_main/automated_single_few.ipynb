{
 "cells": [
  {
   "cell_type": "code",
   "execution_count": null,
   "id": "391a1967-84f4-491d-83ce-39693abd0d21",
   "metadata": {},
   "outputs": [],
   "source": [
    "# import necessary libraries\n",
    "import pandas as pd\n",
    "import os\n",
    "import textstat\n",
    "from openai import OpenAI\n",
    "import json\n",
    "import re\n",
    "import requests\n",
    "from dotenv import load_dotenv\n",
    "import math\n",
    "from IPython.display import FileLink"
   ]
  },
  {
   "cell_type": "code",
   "execution_count": null,
   "id": "1f90ea4d-b561-4c59-a8c9-abd2893529d9",
   "metadata": {},
   "outputs": [],
   "source": [
    "# import prompts \n",
    "from jh_pfx_prompts import example, icd10_example, baseline_zeroshot_prompt, single_fewshot_prompt, single_fewshot_icd10_labeling_prompt"
   ]
  },
  {
   "cell_type": "code",
   "execution_count": null,
   "id": "02f5bd62-6615-4305-9d97-6077fed678cf",
   "metadata": {},
   "outputs": [],
   "source": [
    "os.environ['OPENAI_API_KEY'] = ''"
   ]
  },
  {
   "cell_type": "code",
   "execution_count": null,
   "id": "cb2f3945-cb31-41d1-9394-096b49d5e32e",
   "metadata": {},
   "outputs": [],
   "source": [
    "# api key\n",
    "OPENAI_API_KEY = os.getenv('OPENAI_API_KEY')\n",
    "CLIENT = OpenAI(api_key = OPENAI_API_KEY)\n",
    "OPENAI_MODEL = \"gpt-4o\""
   ]
  },
  {
   "cell_type": "code",
   "execution_count": null,
   "id": "94a19a33-ca9f-492f-b957-11683c6519c0",
   "metadata": {},
   "outputs": [],
   "source": [
    "#reading levels\n",
    "PROFESSIONAL = \"Professional\"\n",
    "COLLEGE_GRADUATE = \"College Graduate\"\n",
    "COLLEGE = \"College\"\n",
    "TENTH_TO_TWELTH_GRADE = \"10th to 12th grade\"\n",
    "EIGTH_TO_NINTH_GRADE = \"8th to 9th grade\"\n",
    "SEVENTH_GRADE = \"7th grade\"\n",
    "SIXTH_GRADE = \"6th grade\"\n",
    "FIFTH_GRADE = \"5th grade\"\n",
    "N_A = \"N/A\""
   ]
  },
  {
   "cell_type": "code",
   "execution_count": null,
   "id": "b0271a1e-dbdb-461b-a2a2-aed6bd255030",
   "metadata": {},
   "outputs": [],
   "source": [
    "# https://en.wikipedia.org/wiki/Flesch%E2%80%93Kincaid_readability_tests#Flesch_reading_ease\n",
    "def map_reading_level(flesch_reading_ease):\n",
    "    if flesch_reading_ease < 10:\n",
    "        return PROFESSIONAL\n",
    "    elif 10.0 <= flesch_reading_ease < 30.0:\n",
    "        return COLLEGE_GRADUATE\n",
    "    elif 30.0 <= flesch_reading_ease < 50.0:\n",
    "        return COLLEGE\n",
    "    elif 50.0 <= flesch_reading_ease < 60.0:\n",
    "        return TENTH_TO_TWELTH_GRADE\n",
    "    elif 60.0 <= flesch_reading_ease < 70.0:\n",
    "        return EIGTH_TO_NINTH_GRADE\n",
    "    elif 70.0 <= flesch_reading_ease < 80.0:\n",
    "        return SEVENTH_GRADE\n",
    "    elif 80.0 <= flesch_reading_ease < 90.0:\n",
    "        return SIXTH_GRADE\n",
    "    elif 90.0 <= flesch_reading_ease < 100.0:\n",
    "        return FIFTH_GRADE \n",
    "    else:\n",
    "        return N_A"
   ]
  },
  {
   "cell_type": "code",
   "execution_count": null,
   "id": "355c50c1-ea0c-418f-b36d-0eeca024f725",
   "metadata": {},
   "outputs": [],
   "source": [
    "# reading ease variables\n",
    "fifth_grade = 95\n",
    "sixth_grade = 85\n",
    "seventh_grade = 75\n",
    "eigth_and_ninth_grade = 65\n",
    "tenth_to_twelfth_grade = 55\n",
    "college = 40\n",
    "college_graduate = 20\n",
    "professional = 5"
   ]
  },
  {
   "cell_type": "code",
   "execution_count": null,
   "id": "bf881057-e234-43de-b04e-fe1eda6a5257",
   "metadata": {},
   "outputs": [],
   "source": [
    "def adjust_difference(diff, threshold):\n",
    "    \"\"\"Adjust the readability difference based on the threshold.\"\"\"\n",
    "    if diff > threshold:\n",
    "        return diff - threshold\n",
    "    return 0"
   ]
  },
  {
   "cell_type": "code",
   "execution_count": null,
   "id": "ccd908ff-0ab8-4e1d-b797-770ca380136c",
   "metadata": {},
   "outputs": [],
   "source": [
    "# import fewshot examples\n",
    "df_fewshot = pd.read_csv('pfx_fewshot_examples_college.csv')"
   ]
  },
  {
   "cell_type": "code",
   "execution_count": null,
   "id": "aec7e063-23ee-46f7-b3e9-2249a5ebeb8b",
   "metadata": {},
   "outputs": [],
   "source": [
    "# import evaluation data \n",
    "df_eval = pd.read_csv('pfx_evaluation_data.csv', nrows = 3)"
   ]
  },
  {
   "cell_type": "code",
   "execution_count": null,
   "id": "b7bfb072-b8b1-4aa9-9e9f-f6a797c895af",
   "metadata": {},
   "outputs": [],
   "source": [
    "# extract the json from openai\n",
    "def extract_json(openai_response):\n",
    "    if openai_response:  # Ensure the response is not None\n",
    "        try:\n",
    "            # Extract content from response object\n",
    "            content = openai_response.message.content\n",
    "            \n",
    "            # Search for JSON within the content\n",
    "            json_match = re.search(r'```json\\n(.*?)\\n```', content, re.DOTALL)\n",
    "            if json_match:\n",
    "                json_str = json_match.group(1)\n",
    "                return json.loads(json_str)  # Parse JSON string to Python dict\n",
    "            else:\n",
    "                print(\"No JSON found in response content.\")\n",
    "                return None\n",
    "        except AttributeError as e:\n",
    "            print(f\"Attribute error: {e}. Ensure the input is a valid response object.\")\n",
    "            return None\n",
    "    else:\n",
    "        return None"
   ]
  },
  {
   "cell_type": "code",
   "execution_count": null,
   "id": "0f209f6a-f72c-4879-8297-2a390b2fda94",
   "metadata": {},
   "outputs": [],
   "source": [
    "def label_icd10s(pfx_output):\n",
    "    \"\"\"\n",
    "    Takes a single PFx response (string or JSON) and returns\n",
    "    a labeled ICD-10 result as a Python dictionary (or object).\n",
    "    \"\"\"\n",
    "\n",
    "    # Build up the few-shot examples for ICD-10 labeling\n",
    "    pfx_icd10_fewshot_examples = \"\"\n",
    "    for i, row in df_fewshot.iterrows():\n",
    "        pfx_icd10_fewshot_examples += icd10_example.format(**row)\n",
    "\n",
    "    # Generate the prompt for ICD-10 labeling\n",
    "    # (Adjust the '{PFx}' if pfx_output is a dictionary with a specific key you need)\n",
    "    prompt = single_fewshot_icd10_labeling_prompt.format(\n",
    "        examples=pfx_icd10_fewshot_examples,\n",
    "        PFx=pfx_output  # or PFx=pfx_output['key'] if needed\n",
    "    )\n",
    "\n",
    "    # Call the model to get ICD-10 codes\n",
    "    pfx_icd10_response = CLIENT.chat.completions.create(\n",
    "        model=OPENAI_MODEL,\n",
    "        temperature=0.0,\n",
    "        messages=[\n",
    "            {\n",
    "                \"role\": \"system\",\n",
    "                \"content\": \"You are an ICD10 medical coder for incidental findings. Always respond with a valid JSON object containing the ICD-10 code and its explanation.\"\n",
    "            },\n",
    "            {\n",
    "                \"role\": \"system\",\n",
    "                \"content\": prompt\n",
    "            }\n",
    "        ],\n",
    "        stream=False,\n",
    "    )\n",
    "\n",
    "    # Extract the JSON structure (or dictionary) from the LLM response\n",
    "    labeled_result = extract_json(pfx_icd10_response.choices[0])\n",
    "\n",
    "    return labeled_result"
   ]
  },
  {
   "cell_type": "code",
   "execution_count": null,
   "id": "937972cb-88a3-4626-8cf9-1a729eb581fb",
   "metadata": {},
   "outputs": [],
   "source": [
    "results_df = pd.DataFrame(columns = [\"finding\", \"ICD10_code\", \"PFx\", \"PFx_ICD10_code\"])\n",
    "\n",
    "pfx_fewshot_examples = \"\"\n",
    "for i, row in df_fewshot.iterrows():\n",
    "    pfx_fewshot_examples += example.format(**row)\n",
    "\n",
    "# generate PFx for each row in df_eval\n",
    "for i, row in df_eval.iterrows():\n",
    "    prompt = single_fewshot_prompt.format(Examples = pfx_fewshot_examples, Incidental_Finding = row['Incidental_Finding'], Reading_Level = SIXTH_GRADE)\n",
    "    \n",
    "    pfx_response = CLIENT.chat.completions.create(\n",
    "    model = OPENAI_MODEL,\n",
    "    temperature = 0.0,\n",
    "    messages = [\n",
    "        {\"role\": \"system\", \"content\": \"You are a md doctor rephrasing and explaining medical terminology to a patient in an understandable manor.\"},\n",
    "        {\"role\": \"system\", \"content\": prompt}\n",
    "    ],\n",
    "    stream = False,\n",
    "    )\n",
    "\n",
    "    # convert response into JSON format \n",
    "    extracted_response = extract_json(pfx_response.choices[0])\n",
    "\n",
    "    # add response to results dataframe \n",
    "    results_df.loc[i] =  extracted_response\n"
   ]
  },
  {
   "cell_type": "code",
   "execution_count": null,
   "id": "08c41d93-86ef-445c-8ef3-a04080e0b24a",
   "metadata": {},
   "outputs": [],
   "source": [
    "results_df "
   ]
  },
  {
   "cell_type": "code",
   "execution_count": null,
   "id": "d1e9eead-a907-4989-8d2b-5cf8b13671da",
   "metadata": {},
   "outputs": [],
   "source": [
    "# Create a new list to store the labeled ICD10 responses\n",
    "labeled_icd10_responses = []\n",
    "\n",
    "# Iterate over each response in results and apply label_icd10s functions \n",
    "for response in results_df['PFx']:\n",
    "    labeled_icd10_responses.append(label_icd10s(response))"
   ]
  },
  {
   "cell_type": "code",
   "execution_count": null,
   "id": "624253d9-183d-4e8e-8c36-25f721247e41",
   "metadata": {},
   "outputs": [],
   "source": [
    "# Create lists to store the results\n",
    "agent_icd10_codes = []\n",
    "icd10_matches = []\n",
    "pfx_icd10_matches = []\n",
    "flesch_scores = []\n",
    "\n",
    "agent_icd10_codes.extend([list(x.values())[0] if x else \"\" for x in labeled_icd10_responses])\n",
    "\n",
    "for index, row in results_df.iterrows():\n",
    "    # Compare to the \"ICD10_code\" in your DataFrame (if it exists)\n",
    "    agent_icd10_code = agent_icd10_codes[index]\n",
    "    icd10_match = (row[\"ICD10_code\"] == agent_icd10_code)\n",
    "    icd10_matches.append(icd10_match)\n",
    "\n",
    "    # compare \n",
    "    pfx_icd10_match = (row[\"PFx_ICD10_code\"] == row[\"ICD10_code\"])\n",
    "    pfx_icd10_matches.append(pfx_icd10_match)\n",
    "\n",
    "    # Calculate the Flesch Reading Ease score\n",
    "    flesch_score = textstat.flesch_reading_ease(row['PFx'])\n",
    "    flesch_scores.append(flesch_score)\n",
    "\n",
    "# Add the results to the DataFrame\n",
    "results_df['_0_agent_icd10_codes'] = agent_icd10_codes\n",
    "results_df['_0_icd10_matches'] = icd10_matches\n",
    "results_df['_0_pfx_icd10_matches'] = pfx_icd10_matches\n",
    "results_df['_0_flesch'] = flesch_scores"
   ]
  },
  {
   "cell_type": "code",
   "execution_count": null,
   "id": "931950b0-dea4-494d-8bbf-28c4276e3a4a",
   "metadata": {},
   "outputs": [],
   "source": [
    "desired_reading_ease = sixth_grade\n",
    "\n",
    "# Create lists to store the results\n",
    "accuracy_icd10_matches_list = []\n",
    "accuracy_pfx_matches_list = []\n",
    "readability_difference_list = []\n",
    "overall_score_list = []\n",
    "\n",
    "# Iterate over each row in the DataFrame\n",
    "for index, row in results_df.iterrows():\n",
    "    # Calculate accuracy score\n",
    "    accuracy_icd10_matches = row[\"_0_icd10_matches\"]\n",
    "    accuracy_pfx_matches = row[\"_0_pfx_icd10_matches\"]\n",
    "    flesch_score = row[\"_0_flesch\"]\n",
    "\n",
    "    # total number of icd10 matches\n",
    "    total_icd10_matches = accuracy_icd10_matches + accuracy_pfx_matches\n",
    "\n",
    "    # Adjust weights for overall score\n",
    "    # Calculate readability score \n",
    "    readability_score = flesch_score\n",
    "    readability_difference = abs(readability_score - desired_reading_ease)\n",
    "\n",
    "    # Compute the overall score\n",
    "    overall_score = total_icd10_matches * 0.8  + 0.2 * (1/(readability_difference + 1))\n",
    "\n",
    "    # Append results to lists\n",
    "    accuracy_icd10_matches_list.append(float(accuracy_icd10_matches))\n",
    "    accuracy_pfx_matches_list.append(float(accuracy_pfx_matches))\n",
    "    readability_difference_list.append(float(readability_difference))\n",
    "    overall_score_list.append(float(overall_score))\n",
    "\n",
    "# Create a DataFrame with the results\n",
    "grades_data = {\n",
    "    \"accuracy_agent_icd10\": accuracy_icd10_matches_list,\n",
    "    \"accuracy_pfx_icd10\": accuracy_pfx_matches_list,\n",
    "    \"readability_difference\": readability_difference_list,\n",
    "    \"overall_score\": overall_score_list\n",
    "}\n",
    "grades = pd.DataFrame(grades_data)\n",
    "results_df = pd.concat([results_df, grades], axis=1)"
   ]
  },
  {
   "cell_type": "code",
   "execution_count": null,
   "id": "30dc0f34-79be-40b6-8e21-2c4147c93322",
   "metadata": {},
   "outputs": [],
   "source": [
    "results_df.head()"
   ]
  },
  {
   "cell_type": "code",
   "execution_count": null,
   "id": "c59f708a-e26e-40e1-8911-1cf47ae729f1",
   "metadata": {},
   "outputs": [],
   "source": [
    "results_df.to_csv('PFx_single_few.csv', index = false)"
   ]
  },
  {
   "cell_type": "code",
   "execution_count": null,
   "id": "a981f3d3-bdd9-47f6-b170-007172d2efea",
   "metadata": {},
   "outputs": [],
   "source": [
    "FileLink('PFx_single_few.csv')"
   ]
  }
 ],
 "metadata": {
  "kernelspec": {
   "display_name": "Python 3 (ipykernel)",
   "language": "python",
   "name": "python3"
  },
  "language_info": {
   "codemirror_mode": {
    "name": "ipython",
    "version": 3
   },
   "file_extension": ".py",
   "mimetype": "text/x-python",
   "name": "python",
   "nbconvert_exporter": "python",
   "pygments_lexer": "ipython3",
   "version": "3.12.5"
  }
 },
 "nbformat": 4,
 "nbformat_minor": 5
}
